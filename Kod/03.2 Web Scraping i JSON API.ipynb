{
 "cells": [
  {
   "cell_type": "code",
   "execution_count": null,
   "metadata": {},
   "outputs": [],
   "source": [
    "from IPython.display import display, HTML; display(HTML(\"<style>.container { width:90% !important; }</style>\")) "
   ]
  },
  {
   "cell_type": "markdown",
   "metadata": {},
   "source": [
    "# Web scraping i JSON API"
   ]
  },
  {
   "cell_type": "markdown",
   "metadata": {},
   "source": [
    "Do scrapingu danych z internetu korzystamy z dwóch bibliotek, które pozwalają na:\n",
    "\n",
    "1. Wysyłanie zapytań HTTP w programie Pythona (zamiast w przeglądarce) - `requests`\n",
    "2. Interpretację odpowiedzi HTTP tak aby ułatwić jej przeszukiwanie - `bs4` (`BeautifulSoup`)"
   ]
  },
  {
   "cell_type": "code",
   "execution_count": null,
   "metadata": {},
   "outputs": [],
   "source": [
    "import requests\n",
    "from bs4 import BeautifulSoup"
   ]
  },
  {
   "cell_type": "markdown",
   "metadata": {},
   "source": [
    "## Środowisko do nauki scrapingu"
   ]
  },
  {
   "cell_type": "markdown",
   "metadata": {},
   "source": [
    "https://toscrape.com/\n",
    "\n",
    "oraz podstrony:\n",
    "\n",
    "https://quotes.toscrape.com/\n",
    "\n",
    "https://books.toscrape.com/"
   ]
  },
  {
   "cell_type": "markdown",
   "metadata": {},
   "source": [
    "## Podstawowe komendy\n",
    "\n",
    "### Pobieranie kodu HTML"
   ]
  },
  {
   "cell_type": "code",
   "execution_count": null,
   "metadata": {
    "scrolled": true
   },
   "outputs": [],
   "source": [
    "quotes_url = \"https://quotes.toscrape.com/\"\n",
    "\n",
    "response = requests.get(quotes_url)\n",
    "response"
   ]
  },
  {
   "cell_type": "code",
   "execution_count": null,
   "metadata": {},
   "outputs": [],
   "source": [
    "print(response.text)"
   ]
  },
  {
   "cell_type": "code",
   "execution_count": null,
   "metadata": {},
   "outputs": [],
   "source": [
    "type(response.text)"
   ]
  },
  {
   "cell_type": "code",
   "execution_count": null,
   "metadata": {},
   "outputs": [],
   "source": [
    "soup = BeautifulSoup(response.text, 'html.parser')\n",
    "soup"
   ]
  },
  {
   "cell_type": "code",
   "execution_count": null,
   "metadata": {},
   "outputs": [],
   "source": [
    "type(soup)"
   ]
  },
  {
   "cell_type": "markdown",
   "metadata": {},
   "source": [
    "### Parsowanie kodu HTML\n",
    "\n",
    "#### Ekstrakcja tekstu wewnątrz znaczników HTML"
   ]
  },
  {
   "cell_type": "code",
   "execution_count": null,
   "metadata": {},
   "outputs": [],
   "source": [
    "soup.find(\"a\")"
   ]
  },
  {
   "cell_type": "code",
   "execution_count": null,
   "metadata": {
    "scrolled": true
   },
   "outputs": [],
   "source": [
    "soup.find_all(\"a\")"
   ]
  },
  {
   "cell_type": "code",
   "execution_count": null,
   "metadata": {},
   "outputs": [],
   "source": [
    "len(soup.find_all(\"a\"))"
   ]
  },
  {
   "cell_type": "code",
   "execution_count": null,
   "metadata": {},
   "outputs": [],
   "source": [
    "first_anchor_tag = soup.find(\"a\")\n",
    "first_anchor_tag"
   ]
  },
  {
   "cell_type": "code",
   "execution_count": null,
   "metadata": {},
   "outputs": [],
   "source": [
    "page_header = first_anchor_tag.text\n",
    "page_header"
   ]
  },
  {
   "cell_type": "markdown",
   "metadata": {},
   "source": [
    "---"
   ]
  },
  {
   "cell_type": "code",
   "execution_count": null,
   "metadata": {},
   "outputs": [],
   "source": [
    "soup.find(\"h1\") #.find(\"a\")"
   ]
  },
  {
   "cell_type": "markdown",
   "metadata": {},
   "source": [
    "#### Doprecyzowanie znacznika poprzez podanie klasy"
   ]
  },
  {
   "cell_type": "code",
   "execution_count": null,
   "metadata": {
    "scrolled": true
   },
   "outputs": [],
   "source": [
    "soup.find_all(\"a\", class_=\"tag\")   # oprócz klasy można podawać też inne atrybuty, np. id"
   ]
  },
  {
   "cell_type": "markdown",
   "metadata": {},
   "source": [
    "#### Wyciąganie wartości atrybutów"
   ]
  },
  {
   "cell_type": "code",
   "execution_count": null,
   "metadata": {},
   "outputs": [],
   "source": [
    "soup.find_all(\"a\")[3]"
   ]
  },
  {
   "cell_type": "code",
   "execution_count": null,
   "metadata": {},
   "outputs": [],
   "source": [
    "soup.find_all(\"a\")[3].attrs"
   ]
  },
  {
   "cell_type": "code",
   "execution_count": null,
   "metadata": {},
   "outputs": [],
   "source": [
    "soup.find_all(\"a\")[3].attrs[\"href\"]"
   ]
  },
  {
   "cell_type": "code",
   "execution_count": null,
   "metadata": {},
   "outputs": [],
   "source": [
    "soup.find_all(\"a\")[3].attrs[\"class\"]"
   ]
  },
  {
   "cell_type": "code",
   "execution_count": null,
   "metadata": {},
   "outputs": [],
   "source": [
    "soup.find_all(\"a\")[3][\"class\"]"
   ]
  },
  {
   "cell_type": "markdown",
   "metadata": {},
   "source": [
    "#### Szukanie elementów na podstawie dowolnych atrybutów"
   ]
  },
  {
   "cell_type": "code",
   "execution_count": null,
   "metadata": {},
   "outputs": [],
   "source": [
    "soup.find_all(\"div\", {'itemtype': 'http://schema.org/CreativeWork'})"
   ]
  },
  {
   "cell_type": "code",
   "execution_count": null,
   "metadata": {},
   "outputs": [],
   "source": [
    "soup.find_all(\"div\", {'class': 'quote'})"
   ]
  },
  {
   "cell_type": "markdown",
   "metadata": {},
   "source": [
    "#### Narzędzia developerskie - devtools"
   ]
  },
  {
   "cell_type": "markdown",
   "metadata": {},
   "source": [
    "Aby poznać strukturę kodu HTML jeszcze przed scrapingiem wykorzystajmy narządzia developerskie (devtoolsy) "
   ]
  },
  {
   "cell_type": "markdown",
   "metadata": {},
   "source": [
    "### Podsumowanie podstawowych poleceń poleceń\n",
    "#### Pobieranie i parsowanie HTML"
   ]
  },
  {
   "cell_type": "code",
   "execution_count": null,
   "metadata": {},
   "outputs": [],
   "source": [
    "url = \"https://example.org\"\n",
    "\n",
    "response = requests.get(url)\n",
    "soup = BeautifulSoup(response.text, 'html.parser')"
   ]
  },
  {
   "cell_type": "markdown",
   "metadata": {},
   "source": [
    "#### Przeszukiwanie kodu HTML"
   ]
  },
  {
   "cell_type": "code",
   "execution_count": null,
   "metadata": {},
   "outputs": [],
   "source": [
    "soup.find(\"div\")                     # znajdź pierwszy znacznik 'div' jaki napotkasz\n",
    "soup.find_all(\"a\")                   # znajdź wszystkie znaczniki 'a'\n",
    "soup.find_all(\"a\", \"class_name\")     # znajdź wszystkie znaczniki 'a' z klasą class_name\n",
    "soup.find_all(\"p\")[3].text           # spośród wszystkich znaczników 'p' weź ten o indeksie 3 i wyciągnij jego zawartość\n",
    "soup.find(\"span\").attrs[\"class\"]     # znajdź pierwszy znacznik 'span' i wyciągnij nazwę jego klasy\n",
    "soup.find(\"h1\").find(\"a\")            # znajdź znacznik \"a\" wewnątrz znacznika \"h1\""
   ]
  },
  {
   "cell_type": "markdown",
   "metadata": {},
   "source": [
    "### Czas na samodzielne przyswojenie wiedzy\n",
    "Zanim przejdziemy dalej poświęćmy 10 minut na samodzielne eksperymenty oraz ewentualne pytania"
   ]
  },
  {
   "cell_type": "markdown",
   "metadata": {},
   "source": [
    "## Pobieranie cytatów - zadania rozgrzewkowe\n",
    "### Treść pojedynczego cytatu\n",
    "Wyciągnijmy treść pojedynczego cytatu.\n",
    "\n",
    "Aby wiedzieć czego dokładnie szukamy w kodzie HTML użyjemy devtoolsów przeglądarki."
   ]
  },
  {
   "cell_type": "code",
   "execution_count": null,
   "metadata": {},
   "outputs": [],
   "source": [
    "quotes_url = \"https://quotes.toscrape.com/\"\n",
    "response = requests.get(quotes_url)\n",
    "soup = BeautifulSoup(response.text, 'html.parser')"
   ]
  },
  {
   "cell_type": "code",
   "execution_count": null,
   "metadata": {},
   "outputs": [],
   "source": [
    "# Wyciągnijmy pierwszy (zerowy) cytat i zapiszmy go do zmiennej\n",
    "quote = soup.find_all(\"div\", class_=\"quote\")[0]\n",
    "quote"
   ]
  },
  {
   "cell_type": "code",
   "execution_count": null,
   "metadata": {},
   "outputs": [],
   "source": [
    "# Wychodząc od tego cytatu szukajmy dalej - treść cytatu znajduje się w znaczniku 'span'\n",
    "text = quote.find(\"span\", class_=\"text\").text\n",
    "text"
   ]
  },
  {
   "cell_type": "code",
   "execution_count": null,
   "metadata": {},
   "outputs": [],
   "source": [
    "# możemy również zrobić to krócej - jednak nie zawsze bezpośrednie odwołanie zadziała i jeśli element jest bardzo zagnieżdżony należy wyszukiwać go po kolei\n",
    "\n",
    "soup.find(\"span\", \"text\").text   "
   ]
  },
  {
   "cell_type": "markdown",
   "metadata": {},
   "source": [
    "### Lista list tagów"
   ]
  },
  {
   "cell_type": "markdown",
   "metadata": {},
   "source": [
    "Stwórzmy listę, której elementy będą odpowiadały kolejnym cytatom. Każdy element to lista tagów w danym cytacie"
   ]
  },
  {
   "cell_type": "code",
   "execution_count": null,
   "metadata": {},
   "outputs": [],
   "source": [
    "nested_list_of_tags = []                               # chcemy żeby wyglądało to tak: [[tag1, tag2, tag3], [tag2, tag4], ..., [tag5, tag1, tag6]]\n",
    "\n",
    "for quote in soup.find_all(\"div\", class_=\"quote\"):     # pętla po wszystkich cytatach\n",
    "    nested_list_of_tags.append([])                     # kazdy kolejny cytat to nowa wewnętrzna lista (lista tagów)\n",
    "    \n",
    "    for tag in quote.find_all(\"a\", class_=\"tag\"):      # pętla po wszystkich tagach w obrębie cytatu\n",
    "        nested_list_of_tags[-1].append(tag.text)       # każdy tag danego cytatu dodajemy do wewnętrznej listy"
   ]
  },
  {
   "cell_type": "code",
   "execution_count": null,
   "metadata": {},
   "outputs": [],
   "source": [
    "nested_list_of_tags"
   ]
  },
  {
   "cell_type": "markdown",
   "metadata": {},
   "source": [
    "### Lista list tagów z kilku podstron"
   ]
  },
  {
   "cell_type": "markdown",
   "metadata": {},
   "source": [
    "Cytaty znajdują się na kolejnych podstronach. Przejdźmy do następnej strony i pobierzmy kolejne. "
   ]
  },
  {
   "cell_type": "code",
   "execution_count": null,
   "metadata": {},
   "outputs": [],
   "source": [
    "nested_list_of_tags = []\n",
    "\n",
    "for i in range(5):                                         # pętla po kilku podstronach\n",
    "    for quote in soup.find_all(\"div\", class_=\"quote\"):\n",
    "        nested_list_of_tags.append([])\n",
    "    \n",
    "        for tag in quote.find_all(\"a\", class_=\"tag\"):\n",
    "            nested_list_of_tags[-1].append(tag.text)\n",
    "        \n",
    "    # Zebraliśmy już wszystkie informacje na tej podstronie. Przejdźmy teraz do następnej\n",
    "    sub_url = soup.find(\"li\", class_=\"next\").find(\"a\").attrs[\"href\"]\n",
    "    next_page_url = quotes_url + sub_url\n",
    "    response = requests.get(next_page_url)\n",
    "    soup = BeautifulSoup(response.text, 'html.parser')"
   ]
  },
  {
   "cell_type": "code",
   "execution_count": null,
   "metadata": {
    "scrolled": true
   },
   "outputs": [],
   "source": [
    "nested_list_of_tags"
   ]
  },
  {
   "cell_type": "markdown",
   "metadata": {},
   "source": [
    "### Więcej informacji o cytatach - tekst, autor oraz lista tagów"
   ]
  },
  {
   "cell_type": "markdown",
   "metadata": {},
   "source": [
    "Utwórzmy strukturę danych, w której przechowamy zarówno tekst jak i autora oraz tagi poszczególnych cytatów.\n",
    "\n",
    "`[{\"text\": \"text of the quote\", \"author\": \"Quote Author\", \"tags\": [\"tag1\", \"tag2\", \"tag3\"]},\n",
    " ...\n",
    " ]`"
   ]
  },
  {
   "cell_type": "code",
   "execution_count": null,
   "metadata": {},
   "outputs": [],
   "source": [
    "quotes_url = \"https://quotes.toscrape.com/\"\n",
    "response = requests.get(quotes_url)\n",
    "soup = BeautifulSoup(response.text, 'html.parser')\n",
    "\n",
    "quotes_list = []\n",
    "for i in range(5):\n",
    "    for quote in soup.find_all(\"div\", class_=\"quote\"):\n",
    "        \n",
    "        single_quote = dict()\n",
    "        \n",
    "        single_quote[\"text\"] = quote.find(\"span\", class_=\"text\").text.replace('“', '').replace('”', '')\n",
    "        \n",
    "        single_quote[\"author\"] = quote.find(\"small\", class_=\"author\").text\n",
    "        \n",
    "        tags = quote.find_all(\"a\", \"tag\")\n",
    "        tags_texts = [t.text for t in tags]\n",
    "        single_quote[\"tags\"] = tags_texts\n",
    "        \n",
    "        quotes_list.append(single_quote)\n",
    "        \n",
    "    sub_url = soup.find(\"li\", class_=\"next\").find(\"a\").attrs[\"href\"]\n",
    "    next_page_url = quotes_url + sub_url\n",
    "    response = requests.get(next_page_url)\n",
    "    soup = BeautifulSoup(response.text, 'html.parser')"
   ]
  },
  {
   "cell_type": "code",
   "execution_count": null,
   "metadata": {},
   "outputs": [],
   "source": [
    "quotes_list"
   ]
  },
  {
   "cell_type": "code",
   "execution_count": null,
   "metadata": {},
   "outputs": [],
   "source": [
    "quotes_list[0]"
   ]
  },
  {
   "cell_type": "code",
   "execution_count": null,
   "metadata": {},
   "outputs": [],
   "source": [
    "quotes_list[14]"
   ]
  },
  {
   "cell_type": "markdown",
   "metadata": {},
   "source": [
    "> **ZADANIA**"
   ]
  },
  {
   "cell_type": "markdown",
   "metadata": {},
   "source": [
    "## JSON API\n",
    "\n",
    "Czym jest API? \n",
    "- API to skrót od Application Programming Interface\n",
    "- w zależności od konkretnego zastosowania może oznaczać trochę coś innego\n",
    "- w naszym przypadku API jest pewną usługą webową, która pozwala pozyskać dane w ustrukturyzowanej postaci z bazy danych do której nie mamy bezpośredniego dostępu\n",
    "- API to rodzaj pośrednika (interface) między bazą danych a naszą aplikacją\n",
    "\n",
    "Jak działa API?\n",
    "- możemy łączyć się z nim poprzez przeglądarkę lub wewnątrz naszego skryptu za pomocą biblioteki `requests`\n",
    "- wysyłamy zapytanie typu `GET` a w odpowiedzi otrzymujemy dane w formacie JSON (czasem może to być również XML, ale tym nie będziemy się zajmować)\n",
    "\n",
    "Czym jest JSON\n",
    "- JavaScript Object Notation\n",
    "- ustrukturyzowana forma zapisu danych\n",
    "- JSON przypomina słownik w Pythonie. Dane przechowywane są na zasadzie klucz-wartość"
   ]
  },
  {
   "cell_type": "markdown",
   "metadata": {},
   "source": [
    "### currencylayer API\n",
    "\n",
    "**Przykładowe wywołanie API wygląda w następujacy sposób:**\n",
    "\n",
    "http://api.currencylayer.com/historical?access_key=bef18344d09a9963fda9d0c8402ace0e&date=2020-12-12&currencies=EUR,PLN&format=1\n",
    "\n",
    "Otwórzmy powyższy link żeby sprawdzić co się stanie.\n",
    "\n",
    "Uwaga: \n",
    "1. Walutą odniesienia jest dolar amerykański. W darmowej wersji API ten parametr jest niemodyfikowalny\n",
    "2. API zwykle mają limity requestów dla danego klucza. Szczegółowe informacje na ten temat powinny znajdować się w dokumentacji. W przypadku currencylayer jest to 250 wywołań na miesiąc (w planie darmowym)\n",
    "\n",
    "**Struktura adresu URL**\n",
    "\n",
    "Rozłóżmy URL na czynniki pierwsze:\n",
    "\n",
    "http:// api.currencylayer.com/ historical?access_key= API_KEY &date= DATE &currencies= CURRENCIES_LIST &format=1\n",
    "\n",
    "Nasze zapytanie precyzujemy podając wymagane argumenty. Informacje jak to zrobić możemy znaleźc w dokumentacji API. W tym przypadku potrzebujemy:\n",
    "- klucz API\n",
    "- datę\n",
    "- listę walut jakie nas interesują\n",
    "\n",
    "**Customizacja adresu URL:**"
   ]
  },
  {
   "cell_type": "code",
   "execution_count": null,
   "metadata": {},
   "outputs": [],
   "source": [
    "API_KEY = # \"bef18344d09a9963fda9d0c8402ace0e\"  # wpisz swój klucz API\n",
    "DATE = \"2019-05-12\"\n",
    "CURRENCIES_LIST = \"EUR,PLN\"\n",
    "\n",
    "\n",
    "my_url = f\"http://api.currencylayer.com/historical?access_key={API_KEY}&date={DATE}&currencies={CURRENCIES_LIST}&format=1\"\n",
    "my_url"
   ]
  },
  {
   "cell_type": "markdown",
   "metadata": {},
   "source": [
    "**Pobranie danych:**"
   ]
  },
  {
   "cell_type": "code",
   "execution_count": null,
   "metadata": {},
   "outputs": [],
   "source": [
    "response = requests.get(my_url)\n",
    "response_json = response.json()\n",
    "\n",
    "response_json"
   ]
  },
  {
   "cell_type": "code",
   "execution_count": null,
   "metadata": {},
   "outputs": [],
   "source": [
    "usd_per_pln = response_json[\"quotes\"][\"USDPLN\"]\n",
    "usd_per_eur = response_json[\"quotes\"][\"USDEUR\"]\n",
    "\n",
    "print(usd_per_pln)\n",
    "print(usd_per_eur)"
   ]
  },
  {
   "cell_type": "markdown",
   "metadata": {},
   "source": [
    "### OpenWeatherMap\n",
    "\n",
    "https://openweathermap.org/\n",
    "\n",
    "Przykładowe wywołanie:\n",
    "\n",
    "http://api.openweathermap.org/data/2.5/forecast?q=Krakow&appid=7d0c48134ae346811fa50cf99109251f&units=metric"
   ]
  },
  {
   "cell_type": "markdown",
   "metadata": {},
   "source": [
    "> **ZADANIA**"
   ]
  }
 ],
 "metadata": {
  "kernelspec": {
   "display_name": "Python 3 (ipykernel)",
   "language": "python",
   "name": "python3"
  },
  "language_info": {
   "codemirror_mode": {
    "name": "ipython",
    "version": 3
   },
   "file_extension": ".py",
   "mimetype": "text/x-python",
   "name": "python",
   "nbconvert_exporter": "python",
   "pygments_lexer": "ipython3",
   "version": "3.11.5"
  },
  "toc": {
   "base_numbering": 1,
   "nav_menu": {},
   "number_sections": true,
   "sideBar": true,
   "skip_h1_title": true,
   "title_cell": "Table of Contents",
   "title_sidebar": "Contents",
   "toc_cell": false,
   "toc_position": {},
   "toc_section_display": true,
   "toc_window_display": false
  },
  "varInspector": {
   "cols": {
    "lenName": 16,
    "lenType": 16,
    "lenVar": 40
   },
   "kernels_config": {
    "python": {
     "delete_cmd_postfix": "",
     "delete_cmd_prefix": "del ",
     "library": "var_list.py",
     "varRefreshCmd": "print(var_dic_list())"
    },
    "r": {
     "delete_cmd_postfix": ") ",
     "delete_cmd_prefix": "rm(",
     "library": "var_list.r",
     "varRefreshCmd": "cat(var_dic_list()) "
    }
   },
   "types_to_exclude": [
    "module",
    "function",
    "builtin_function_or_method",
    "instance",
    "_Feature"
   ],
   "window_display": false
  }
 },
 "nbformat": 4,
 "nbformat_minor": 4
}
