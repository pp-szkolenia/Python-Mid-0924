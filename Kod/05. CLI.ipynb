{
 "cells": [
  {
   "cell_type": "markdown",
   "id": "06ee9df8",
   "metadata": {},
   "source": [
    "# CLI - command line interface\n",
    "\n",
    "## `sys.argv`"
   ]
  },
  {
   "cell_type": "code",
   "execution_count": 21,
   "id": "d523a064",
   "metadata": {},
   "outputs": [],
   "source": [
    "import sys\n",
    "\n",
    "\n",
    "def add(x, y):\n",
    "    return x + y\n",
    "\n",
    "\n",
    "if __name__ == \"__main__\":\n",
    "    x = sys.argv[1]\n",
    "    y = sys.argv[2]\n",
    "    print(add(x, y))"
   ]
  },
  {
   "cell_type": "markdown",
   "id": "5ded70dc",
   "metadata": {},
   "source": [
    "Argumenty przekazywane do skryptu mogą być zdefiniowane również w Pycharmie\n",
    "\n",
    "## `argparse`\n",
    "\n",
    "- keyword argumenty zaczynają się od - lub --\n",
    "- w innym wypadku argument jest pozycyjny\n",
    "- -h, --help - dokumentacja\n",
    "- required=True - argumenty wymagane\n",
    "- choices=[...] - określa listę dopuszczalnych wartości\n",
    "- action=\"store_true\" - wystarczy nazwa argumentu, żeby wartość pod nim wynosiła `True`"
   ]
  },
  {
   "cell_type": "code",
   "execution_count": null,
   "id": "a64cc58b",
   "metadata": {},
   "outputs": [],
   "source": [
    "import requests\n",
    "import argparse\n",
    "from pprint import pprint\n",
    "from bs4 import BeautifulSoup\n",
    "\n",
    "\n",
    "def scrape_n_quotes(n):\n",
    "    url = \"https://quotes.toscrape.com/\"\n",
    "    response = requests.get(url)\n",
    "    soup = BeautifulSoup(response.text, 'html.parser')\n",
    "    result = [quote.text\n",
    "              for quote in soup.find_all(\"span\", \"text\")[:n]]\n",
    "    return result\n",
    "\n",
    "\n",
    "parser = argparse.ArgumentParser()\n",
    "\n",
    "parser.add_argument(\n",
    "    \"-n\", \"--num\", metavar=\"number\", type=int,\n",
    "    help=\"how many quotes to scrape\", required=True,\n",
    "    choices=[1, 2, 3])\n",
    "\n",
    "\n",
    "args = parser.parse_args()\n",
    "print(type(args))\n",
    "\n",
    "n = args.num   # args.n doesnt work\n",
    "\n",
    "if __name__ == \"__main__\":\n",
    "    result = scrape_n_quotes(n)\n",
    "    pprint(result)"
   ]
  },
  {
   "cell_type": "markdown",
   "id": "9696a30b",
   "metadata": {},
   "source": [
    "```bash\n",
    "python main.py -n 3\n",
    "```"
   ]
  },
  {
   "cell_type": "markdown",
   "id": "0ce135f2",
   "metadata": {},
   "source": [
    "---"
   ]
  },
  {
   "cell_type": "code",
   "execution_count": null,
   "id": "9cd11854",
   "metadata": {},
   "outputs": [],
   "source": [
    "import requests\n",
    "import argparse\n",
    "from pprint import pprint\n",
    "from bs4 import BeautifulSoup\n",
    "\n",
    "\n",
    "def scrape_n_quotes(n, verbose):\n",
    "    url = \"https://quotes.toscrape.com/\"\n",
    "    response = requests.get(url)\n",
    "    if verbose:\n",
    "        print(\"Requested url\")\n",
    "\n",
    "    soup = BeautifulSoup(response.text, 'html.parser')\n",
    "    if verbose:\n",
    "        print(\"Soup is ready\")\n",
    "\n",
    "    result = [quote.text\n",
    "              for quote in soup.find_all(\"span\", \"text\")[:n]]\n",
    "\n",
    "    return result\n",
    "\n",
    "\n",
    "parser = argparse.ArgumentParser()\n",
    "\n",
    "parser.add_argument(\n",
    "    \"-n\", \"--num\", metavar=\"number\", type=int,\n",
    "    help=\"how many quotes to scrape\", required=True,\n",
    "    choices=[1, 2, 3])\n",
    "\n",
    "parser.add_argument(\"-v\", \"--verbose\", action=\"store_true\")\n",
    "\n",
    "\n",
    "args = parser.parse_args()\n",
    "print(type(args))\n",
    "\n",
    "n = args.num   # args.n doesnt work\n",
    "verbose = args.verbose\n",
    "\n",
    "if __name__ == \"__main__\":\n",
    "    result = scrape_n_quotes(n, verbose)\n",
    "    pprint(result)"
   ]
  },
  {
   "cell_type": "markdown",
   "id": "bc42dec1",
   "metadata": {},
   "source": [
    "```bash\n",
    "python main.py -n 3 -v\n",
    "```"
   ]
  },
  {
   "cell_type": "markdown",
   "id": "9ffc9b93",
   "metadata": {},
   "source": [
    "Istnieje możliwość definiowania nie tylko argumentów, ale również komend w `argparse` za pomocą `parser.add_subparsers()`, ale wygodniej jest użyć do tego celu innego narzędzia."
   ]
  },
  {
   "cell_type": "markdown",
   "id": "f98f2899",
   "metadata": {},
   "source": [
    "## `fire`"
   ]
  },
  {
   "cell_type": "code",
   "execution_count": null,
   "id": "7b6dea95",
   "metadata": {},
   "outputs": [],
   "source": [
    "import fire\n",
    "\n",
    "\n",
    "def add_func(x, y):\n",
    "    return x + y\n",
    "\n",
    "\n",
    "def subtract_func(x, y):\n",
    "    return x - y\n",
    "\n",
    "\n",
    "if __name__ == \"__main__\":\n",
    "    fire.Fire({\"add\": add_func, \"subtract\": subtract_func})\n"
   ]
  },
  {
   "cell_type": "markdown",
   "id": "58380549",
   "metadata": {},
   "source": [
    "```bash\n",
    "python main.py add 1 3\n",
    "python main.py add -x 1 -y 3\n",
    "python main.py subtract 1 3\n",
    "python main.py subtract -x 1 -y 3\n",
    "```"
   ]
  },
  {
   "cell_type": "markdown",
   "id": "871210f9",
   "metadata": {},
   "source": [
    "---"
   ]
  },
  {
   "cell_type": "code",
   "execution_count": null,
   "id": "a98931d8",
   "metadata": {},
   "outputs": [],
   "source": [
    "import fire\n",
    "\n",
    "\n",
    "class Calculator:\n",
    "    def add(self, x, y):\n",
    "        return x + y\n",
    "\n",
    "    def subtract(self, x, y):\n",
    "        return x + y\n",
    "\n",
    "    def multiply(self, x, y):\n",
    "        return x * y\n",
    "\n",
    "    def divide(self, x, y):\n",
    "        return x / y\n",
    "\n",
    "\n",
    "if __name__ == \"__main__\":\n",
    "    fire.Fire(Calculator)"
   ]
  },
  {
   "cell_type": "markdown",
   "id": "126b9e1d",
   "metadata": {},
   "source": [
    "```bash\n",
    "python main.py add 1 3\n",
    "python main.py add -x 1 -y 3\n",
    "python main.py subtract 1 3\n",
    "python main.py subtract -x 1 -y 3\n",
    "python main.py multiply 1 3\n",
    "python main.py divide 1 3\n",
    "```"
   ]
  },
  {
   "cell_type": "markdown",
   "id": "37b12849",
   "metadata": {},
   "source": [
    "---"
   ]
  },
  {
   "cell_type": "code",
   "execution_count": null,
   "id": "5459743f",
   "metadata": {},
   "outputs": [],
   "source": [
    "import fire\n",
    "\n",
    "\n",
    "class Calculator:\n",
    "    \n",
    "    class simple:    \n",
    "        def add(self, x, y):\n",
    "            return x + y\n",
    "\n",
    "        def subtract(self, x, y):\n",
    "            return x - y\n",
    "\n",
    "        def multiply(self, x, y):\n",
    "            return x * y\n",
    "\n",
    "        def divide(self, x, y):\n",
    "            return x / y\n",
    "\n",
    "    class advanced:\n",
    "        def sqrt(self, x):\n",
    "            return x**0.5\n",
    "\n",
    "        def exp(self, x):\n",
    "            return 2.71**x\n",
    "\n",
    "\n",
    "if __name__ == \"__main__\":\n",
    "    fire.Fire(Calculator)\n"
   ]
  },
  {
   "cell_type": "markdown",
   "id": "02921cdc",
   "metadata": {},
   "source": [
    "---"
   ]
  },
  {
   "cell_type": "code",
   "execution_count": 1,
   "id": "e87e7a51",
   "metadata": {},
   "outputs": [
    {
     "ename": "ModuleNotFoundError",
     "evalue": "No module named 'fire'",
     "output_type": "error",
     "traceback": [
      "\u001b[0;31m---------------------------------------------------------------------------\u001b[0m",
      "\u001b[0;31mModuleNotFoundError\u001b[0m                       Traceback (most recent call last)",
      "Cell \u001b[0;32mIn[1], line 1\u001b[0m\n\u001b[0;32m----> 1\u001b[0m \u001b[38;5;28;01mimport\u001b[39;00m \u001b[38;5;21;01mfire\u001b[39;00m\n\u001b[1;32m      4\u001b[0m \u001b[38;5;28;01mclass\u001b[39;00m \u001b[38;5;21;01mSimpleCalculator\u001b[39;00m:\n\u001b[1;32m      5\u001b[0m     \u001b[38;5;28;01mdef\u001b[39;00m \u001b[38;5;21madd\u001b[39m(\u001b[38;5;28mself\u001b[39m, x, y):\n",
      "\u001b[0;31mModuleNotFoundError\u001b[0m: No module named 'fire'"
     ]
    }
   ],
   "source": [
    "import fire\n",
    "\n",
    "\n",
    "class SimpleCalculator:\n",
    "    def add(self, x, y):\n",
    "        return x + y\n",
    "\n",
    "    def subtract(self, x, y):\n",
    "        return x - y\n",
    "\n",
    "    def multiply(self, x, y):\n",
    "        return x * y\n",
    "\n",
    "    def divide(self, x, y):\n",
    "        return x / y\n",
    "\n",
    "class AdvancedCalculator:\n",
    "    def sqrt(self, x):\n",
    "        return x**0.5\n",
    "\n",
    "    def exp(self, x):\n",
    "        return 2.71**x\n",
    "\n",
    "class Pipeline:\n",
    "    def __init__(self):\n",
    "        self.simple = SimpleCalculator()\n",
    "        self.advanced = AdvancedCalculator()\n",
    "\n",
    "    def info(self):\n",
    "        return \"Simple and advanced calculator\"\n",
    "\n",
    "    \n",
    "    def my_command(self):\n",
    "        return \"Another command\"\n",
    "\n",
    "\n",
    "\n",
    "if __name__ == '__main__':\n",
    "    fire.Fire(Pipeline)\n"
   ]
  },
  {
   "cell_type": "markdown",
   "id": "630ee98c",
   "metadata": {},
   "source": [
    "---"
   ]
  },
  {
   "cell_type": "code",
   "execution_count": 18,
   "id": "260d70f6",
   "metadata": {},
   "outputs": [],
   "source": [
    "def sqrt(self, x, verbose=False):\n",
    "    if verbose:\n",
    "        print(\"Calculating sqrt\")\n",
    "\n",
    "    return x**0.5"
   ]
  },
  {
   "cell_type": "markdown",
   "id": "0fb6577e",
   "metadata": {},
   "source": [
    "```bash\n",
    "python main.py advanced sqrt 4 v\n",
    "python main.py advanced sqrt 4 verbose\n",
    "python main.py advanced sqrt 4 -v\n",
    "python main.py advanced sqrt 4 -verbose\n",
    "python main.py advanced sqrt 4 --v\n",
    "python main.py advanced sqrt 4 --verbose\n",
    "\n",
    "(fire domyśla się, o który argument chodzi)\n",
    "```"
   ]
  },
  {
   "cell_type": "markdown",
   "id": "0e2ad86a",
   "metadata": {},
   "source": [
    "> **ZADANIA**"
   ]
  }
 ],
 "metadata": {
  "kernelspec": {
   "display_name": "Python 3 (ipykernel)",
   "language": "python",
   "name": "python3"
  },
  "language_info": {
   "codemirror_mode": {
    "name": "ipython",
    "version": 3
   },
   "file_extension": ".py",
   "mimetype": "text/x-python",
   "name": "python",
   "nbconvert_exporter": "python",
   "pygments_lexer": "ipython3",
   "version": "3.11.5"
  },
  "toc": {
   "base_numbering": 1,
   "nav_menu": {},
   "number_sections": true,
   "sideBar": true,
   "skip_h1_title": true,
   "title_cell": "Table of Contents",
   "title_sidebar": "Contents",
   "toc_cell": false,
   "toc_position": {},
   "toc_section_display": true,
   "toc_window_display": false
  },
  "varInspector": {
   "cols": {
    "lenName": 16,
    "lenType": 16,
    "lenVar": 40
   },
   "kernels_config": {
    "python": {
     "delete_cmd_postfix": "",
     "delete_cmd_prefix": "del ",
     "library": "var_list.py",
     "varRefreshCmd": "print(var_dic_list())"
    },
    "r": {
     "delete_cmd_postfix": ") ",
     "delete_cmd_prefix": "rm(",
     "library": "var_list.r",
     "varRefreshCmd": "cat(var_dic_list()) "
    }
   },
   "types_to_exclude": [
    "module",
    "function",
    "builtin_function_or_method",
    "instance",
    "_Feature"
   ],
   "window_display": false
  }
 },
 "nbformat": 4,
 "nbformat_minor": 5
}
