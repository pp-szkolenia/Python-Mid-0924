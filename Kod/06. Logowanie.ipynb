{
 "cells": [
  {
   "cell_type": "markdown",
   "id": "fd9b4af7",
   "metadata": {},
   "source": [
    "# Logowanie\n",
    "\n",
    "## Podstawy\n",
    "### Poziomy logowania"
   ]
  },
  {
   "cell_type": "code",
   "execution_count": 1,
   "id": "7ec09971",
   "metadata": {},
   "outputs": [],
   "source": [
    "import logging"
   ]
  },
  {
   "cell_type": "code",
   "execution_count": 2,
   "id": "0dd1139e",
   "metadata": {},
   "outputs": [
    {
     "data": {
      "text/plain": [
       "<RootLogger root (WARNING)>"
      ]
     },
     "execution_count": 2,
     "metadata": {},
     "output_type": "execute_result"
    }
   ],
   "source": [
    "logging.getLogger()"
   ]
  },
  {
   "cell_type": "code",
   "execution_count": 3,
   "id": "8633d219",
   "metadata": {},
   "outputs": [
    {
     "data": {
      "text/plain": [
       "30"
      ]
     },
     "execution_count": 3,
     "metadata": {},
     "output_type": "execute_result"
    }
   ],
   "source": [
    "logging.getLogger().getEffectiveLevel()"
   ]
  },
  {
   "cell_type": "code",
   "execution_count": 4,
   "id": "d1b6ba8d",
   "metadata": {},
   "outputs": [
    {
     "data": {
      "text/plain": [
       "'WARNING'"
      ]
     },
     "execution_count": 4,
     "metadata": {},
     "output_type": "execute_result"
    }
   ],
   "source": [
    "logging.getLevelName(\n",
    "    logging.getLogger().getEffectiveLevel()\n",
    ")"
   ]
  },
  {
   "cell_type": "markdown",
   "id": "4099b3be",
   "metadata": {},
   "source": [
    "| Level    |Numeric value  |\n",
    "|----------|---------------|\n",
    "| DEBUG    | 10            |\n",
    "| INFO     | 20            |\n",
    "| WARNING  | 30            |\n",
    "| ERROR    |    40         |\n",
    "| CRITICAL |  50           |\n",
    "\n",
    "\n",
    "DEBUG - Informacje, które mogą być przydatne podczas debugowania, mogą wskazywać np. na wartość zmiennej w danej chwili. Są przydatne podczas dewelopmentu, ale wyłącza się je na produkcji\n",
    "\n",
    "INFO - Wiadomość na temat tego co się właśnie wydarzyło, cel czysto informacyjny\n",
    "\n",
    "WARNING - Nastąpiło nieoczekiwane zachowanie, które może świadczyć o tym, że coś nie działa tak jak powinno, ale program się nie zatrzymuje\n",
    "\n",
    "ERROR - Jedna lub więcej funkcjonalność nie działa poprawnie\n",
    "\n",
    "CRITICAL - Krytyczne błędy, które uniemożliwiają dalsze działanie programu jako całości"
   ]
  },
  {
   "cell_type": "markdown",
   "id": "fc308d16",
   "metadata": {},
   "source": [
    "### Logowanie wiadomości"
   ]
  },
  {
   "cell_type": "code",
   "execution_count": 5,
   "id": "53f58acc",
   "metadata": {},
   "outputs": [],
   "source": [
    "logging.debug(\"debug message\")"
   ]
  },
  {
   "cell_type": "code",
   "execution_count": 6,
   "id": "ed49e744",
   "metadata": {},
   "outputs": [],
   "source": [
    "logging.info(\"info message\")"
   ]
  },
  {
   "cell_type": "code",
   "execution_count": 7,
   "id": "248c7317",
   "metadata": {},
   "outputs": [
    {
     "name": "stderr",
     "output_type": "stream",
     "text": [
      "WARNING:root:warning message\n"
     ]
    }
   ],
   "source": [
    "logging.warning(\"warning message\")"
   ]
  },
  {
   "cell_type": "code",
   "execution_count": 8,
   "id": "a31ada86",
   "metadata": {},
   "outputs": [
    {
     "name": "stderr",
     "output_type": "stream",
     "text": [
      "ERROR:root:error message\n"
     ]
    }
   ],
   "source": [
    "logging.error(\"error message\")"
   ]
  },
  {
   "cell_type": "code",
   "execution_count": 9,
   "id": "2abb7fe8",
   "metadata": {},
   "outputs": [
    {
     "name": "stderr",
     "output_type": "stream",
     "text": [
      "CRITICAL:root:critical message\n"
     ]
    }
   ],
   "source": [
    "logging.critical(\"critical message\")"
   ]
  },
  {
   "cell_type": "markdown",
   "id": "aa158120",
   "metadata": {},
   "source": [
    "### Zmiana poziomu logowania"
   ]
  },
  {
   "cell_type": "code",
   "execution_count": 10,
   "id": "9965518e",
   "metadata": {},
   "outputs": [],
   "source": [
    "logging.info(\"test\")"
   ]
  },
  {
   "cell_type": "code",
   "execution_count": 11,
   "id": "2ebde728",
   "metadata": {},
   "outputs": [
    {
     "data": {
      "text/plain": [
       "<RootLogger root (WARNING)>"
      ]
     },
     "execution_count": 11,
     "metadata": {},
     "output_type": "execute_result"
    }
   ],
   "source": [
    "logging.getLogger()  #.getEffectiveLevel()"
   ]
  },
  {
   "cell_type": "code",
   "execution_count": 14,
   "id": "05f5b64c",
   "metadata": {},
   "outputs": [
    {
     "data": {
      "text/plain": [
       "<RootLogger root (WARNING)>"
      ]
     },
     "execution_count": 14,
     "metadata": {},
     "output_type": "execute_result"
    }
   ],
   "source": [
    "logging.basicConfig(level=logging.INFO)\n",
    "\n",
    "# Uwaga: po uruchomieniu poza JN następuje zmiana\n",
    "logging.getLogger()  #.getEffectiveLevel()"
   ]
  },
  {
   "cell_type": "code",
   "execution_count": 15,
   "id": "5a048602",
   "metadata": {},
   "outputs": [],
   "source": [
    "logging.info(\"test\")"
   ]
  },
  {
   "cell_type": "markdown",
   "id": "ad2941ec",
   "metadata": {},
   "source": [
    "### Podstawowe formatowanie"
   ]
  },
  {
   "cell_type": "code",
   "execution_count": 18,
   "id": "61187aef",
   "metadata": {},
   "outputs": [],
   "source": [
    "logging.basicConfig(level=logging.INFO,\n",
    "                    format=\"%(asctime)s - %(name)s - %(levelname)s - %(message)s\")"
   ]
  },
  {
   "cell_type": "code",
   "execution_count": 19,
   "id": "2ca28082",
   "metadata": {},
   "outputs": [
    {
     "name": "stderr",
     "output_type": "stream",
     "text": [
      "WARNING:root:test\n"
     ]
    }
   ],
   "source": [
    "logging.warning(\"test\")"
   ]
  },
  {
   "cell_type": "code",
   "execution_count": null,
   "id": "db60773b",
   "metadata": {},
   "outputs": [],
   "source": [
    "logging.basicConfig(level=logging.INFO,\n",
    "                    format=\"%(asctime)s - %(name)s - %(levelname)s - %(message)s\",\n",
    "                    datefmt=\"%y-%m-%d %H:%M:%S\")"
   ]
  },
  {
   "cell_type": "code",
   "execution_count": null,
   "id": "92a8a0a7",
   "metadata": {
    "scrolled": true
   },
   "outputs": [],
   "source": [
    "logging.warning(\"test\")"
   ]
  },
  {
   "cell_type": "markdown",
   "id": "b30204d6",
   "metadata": {},
   "source": [
    "### Zapis do pliku"
   ]
  },
  {
   "cell_type": "code",
   "execution_count": null,
   "id": "c2f12313",
   "metadata": {},
   "outputs": [],
   "source": [
    "logging.basicConfig(level=logging.INFO,\n",
    "                    format=\"%(asctime)s - %(name)s - %(levelname)s - %(message)s\",\n",
    "                    datefmt=\"%y-%m-%d %H:%M:%S\",\n",
    "                    filename=\"logs/first_log.log\")  # <-- log nie pojawi się w konsoli, ale zostanie zapisany do pliku"
   ]
  },
  {
   "cell_type": "code",
   "execution_count": null,
   "id": "088175a7",
   "metadata": {},
   "outputs": [],
   "source": [
    "logging.basicConfig(level=logging.INFO,\n",
    "                    format=\"%(asctime)s - %(name)s - %(levelname)s - %(message)s\",\n",
    "                    datefmt=\"%y-%m-%d %H:%M:%S\",\n",
    "                    filename=\"logs/first_log.log\", filemode=\"w\")  # <-- tryb zapisu (nie append)"
   ]
  },
  {
   "cell_type": "markdown",
   "id": "39082d17",
   "metadata": {},
   "source": [
    "## Customowe loggery\n",
    "\n",
    "Zalety tworzenia wielu, customowych loggerów:\n",
    "- każdy logger może mieć inny poziom\n",
    "- każdy logger może mieć inne handlery i formaty"
   ]
  },
  {
   "cell_type": "code",
   "execution_count": 20,
   "id": "8da41be6",
   "metadata": {},
   "outputs": [
    {
     "data": {
      "text/plain": [
       "<Logger my_logger (WARNING)>"
      ]
     },
     "execution_count": 20,
     "metadata": {},
     "output_type": "execute_result"
    }
   ],
   "source": [
    "logger = logging.getLogger(\"my_logger\")\n",
    "logger"
   ]
  },
  {
   "cell_type": "code",
   "execution_count": 21,
   "id": "2a37c909",
   "metadata": {},
   "outputs": [],
   "source": [
    "logger.setLevel(logging.INFO)"
   ]
  },
  {
   "cell_type": "code",
   "execution_count": 22,
   "id": "e73509a3",
   "metadata": {},
   "outputs": [
    {
     "data": {
      "text/plain": [
       "<Logger my_logger (INFO)>"
      ]
     },
     "execution_count": 22,
     "metadata": {},
     "output_type": "execute_result"
    }
   ],
   "source": [
    "logger"
   ]
  },
  {
   "cell_type": "code",
   "execution_count": 23,
   "id": "b8b657c4",
   "metadata": {},
   "outputs": [
    {
     "name": "stderr",
     "output_type": "stream",
     "text": [
      "INFO:my_logger:info message\n",
      "WARNING:my_logger:warning message\n",
      "ERROR:my_logger:error message\n",
      "CRITICAL:my_logger:critical message\n"
     ]
    }
   ],
   "source": [
    "logger.debug(\"debug message\")\n",
    "logger.info(\"info message\")\n",
    "logger.warning(\"warning message\")\n",
    "logger.error(\"error message\")\n",
    "logger.critical(\"critical message\")"
   ]
  },
  {
   "cell_type": "code",
   "execution_count": 24,
   "id": "ea440fd9",
   "metadata": {},
   "outputs": [
    {
     "data": {
      "text/plain": [
       "20"
      ]
     },
     "execution_count": 24,
     "metadata": {},
     "output_type": "execute_result"
    }
   ],
   "source": [
    "logger.getEffectiveLevel()"
   ]
  },
  {
   "cell_type": "markdown",
   "id": "100bd8c5",
   "metadata": {},
   "source": [
    "### Handlery"
   ]
  },
  {
   "cell_type": "code",
   "execution_count": null,
   "id": "f38d6457",
   "metadata": {},
   "outputs": [],
   "source": [
    "logger_1 = logging.getLogger(\"logger1\")\n",
    "logger_1.setLevel(logging.INFO)\n",
    "\n",
    "logger_2 = logging.getLogger(\"logger2\")\n",
    "logger_2.setLevel(logging.CRITICAL)"
   ]
  },
  {
   "cell_type": "code",
   "execution_count": null,
   "id": "ac075d40",
   "metadata": {},
   "outputs": [],
   "source": [
    "file_handler = logging.FileHandler(\"logs/logfile.log\", mode=\"w\")\n",
    "stream_handler = logging.StreamHandler()"
   ]
  },
  {
   "cell_type": "code",
   "execution_count": null,
   "id": "0db65607",
   "metadata": {},
   "outputs": [],
   "source": [
    "logger_1.addHandler(file_handler)\n",
    "logger_2.addHandler(stream_handler)"
   ]
  },
  {
   "cell_type": "code",
   "execution_count": null,
   "id": "c91754de",
   "metadata": {},
   "outputs": [],
   "source": [
    "def divide(x, y):\n",
    "    if y == 0:\n",
    "        logger_2.error(\"Beware, division by 0! None will be returned\")\n",
    "        return None\n",
    "\n",
    "    return x / y\n",
    "\n",
    "\n",
    "x = 1\n",
    "logger_1.info(\"x created\")\n",
    "\n",
    "y = 0\n",
    "logger_1.info(\"y created\")\n",
    "\n",
    "\n",
    "z = divide(x, y)\n",
    "\n",
    "logger_1.info(f\"z value: {z}\")"
   ]
  },
  {
   "cell_type": "markdown",
   "id": "f7b63852",
   "metadata": {},
   "source": [
    "---\n",
    "\n",
    "Może być wiele handlerów"
   ]
  },
  {
   "cell_type": "code",
   "execution_count": null,
   "id": "6d940fac",
   "metadata": {},
   "outputs": [],
   "source": [
    "logger_1.addHandler(stream_handler)"
   ]
  },
  {
   "cell_type": "markdown",
   "id": "d7390ed0",
   "metadata": {},
   "source": [
    "---\n",
    "\n",
    "Handler może mieć swój poziom logowania"
   ]
  },
  {
   "cell_type": "code",
   "execution_count": null,
   "id": "a4d56de1",
   "metadata": {},
   "outputs": [],
   "source": [
    "logger.setLevel(logging.DEBUG)\n",
    "\n",
    "handler = logging.StreamHandler()\n",
    "handler.setLevel(logging.INFO)"
   ]
  },
  {
   "cell_type": "markdown",
   "id": "b25cd302",
   "metadata": {},
   "source": [
    "### Formattery\n",
    "\n",
    "więcej: https://docs.python.org/3/library/logging.html#logrecord-attributes"
   ]
  },
  {
   "cell_type": "code",
   "execution_count": null,
   "id": "b8b5c9b0",
   "metadata": {},
   "outputs": [],
   "source": [
    "formatter = logging.Formatter(\"%(asctime)s - %(name)s - %(levelname)s - %(message)s\")"
   ]
  },
  {
   "cell_type": "code",
   "execution_count": null,
   "id": "f34e0a41",
   "metadata": {},
   "outputs": [],
   "source": [
    "formatter_1 = logging.Formatter(\"%(asctime)s - %(name)s - %(levelname)s - %(message)s\",\n",
    "                                \"%y-%d-%m %H:%M\")"
   ]
  },
  {
   "cell_type": "code",
   "execution_count": null,
   "id": "d307bdea",
   "metadata": {},
   "outputs": [],
   "source": [
    "file_handler.setFormatter(formatter)\n",
    "stream_handler.setFormatter(formatter)"
   ]
  },
  {
   "cell_type": "markdown",
   "id": "7edfe2fc",
   "metadata": {},
   "source": [
    "## Inne\n",
    "### Logowanie wyjątków"
   ]
  },
  {
   "cell_type": "code",
   "execution_count": null,
   "id": "85a02be9",
   "metadata": {},
   "outputs": [],
   "source": [
    "def divide(x, y):\n",
    "    try:\n",
    "        result = x / y\n",
    "    except ZeroDivisionError:\n",
    "        logger.error(\"Tried to divide by 0\")\n",
    "    else:\n",
    "        return result"
   ]
  },
  {
   "cell_type": "code",
   "execution_count": null,
   "id": "3d33b7ee",
   "metadata": {},
   "outputs": [],
   "source": [
    "divide(2, 0)"
   ]
  },
  {
   "cell_type": "code",
   "execution_count": null,
   "id": "b83383f0",
   "metadata": {},
   "outputs": [],
   "source": [
    "def divide(x, y):\n",
    "    try:\n",
    "        result = x / y\n",
    "    except ZeroDivisionError:\n",
    "        logger.exception(\"Tried to divide by 0\")\n",
    "    else:\n",
    "        return result"
   ]
  },
  {
   "cell_type": "code",
   "execution_count": null,
   "id": "e18f8c01",
   "metadata": {},
   "outputs": [],
   "source": [
    "divide(2, 0)"
   ]
  },
  {
   "cell_type": "markdown",
   "id": "cfee3798",
   "metadata": {},
   "source": [
    "## Przykład"
   ]
  },
  {
   "cell_type": "code",
   "execution_count": null,
   "id": "069c69a5",
   "metadata": {},
   "outputs": [],
   "source": [
    "# Logger\n",
    "my_logger = logging.getLogger(\"solver\")\n",
    "my_logger.setLevel(logging.DEBUG)  # wyjściowy poziom logowania\n",
    "\n",
    "\n",
    "# file handler + formatowanie\n",
    "formatter = logging.Formatter('%(levelname)s - %(message)s')\n",
    "\n",
    "file_handler = logging.FileHandler('logs/solver_log.log', mode='w')\n",
    "file_handler.setFormatter(formatter)\n",
    "\n",
    "my_logger.addHandler(file_handler)\n",
    "\n",
    "\n",
    "# Logowanie do std out\n",
    "stdout_handler = logging.StreamHandler()\n",
    "stdout_handler.setLevel(logging.WARNING)  # podnosimy poziom dla tego handlera\n",
    "stdout_handler.setFormatter(formatter)\n",
    "my_logger.addHandler(stdout_handler)\n",
    "\n",
    "# do pliku logujemy wszystko od poziomu DEBUG, natomiast do stdout wszystko od poziomu WARNING"
   ]
  },
  {
   "cell_type": "code",
   "execution_count": null,
   "id": "4618b78d",
   "metadata": {},
   "outputs": [],
   "source": [
    "def solve_quadratic_equation(a, b, c):\n",
    "    delta = b**2 - 4*a*c\n",
    "    \n",
    "    try:\n",
    "        x1 = (-b-delta**0.5)/(2*a)\n",
    "        x2 = (-b+delta**0.5)/(2*a)\n",
    "    except Exception as e:\n",
    "        x1, x2 = None, None\n",
    "    \n",
    "    return x1, x2"
   ]
  },
  {
   "cell_type": "code",
   "execution_count": null,
   "id": "6b881d12",
   "metadata": {},
   "outputs": [],
   "source": [
    "a, b, c = 1, 2, -4\n",
    "x1, x2 = solve_quadratic_equation(a, b, c)\n",
    "x1, x2"
   ]
  },
  {
   "cell_type": "markdown",
   "id": "9b8cd823",
   "metadata": {},
   "source": [
    "---"
   ]
  },
  {
   "cell_type": "code",
   "execution_count": null,
   "id": "e9313f55",
   "metadata": {},
   "outputs": [],
   "source": [
    "def solve_quadratic_equation(a, b, c):\n",
    "    my_logger.info(\"Funkcja została wywołana\")\n",
    "    my_logger.debug(f\"a: {a}, b: {b}, c: {c}\")\n",
    "    \n",
    "    delta = b**2 - 4*a*c\n",
    "    \n",
    "    if delta < 0:\n",
    "        my_logger.warning(f\"Delta < 0: {delta}\")\n",
    "    \n",
    "    try:\n",
    "        x1 = (-b-delta**0.5)/(2*a)\n",
    "        x2 = (-b+delta**0.5)/(2*a)\n",
    "        raise Exception()\n",
    "    except Exception as e:\n",
    "        my_logger.error(\"Niepowodzenie w wyliczaniu miejsc zerowych\")\n",
    "        x1, x2 = None, None\n",
    "    \n",
    "    return x1, x2"
   ]
  },
  {
   "cell_type": "code",
   "execution_count": null,
   "id": "aa3d93fa",
   "metadata": {},
   "outputs": [],
   "source": [
    "a, b, c = 1, 2, -4\n",
    "x1, x2 = solve_quadratic_equation(a, b, c)\n",
    "x1, x2"
   ]
  },
  {
   "cell_type": "code",
   "execution_count": null,
   "id": "0a822e48",
   "metadata": {},
   "outputs": [],
   "source": [
    "a, b, c = 1, 2, 4\n",
    "x1, x2 = solve_quadratic_equation(a, b, c)\n",
    "x1, x2"
   ]
  },
  {
   "cell_type": "markdown",
   "id": "494a0299",
   "metadata": {},
   "source": [
    "> ZADANIA"
   ]
  },
  {
   "cell_type": "markdown",
   "id": "feebb701",
   "metadata": {},
   "source": [
    "**MATERIAŁY DODATKOWE**\n",
    "- https://towardsdatascience.com/comprehensive-guide-to-python-logging-in-the-real-world-part-1-8762d5aa76da"
   ]
  }
 ],
 "metadata": {
  "kernelspec": {
   "display_name": "Python 3 (ipykernel)",
   "language": "python",
   "name": "python3"
  },
  "language_info": {
   "codemirror_mode": {
    "name": "ipython",
    "version": 3
   },
   "file_extension": ".py",
   "mimetype": "text/x-python",
   "name": "python",
   "nbconvert_exporter": "python",
   "pygments_lexer": "ipython3",
   "version": "3.11.5"
  },
  "toc": {
   "base_numbering": 1,
   "nav_menu": {},
   "number_sections": true,
   "sideBar": true,
   "skip_h1_title": true,
   "title_cell": "Table of Contents",
   "title_sidebar": "Contents",
   "toc_cell": false,
   "toc_position": {},
   "toc_section_display": true,
   "toc_window_display": false
  },
  "varInspector": {
   "cols": {
    "lenName": 16,
    "lenType": 16,
    "lenVar": 40
   },
   "kernels_config": {
    "python": {
     "delete_cmd_postfix": "",
     "delete_cmd_prefix": "del ",
     "library": "var_list.py",
     "varRefreshCmd": "print(var_dic_list())"
    },
    "r": {
     "delete_cmd_postfix": ") ",
     "delete_cmd_prefix": "rm(",
     "library": "var_list.r",
     "varRefreshCmd": "cat(var_dic_list()) "
    }
   },
   "types_to_exclude": [
    "module",
    "function",
    "builtin_function_or_method",
    "instance",
    "_Feature"
   ],
   "window_display": false
  }
 },
 "nbformat": 4,
 "nbformat_minor": 5
}
