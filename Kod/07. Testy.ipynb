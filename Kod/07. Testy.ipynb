{
 "cells": [
  {
   "cell_type": "markdown",
   "id": "e1fd323e",
   "metadata": {},
   "source": [
    "# Testy\n",
    "## Doctesty"
   ]
  },
  {
   "cell_type": "code",
   "execution_count": 12,
   "id": "5632462f",
   "metadata": {},
   "outputs": [],
   "source": [
    "def add(a, b):\n",
    "    \"\"\"\n",
    "    >>> add(2, 3)\n",
    "    5\n",
    "    \n",
    "    >>> add(5, 1)\n",
    "    6\n",
    "    \"\"\"\n",
    "    return a + b\n",
    "\n",
    "\n",
    "def subtract(a, b):\n",
    "    \"\"\"\n",
    "    >>> subtract(2, 3)\n",
    "    -1\n",
    "    \n",
    "    >>> subtract(5, 1)\n",
    "    4\n",
    "    \"\"\"\n",
    "    return a - b\n",
    "\n",
    "\n",
    "def multiply(a, b):\n",
    "    \"\"\"\n",
    "    >>> multiply(2, 3)\n",
    "    6\n",
    "    \n",
    "    >>> multiply(5, 1)\n",
    "    5\n",
    "    \"\"\"\n",
    "    return a * b\n",
    "\n",
    "\n",
    "def divide(a, b):\n",
    "    \"\"\"\n",
    "    >>> divide(2, 3) # doctest: +ELLIPSIS\n",
    "    0.66...\n",
    "    \n",
    "    >>> divide(5, 1)\n",
    "    5.0\n",
    "    \"\"\"\n",
    "    return a / b"
   ]
  },
  {
   "cell_type": "code",
   "execution_count": 15,
   "id": "6b82b01c",
   "metadata": {},
   "outputs": [],
   "source": [
    "from doctest import testmod"
   ]
  },
  {
   "cell_type": "code",
   "execution_count": 16,
   "id": "a33b235d",
   "metadata": {},
   "outputs": [
    {
     "data": {
      "text/plain": [
       "TestResults(failed=0, attempted=8)"
      ]
     },
     "execution_count": 16,
     "metadata": {},
     "output_type": "execute_result"
    }
   ],
   "source": [
    "testmod()"
   ]
  },
  {
   "cell_type": "code",
   "execution_count": 32,
   "id": "f3f83104",
   "metadata": {},
   "outputs": [],
   "source": [
    "def combine_text(text1, text2):\n",
    "    \"\"\"\n",
    "    >>> combine_text(\"a\", \"b\") # doctest: +NORMALIZE_WHITESPACE\n",
    "    'a b'\n",
    "    \"\"\"\n",
    "    return text1 + \"   \" + text2"
   ]
  },
  {
   "cell_type": "code",
   "execution_count": 33,
   "id": "67538e1a",
   "metadata": {},
   "outputs": [
    {
     "data": {
      "text/plain": [
       "'a   b'"
      ]
     },
     "execution_count": 33,
     "metadata": {},
     "output_type": "execute_result"
    }
   ],
   "source": [
    "combine_text(\"a\", \"b\")"
   ]
  },
  {
   "cell_type": "code",
   "execution_count": 34,
   "id": "c2d10def",
   "metadata": {},
   "outputs": [
    {
     "data": {
      "text/plain": [
       "TestResults(failed=0, attempted=9)"
      ]
     },
     "execution_count": 34,
     "metadata": {},
     "output_type": "execute_result"
    }
   ],
   "source": [
    "testmod()"
   ]
  },
  {
   "cell_type": "markdown",
   "id": "f1d04eac",
   "metadata": {},
   "source": [
    "## Testy jednostkowe\n",
    "\n",
    "- pytest\n",
    "- unittest"
   ]
  },
  {
   "cell_type": "code",
   "execution_count": 3,
   "id": "d0773461",
   "metadata": {},
   "outputs": [],
   "source": [
    "import unittest"
   ]
  },
  {
   "cell_type": "code",
   "execution_count": 4,
   "id": "d755c42d",
   "metadata": {},
   "outputs": [],
   "source": [
    "def add(a, b):\n",
    "    return a + b\n",
    "\n",
    "\n",
    "def subtract(a, b):\n",
    "    return a - b\n",
    "\n",
    "\n",
    "def multiply(a, b):\n",
    "    return a * b\n",
    "\n",
    "\n",
    "def divide(a, b):\n",
    "    return a / b"
   ]
  },
  {
   "cell_type": "code",
   "execution_count": 11,
   "id": "17d20142",
   "metadata": {},
   "outputs": [],
   "source": [
    "class TestCalculator(unittest.TestCase):\n",
    "    def test_add(self):\n",
    "        self.assertEqual(add(1, 1), 2)\n",
    "\n",
    "    def test_subtract(self):\n",
    "        self.assertEqual(subtract(3, 2), 1)\n",
    "\n",
    "    def test_multiply(self):\n",
    "        self.assertEqual(multiply(4, 3), 12)\n",
    "\n",
    "        # self.assertIn(multiply(2, 5), [10])\n",
    "        # self.assertNotIn(multiply(2, 5), [11])\n",
    "        #\n",
    "        # self.assertTrue(multiply(2, 2) == 4)\n",
    "        # self.assertFalse(multiply(2, 2) == 5)\n",
    "        #\n",
    "        # self.assertIsInstance(multiply(1, 2), int)\n",
    "\n",
    "    def test_divide(self):\n",
    "        self.assertEqual(divide(6, 2), 3)\n",
    "        # with self.assertRaises(ZeroDivisionError):\n",
    "        #     divide(3, 0)\n"
   ]
  },
  {
   "cell_type": "markdown",
   "id": "f8467747-2c39-49a4-a9ab-72f428fa48f0",
   "metadata": {},
   "source": [
    "python -m unittest ."
   ]
  }
 ],
 "metadata": {
  "kernelspec": {
   "display_name": "Python 3 (ipykernel)",
   "language": "python",
   "name": "python3"
  },
  "language_info": {
   "codemirror_mode": {
    "name": "ipython",
    "version": 3
   },
   "file_extension": ".py",
   "mimetype": "text/x-python",
   "name": "python",
   "nbconvert_exporter": "python",
   "pygments_lexer": "ipython3",
   "version": "3.11.5"
  },
  "toc": {
   "base_numbering": 1,
   "nav_menu": {},
   "number_sections": true,
   "sideBar": true,
   "skip_h1_title": true,
   "title_cell": "Table of Contents",
   "title_sidebar": "Contents",
   "toc_cell": false,
   "toc_position": {},
   "toc_section_display": true,
   "toc_window_display": false
  },
  "varInspector": {
   "cols": {
    "lenName": 16,
    "lenType": 16,
    "lenVar": 40
   },
   "kernels_config": {
    "python": {
     "delete_cmd_postfix": "",
     "delete_cmd_prefix": "del ",
     "library": "var_list.py",
     "varRefreshCmd": "print(var_dic_list())"
    },
    "r": {
     "delete_cmd_postfix": ") ",
     "delete_cmd_prefix": "rm(",
     "library": "var_list.r",
     "varRefreshCmd": "cat(var_dic_list()) "
    }
   },
   "types_to_exclude": [
    "module",
    "function",
    "builtin_function_or_method",
    "instance",
    "_Feature"
   ],
   "window_display": false
  }
 },
 "nbformat": 4,
 "nbformat_minor": 5
}
