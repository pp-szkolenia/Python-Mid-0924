{
 "cells": [
  {
   "cell_type": "markdown",
   "id": "0169a61c",
   "metadata": {},
   "source": [
    "# Wyrażenia regularne\n",
    "## Wprowadzenie\n",
    "Wyrażeń regularnych używamy wtedy kiedy chcemy znaleźć w tekście fragmenty o określonym wzorcu, ale niekoniecznie wskazując dosłownie jaki ciąg znaków nas interesuje. Poniżej dwa przykłady:\n",
    "\n",
    "1. Zadanie: znaleźć w poniższym tekście numer telefonu czyli ciąg znaków o wzorcu xxx-xxx-xxx gdzie x oznacza dowolną cyfrę z zakresu 0-9:\n",
    "\n",
    "`Mój numer telefonu to 123-456-789, możesz do mnie zadzwonić.`\n",
    "\n",
    "Zadanie wydaje się proste, ale nie jest tak trywialne. W jaki sposób zaimplementować algorytm, który znajdzie wystąpienia danego patternu w tekście?\n",
    "\n",
    "---\n",
    "2. Zadanie: znaleźć w poniższym tekście adres mailowy:\n",
    "\n",
    "`Mój adres mailowy to abc@gmail.com, możesz do mnie napisać`\n",
    "\n",
    "Ponownie - jak zlokalizować ten fragment tekstu, w którym znajduje się adres mailowy?\n",
    "\n",
    "---\n",
    "Do rozwiązywania tego typu problemów służą wyrażenia regularne."
   ]
  },
  {
   "cell_type": "markdown",
   "id": "6eeaca1d",
   "metadata": {},
   "source": [
    "## Proste patterny\n",
    "https://regex101.com/\n",
    "\n",
    "### `r-string`"
   ]
  },
  {
   "cell_type": "code",
   "execution_count": 1,
   "id": "9ab43d87",
   "metadata": {},
   "outputs": [
    {
     "name": "stdout",
     "output_type": "stream",
     "text": [
      "Hello\n",
      "world\t.\n"
     ]
    }
   ],
   "source": [
    "print('Hello\\nworld\\t.')"
   ]
  },
  {
   "cell_type": "code",
   "execution_count": 2,
   "id": "22a42d1d",
   "metadata": {},
   "outputs": [
    {
     "name": "stdout",
     "output_type": "stream",
     "text": [
      "Hello\\nworld\\t.\n"
     ]
    }
   ],
   "source": [
    "print(r'Hello\\nworld\\t.')"
   ]
  },
  {
   "cell_type": "markdown",
   "id": "eeac438a",
   "metadata": {},
   "source": [
    "### Używanie patternów"
   ]
  },
  {
   "cell_type": "code",
   "execution_count": 3,
   "id": "ae8e3cb9",
   "metadata": {},
   "outputs": [],
   "source": [
    "import re"
   ]
  },
  {
   "cell_type": "code",
   "execution_count": 4,
   "id": "835ee6e0",
   "metadata": {},
   "outputs": [],
   "source": [
    "text_to_search = '''\n",
    "abcdefghijklmnopqurtuvwxyz\n",
    "ABCDEFGHIJKLMNOPQRSTUVWXYZ\n",
    "1234567890\n",
    "\n",
    ". ^ $ * + ? { } [ ] \\ | ( )\n",
    "- _ = /\n",
    "\n",
    "253-234-623\n",
    "321-555-4321\n",
    "5135-2446-1533\n",
    "\n",
    "123.555.1234\n",
    "123*555*1234\n",
    "'''"
   ]
  },
  {
   "cell_type": "code",
   "execution_count": 5,
   "id": "d70284d9",
   "metadata": {},
   "outputs": [
    {
     "data": {
      "text/plain": [
       "re.compile(r'abc', re.UNICODE)"
      ]
     },
     "execution_count": 5,
     "metadata": {},
     "output_type": "execute_result"
    }
   ],
   "source": [
    "# r-string bywa niezbędny tam, gdzie używamy znaków specjalnych\n",
    "# dobrze jednak mieć nawyk używania go w każdym patternie\n",
    "\n",
    "pattern = re.compile(r'abc')\n",
    "pattern"
   ]
  },
  {
   "cell_type": "code",
   "execution_count": 6,
   "id": "a08fec53",
   "metadata": {},
   "outputs": [
    {
     "data": {
      "text/plain": [
       "re.Pattern"
      ]
     },
     "execution_count": 6,
     "metadata": {},
     "output_type": "execute_result"
    }
   ],
   "source": [
    "type(pattern)"
   ]
  },
  {
   "cell_type": "markdown",
   "id": "858c4f29",
   "metadata": {},
   "source": [
    "Metodę `finditer()` wywołujemy na patternie, przekazując do niej tekst, który przeszukujemy. Tworzy ona iterator, który zwraca kolejne dopasowania tego patternu w tekście."
   ]
  },
  {
   "cell_type": "code",
   "execution_count": 9,
   "id": "f172f195",
   "metadata": {},
   "outputs": [
    {
     "data": {
      "text/plain": [
       "<callable_iterator at 0x73d1780d45b0>"
      ]
     },
     "execution_count": 9,
     "metadata": {},
     "output_type": "execute_result"
    }
   ],
   "source": [
    "matches = pattern.finditer(text_to_search)\n",
    "matches"
   ]
  },
  {
   "cell_type": "code",
   "execution_count": 10,
   "id": "204dd1ee",
   "metadata": {},
   "outputs": [
    {
     "name": "stdout",
     "output_type": "stream",
     "text": [
      "<re.Match object; span=(1, 4), match='abc'>\n"
     ]
    }
   ],
   "source": [
    "for match in matches:\n",
    "    print(match)"
   ]
  },
  {
   "cell_type": "code",
   "execution_count": 11,
   "id": "bfc50f64",
   "metadata": {},
   "outputs": [
    {
     "data": {
      "text/plain": [
       "'abc'"
      ]
     },
     "execution_count": 11,
     "metadata": {},
     "output_type": "execute_result"
    }
   ],
   "source": [
    "text_to_search[1:4]"
   ]
  },
  {
   "cell_type": "markdown",
   "id": "efb5ce31",
   "metadata": {},
   "source": [
    "Pojedyncze dopasowanie jest instancją klasy `re.Match`."
   ]
  },
  {
   "cell_type": "markdown",
   "id": "b1165237",
   "metadata": {},
   "source": [
    "---"
   ]
  },
  {
   "cell_type": "code",
   "execution_count": 12,
   "id": "74dec89c",
   "metadata": {},
   "outputs": [
    {
     "name": "stdout",
     "output_type": "stream",
     "text": [
      "<re.Match object; span=(120, 123), match='555'>\n",
      "<re.Match object; span=(149, 152), match='555'>\n",
      "<re.Match object; span=(162, 165), match='555'>\n"
     ]
    }
   ],
   "source": [
    "pattern = re.compile('555')\n",
    "\n",
    "matches = pattern.finditer(text_to_search)\n",
    "\n",
    "for match in matches:\n",
    "    print(match)"
   ]
  },
  {
   "cell_type": "markdown",
   "id": "18a8a310",
   "metadata": {},
   "source": [
    "---"
   ]
  },
  {
   "cell_type": "code",
   "execution_count": 13,
   "id": "9088cd0c",
   "metadata": {},
   "outputs": [],
   "source": [
    "def find_patterns(pattern, text_to_search):\n",
    "    pattern = re.compile(pattern)\n",
    "    matches = pattern.finditer(text_to_search)\n",
    "\n",
    "    for match in matches:\n",
    "        print(match)"
   ]
  },
  {
   "cell_type": "code",
   "execution_count": 14,
   "id": "fe27d229",
   "metadata": {},
   "outputs": [
    {
     "name": "stdout",
     "output_type": "stream",
     "text": [
      "<re.Match object; span=(55, 58), match='123'>\n",
      "<re.Match object; span=(145, 148), match='123'>\n",
      "<re.Match object; span=(153, 156), match='123'>\n",
      "<re.Match object; span=(158, 161), match='123'>\n",
      "<re.Match object; span=(166, 169), match='123'>\n"
     ]
    }
   ],
   "source": [
    "find_patterns(\"123\", text_to_search)"
   ]
  },
  {
   "cell_type": "markdown",
   "id": "fe527331",
   "metadata": {},
   "source": [
    "## Znaki specjalne\n",
    "```\n",
    ".       - Any Character Except New Line\n",
    "\\d      - Digit (0-9)\n",
    "\\D      - Not a Digit (0-9)\n",
    "\\w      - Word Character (a-z, A-Z, 0-9, _)\n",
    "\\W      - Not a Word Character\n",
    "\\s      - Whitespace (space, tab, newline)\n",
    "\\S      - Not Whitespace (space, tab, newline)\n",
    "\n",
    "\\b      - Word Boundary\n",
    "\\B      - Not a Word Boundary\n",
    "^       - Beginning of a String\n",
    "$       - End of a String\n",
    "\n",
    "[]      - Matches Characters in brackets\n",
    "[^ ]    - Matches Characters NOT in brackets\n",
    "|       - Either Or\n",
    "( )     - Group\n",
    "\n",
    "Quantifiers:\n",
    "*       - 0 or More\n",
    "+       - 1 or More\n",
    "?       - 0 or One\n",
    "{3}     - Exact Number\n",
    "{3,4}   - Range of Numbers (Minimum, Maximum)\n",
    "\n",
    "```"
   ]
  },
  {
   "cell_type": "code",
   "execution_count": 15,
   "id": "32d695c5",
   "metadata": {
    "scrolled": true
   },
   "outputs": [
    {
     "name": "stdout",
     "output_type": "stream",
     "text": [
      "<re.Match object; span=(1, 2), match='a'>\n",
      "<re.Match object; span=(2, 3), match='b'>\n",
      "<re.Match object; span=(3, 4), match='c'>\n",
      "<re.Match object; span=(4, 5), match='d'>\n",
      "<re.Match object; span=(5, 6), match='e'>\n",
      "<re.Match object; span=(6, 7), match='f'>\n",
      "<re.Match object; span=(7, 8), match='g'>\n",
      "<re.Match object; span=(8, 9), match='h'>\n",
      "<re.Match object; span=(9, 10), match='i'>\n",
      "<re.Match object; span=(10, 11), match='j'>\n",
      "<re.Match object; span=(11, 12), match='k'>\n",
      "<re.Match object; span=(12, 13), match='l'>\n",
      "<re.Match object; span=(13, 14), match='m'>\n",
      "<re.Match object; span=(14, 15), match='n'>\n",
      "<re.Match object; span=(15, 16), match='o'>\n",
      "<re.Match object; span=(16, 17), match='p'>\n",
      "<re.Match object; span=(17, 18), match='q'>\n",
      "<re.Match object; span=(18, 19), match='u'>\n",
      "<re.Match object; span=(19, 20), match='r'>\n",
      "<re.Match object; span=(20, 21), match='t'>\n",
      "<re.Match object; span=(21, 22), match='u'>\n",
      "<re.Match object; span=(22, 23), match='v'>\n",
      "<re.Match object; span=(23, 24), match='w'>\n",
      "<re.Match object; span=(24, 25), match='x'>\n",
      "<re.Match object; span=(25, 26), match='y'>\n",
      "<re.Match object; span=(26, 27), match='z'>\n",
      "<re.Match object; span=(28, 29), match='A'>\n",
      "<re.Match object; span=(29, 30), match='B'>\n",
      "<re.Match object; span=(30, 31), match='C'>\n",
      "<re.Match object; span=(31, 32), match='D'>\n",
      "<re.Match object; span=(32, 33), match='E'>\n",
      "<re.Match object; span=(33, 34), match='F'>\n",
      "<re.Match object; span=(34, 35), match='G'>\n",
      "<re.Match object; span=(35, 36), match='H'>\n",
      "<re.Match object; span=(36, 37), match='I'>\n",
      "<re.Match object; span=(37, 38), match='J'>\n",
      "<re.Match object; span=(38, 39), match='K'>\n",
      "<re.Match object; span=(39, 40), match='L'>\n",
      "<re.Match object; span=(40, 41), match='M'>\n",
      "<re.Match object; span=(41, 42), match='N'>\n",
      "<re.Match object; span=(42, 43), match='O'>\n",
      "<re.Match object; span=(43, 44), match='P'>\n",
      "<re.Match object; span=(44, 45), match='Q'>\n",
      "<re.Match object; span=(45, 46), match='R'>\n",
      "<re.Match object; span=(46, 47), match='S'>\n",
      "<re.Match object; span=(47, 48), match='T'>\n",
      "<re.Match object; span=(48, 49), match='U'>\n",
      "<re.Match object; span=(49, 50), match='V'>\n",
      "<re.Match object; span=(50, 51), match='W'>\n",
      "<re.Match object; span=(51, 52), match='X'>\n",
      "<re.Match object; span=(52, 53), match='Y'>\n",
      "<re.Match object; span=(53, 54), match='Z'>\n",
      "<re.Match object; span=(55, 56), match='1'>\n",
      "<re.Match object; span=(56, 57), match='2'>\n",
      "<re.Match object; span=(57, 58), match='3'>\n",
      "<re.Match object; span=(58, 59), match='4'>\n",
      "<re.Match object; span=(59, 60), match='5'>\n",
      "<re.Match object; span=(60, 61), match='6'>\n",
      "<re.Match object; span=(61, 62), match='7'>\n",
      "<re.Match object; span=(62, 63), match='8'>\n",
      "<re.Match object; span=(63, 64), match='9'>\n",
      "<re.Match object; span=(64, 65), match='0'>\n",
      "<re.Match object; span=(67, 68), match='.'>\n",
      "<re.Match object; span=(68, 69), match=' '>\n",
      "<re.Match object; span=(69, 70), match='^'>\n",
      "<re.Match object; span=(70, 71), match=' '>\n",
      "<re.Match object; span=(71, 72), match='$'>\n",
      "<re.Match object; span=(72, 73), match=' '>\n",
      "<re.Match object; span=(73, 74), match='*'>\n",
      "<re.Match object; span=(74, 75), match=' '>\n",
      "<re.Match object; span=(75, 76), match='+'>\n",
      "<re.Match object; span=(76, 77), match=' '>\n",
      "<re.Match object; span=(77, 78), match='?'>\n",
      "<re.Match object; span=(78, 79), match=' '>\n",
      "<re.Match object; span=(79, 80), match='{'>\n",
      "<re.Match object; span=(80, 81), match=' '>\n",
      "<re.Match object; span=(81, 82), match='}'>\n",
      "<re.Match object; span=(82, 83), match=' '>\n",
      "<re.Match object; span=(83, 84), match='['>\n",
      "<re.Match object; span=(84, 85), match=' '>\n",
      "<re.Match object; span=(85, 86), match=']'>\n",
      "<re.Match object; span=(86, 87), match=' '>\n",
      "<re.Match object; span=(87, 88), match='\\\\'>\n",
      "<re.Match object; span=(88, 89), match=' '>\n",
      "<re.Match object; span=(89, 90), match='|'>\n",
      "<re.Match object; span=(90, 91), match=' '>\n",
      "<re.Match object; span=(91, 92), match='('>\n",
      "<re.Match object; span=(92, 93), match=' '>\n",
      "<re.Match object; span=(93, 94), match=')'>\n",
      "<re.Match object; span=(95, 96), match='-'>\n",
      "<re.Match object; span=(96, 97), match=' '>\n",
      "<re.Match object; span=(97, 98), match='_'>\n",
      "<re.Match object; span=(98, 99), match=' '>\n",
      "<re.Match object; span=(99, 100), match='='>\n",
      "<re.Match object; span=(100, 101), match=' '>\n",
      "<re.Match object; span=(101, 102), match='/'>\n",
      "<re.Match object; span=(104, 105), match='2'>\n",
      "<re.Match object; span=(105, 106), match='5'>\n",
      "<re.Match object; span=(106, 107), match='3'>\n",
      "<re.Match object; span=(107, 108), match='-'>\n",
      "<re.Match object; span=(108, 109), match='2'>\n",
      "<re.Match object; span=(109, 110), match='3'>\n",
      "<re.Match object; span=(110, 111), match='4'>\n",
      "<re.Match object; span=(111, 112), match='-'>\n",
      "<re.Match object; span=(112, 113), match='6'>\n",
      "<re.Match object; span=(113, 114), match='2'>\n",
      "<re.Match object; span=(114, 115), match='3'>\n",
      "<re.Match object; span=(116, 117), match='3'>\n",
      "<re.Match object; span=(117, 118), match='2'>\n",
      "<re.Match object; span=(118, 119), match='1'>\n",
      "<re.Match object; span=(119, 120), match='-'>\n",
      "<re.Match object; span=(120, 121), match='5'>\n",
      "<re.Match object; span=(121, 122), match='5'>\n",
      "<re.Match object; span=(122, 123), match='5'>\n",
      "<re.Match object; span=(123, 124), match='-'>\n",
      "<re.Match object; span=(124, 125), match='4'>\n",
      "<re.Match object; span=(125, 126), match='3'>\n",
      "<re.Match object; span=(126, 127), match='2'>\n",
      "<re.Match object; span=(127, 128), match='1'>\n",
      "<re.Match object; span=(129, 130), match='5'>\n",
      "<re.Match object; span=(130, 131), match='1'>\n",
      "<re.Match object; span=(131, 132), match='3'>\n",
      "<re.Match object; span=(132, 133), match='5'>\n",
      "<re.Match object; span=(133, 134), match='-'>\n",
      "<re.Match object; span=(134, 135), match='2'>\n",
      "<re.Match object; span=(135, 136), match='4'>\n",
      "<re.Match object; span=(136, 137), match='4'>\n",
      "<re.Match object; span=(137, 138), match='6'>\n",
      "<re.Match object; span=(138, 139), match='-'>\n",
      "<re.Match object; span=(139, 140), match='1'>\n",
      "<re.Match object; span=(140, 141), match='5'>\n",
      "<re.Match object; span=(141, 142), match='3'>\n",
      "<re.Match object; span=(142, 143), match='3'>\n",
      "<re.Match object; span=(145, 146), match='1'>\n",
      "<re.Match object; span=(146, 147), match='2'>\n",
      "<re.Match object; span=(147, 148), match='3'>\n",
      "<re.Match object; span=(148, 149), match='.'>\n",
      "<re.Match object; span=(149, 150), match='5'>\n",
      "<re.Match object; span=(150, 151), match='5'>\n",
      "<re.Match object; span=(151, 152), match='5'>\n",
      "<re.Match object; span=(152, 153), match='.'>\n",
      "<re.Match object; span=(153, 154), match='1'>\n",
      "<re.Match object; span=(154, 155), match='2'>\n",
      "<re.Match object; span=(155, 156), match='3'>\n",
      "<re.Match object; span=(156, 157), match='4'>\n",
      "<re.Match object; span=(158, 159), match='1'>\n",
      "<re.Match object; span=(159, 160), match='2'>\n",
      "<re.Match object; span=(160, 161), match='3'>\n",
      "<re.Match object; span=(161, 162), match='*'>\n",
      "<re.Match object; span=(162, 163), match='5'>\n",
      "<re.Match object; span=(163, 164), match='5'>\n",
      "<re.Match object; span=(164, 165), match='5'>\n",
      "<re.Match object; span=(165, 166), match='*'>\n",
      "<re.Match object; span=(166, 167), match='1'>\n",
      "<re.Match object; span=(167, 168), match='2'>\n",
      "<re.Match object; span=(168, 169), match='3'>\n",
      "<re.Match object; span=(169, 170), match='4'>\n"
     ]
    }
   ],
   "source": [
    "find_patterns('.', text_to_search)  # Any Character Except New Line"
   ]
  },
  {
   "cell_type": "code",
   "execution_count": 16,
   "id": "b88067f8",
   "metadata": {
    "scrolled": true
   },
   "outputs": [
    {
     "name": "stdout",
     "output_type": "stream",
     "text": [
      "<re.Match object; span=(0, 1), match='\\n'>\n",
      "<re.Match object; span=(1, 2), match='a'>\n",
      "<re.Match object; span=(2, 3), match='b'>\n",
      "<re.Match object; span=(3, 4), match='c'>\n",
      "<re.Match object; span=(4, 5), match='d'>\n",
      "<re.Match object; span=(5, 6), match='e'>\n",
      "<re.Match object; span=(6, 7), match='f'>\n",
      "<re.Match object; span=(7, 8), match='g'>\n",
      "<re.Match object; span=(8, 9), match='h'>\n",
      "<re.Match object; span=(9, 10), match='i'>\n",
      "<re.Match object; span=(10, 11), match='j'>\n",
      "<re.Match object; span=(11, 12), match='k'>\n",
      "<re.Match object; span=(12, 13), match='l'>\n",
      "<re.Match object; span=(13, 14), match='m'>\n",
      "<re.Match object; span=(14, 15), match='n'>\n",
      "<re.Match object; span=(15, 16), match='o'>\n",
      "<re.Match object; span=(16, 17), match='p'>\n",
      "<re.Match object; span=(17, 18), match='q'>\n",
      "<re.Match object; span=(18, 19), match='u'>\n",
      "<re.Match object; span=(19, 20), match='r'>\n",
      "<re.Match object; span=(20, 21), match='t'>\n",
      "<re.Match object; span=(21, 22), match='u'>\n",
      "<re.Match object; span=(22, 23), match='v'>\n",
      "<re.Match object; span=(23, 24), match='w'>\n",
      "<re.Match object; span=(24, 25), match='x'>\n",
      "<re.Match object; span=(25, 26), match='y'>\n",
      "<re.Match object; span=(26, 27), match='z'>\n",
      "<re.Match object; span=(27, 28), match='\\n'>\n",
      "<re.Match object; span=(28, 29), match='A'>\n",
      "<re.Match object; span=(29, 30), match='B'>\n",
      "<re.Match object; span=(30, 31), match='C'>\n",
      "<re.Match object; span=(31, 32), match='D'>\n",
      "<re.Match object; span=(32, 33), match='E'>\n",
      "<re.Match object; span=(33, 34), match='F'>\n",
      "<re.Match object; span=(34, 35), match='G'>\n",
      "<re.Match object; span=(35, 36), match='H'>\n",
      "<re.Match object; span=(36, 37), match='I'>\n",
      "<re.Match object; span=(37, 38), match='J'>\n",
      "<re.Match object; span=(38, 39), match='K'>\n",
      "<re.Match object; span=(39, 40), match='L'>\n",
      "<re.Match object; span=(40, 41), match='M'>\n",
      "<re.Match object; span=(41, 42), match='N'>\n",
      "<re.Match object; span=(42, 43), match='O'>\n",
      "<re.Match object; span=(43, 44), match='P'>\n",
      "<re.Match object; span=(44, 45), match='Q'>\n",
      "<re.Match object; span=(45, 46), match='R'>\n",
      "<re.Match object; span=(46, 47), match='S'>\n",
      "<re.Match object; span=(47, 48), match='T'>\n",
      "<re.Match object; span=(48, 49), match='U'>\n",
      "<re.Match object; span=(49, 50), match='V'>\n",
      "<re.Match object; span=(50, 51), match='W'>\n",
      "<re.Match object; span=(51, 52), match='X'>\n",
      "<re.Match object; span=(52, 53), match='Y'>\n",
      "<re.Match object; span=(53, 54), match='Z'>\n",
      "<re.Match object; span=(54, 55), match='\\n'>\n",
      "<re.Match object; span=(65, 66), match='\\n'>\n",
      "<re.Match object; span=(66, 67), match='\\n'>\n",
      "<re.Match object; span=(67, 68), match='.'>\n",
      "<re.Match object; span=(68, 69), match=' '>\n",
      "<re.Match object; span=(69, 70), match='^'>\n",
      "<re.Match object; span=(70, 71), match=' '>\n",
      "<re.Match object; span=(71, 72), match='$'>\n",
      "<re.Match object; span=(72, 73), match=' '>\n",
      "<re.Match object; span=(73, 74), match='*'>\n",
      "<re.Match object; span=(74, 75), match=' '>\n",
      "<re.Match object; span=(75, 76), match='+'>\n",
      "<re.Match object; span=(76, 77), match=' '>\n",
      "<re.Match object; span=(77, 78), match='?'>\n",
      "<re.Match object; span=(78, 79), match=' '>\n",
      "<re.Match object; span=(79, 80), match='{'>\n",
      "<re.Match object; span=(80, 81), match=' '>\n",
      "<re.Match object; span=(81, 82), match='}'>\n",
      "<re.Match object; span=(82, 83), match=' '>\n",
      "<re.Match object; span=(83, 84), match='['>\n",
      "<re.Match object; span=(84, 85), match=' '>\n",
      "<re.Match object; span=(85, 86), match=']'>\n",
      "<re.Match object; span=(86, 87), match=' '>\n",
      "<re.Match object; span=(87, 88), match='\\\\'>\n",
      "<re.Match object; span=(88, 89), match=' '>\n",
      "<re.Match object; span=(89, 90), match='|'>\n",
      "<re.Match object; span=(90, 91), match=' '>\n",
      "<re.Match object; span=(91, 92), match='('>\n",
      "<re.Match object; span=(92, 93), match=' '>\n",
      "<re.Match object; span=(93, 94), match=')'>\n",
      "<re.Match object; span=(94, 95), match='\\n'>\n",
      "<re.Match object; span=(95, 96), match='-'>\n",
      "<re.Match object; span=(96, 97), match=' '>\n",
      "<re.Match object; span=(97, 98), match='_'>\n",
      "<re.Match object; span=(98, 99), match=' '>\n",
      "<re.Match object; span=(99, 100), match='='>\n",
      "<re.Match object; span=(100, 101), match=' '>\n",
      "<re.Match object; span=(101, 102), match='/'>\n",
      "<re.Match object; span=(102, 103), match='\\n'>\n",
      "<re.Match object; span=(103, 104), match='\\n'>\n",
      "<re.Match object; span=(107, 108), match='-'>\n",
      "<re.Match object; span=(111, 112), match='-'>\n",
      "<re.Match object; span=(115, 116), match='\\n'>\n",
      "<re.Match object; span=(119, 120), match='-'>\n",
      "<re.Match object; span=(123, 124), match='-'>\n",
      "<re.Match object; span=(128, 129), match='\\n'>\n",
      "<re.Match object; span=(133, 134), match='-'>\n",
      "<re.Match object; span=(138, 139), match='-'>\n",
      "<re.Match object; span=(143, 144), match='\\n'>\n",
      "<re.Match object; span=(144, 145), match='\\n'>\n",
      "<re.Match object; span=(148, 149), match='.'>\n",
      "<re.Match object; span=(152, 153), match='.'>\n",
      "<re.Match object; span=(157, 158), match='\\n'>\n",
      "<re.Match object; span=(161, 162), match='*'>\n",
      "<re.Match object; span=(165, 166), match='*'>\n",
      "<re.Match object; span=(170, 171), match='\\n'>\n"
     ]
    }
   ],
   "source": [
    "find_patterns('\\D', text_to_search)  # Not a Digit (0-9)"
   ]
  },
  {
   "cell_type": "code",
   "execution_count": 17,
   "id": "f6109d55",
   "metadata": {
    "scrolled": true
   },
   "outputs": [
    {
     "name": "stdout",
     "output_type": "stream",
     "text": [
      "<re.Match object; span=(1, 2), match='a'>\n",
      "<re.Match object; span=(2, 3), match='b'>\n",
      "<re.Match object; span=(3, 4), match='c'>\n",
      "<re.Match object; span=(4, 5), match='d'>\n",
      "<re.Match object; span=(5, 6), match='e'>\n",
      "<re.Match object; span=(6, 7), match='f'>\n",
      "<re.Match object; span=(7, 8), match='g'>\n",
      "<re.Match object; span=(8, 9), match='h'>\n",
      "<re.Match object; span=(9, 10), match='i'>\n",
      "<re.Match object; span=(10, 11), match='j'>\n",
      "<re.Match object; span=(11, 12), match='k'>\n",
      "<re.Match object; span=(12, 13), match='l'>\n",
      "<re.Match object; span=(13, 14), match='m'>\n",
      "<re.Match object; span=(14, 15), match='n'>\n",
      "<re.Match object; span=(15, 16), match='o'>\n",
      "<re.Match object; span=(16, 17), match='p'>\n",
      "<re.Match object; span=(17, 18), match='q'>\n",
      "<re.Match object; span=(18, 19), match='u'>\n",
      "<re.Match object; span=(19, 20), match='r'>\n",
      "<re.Match object; span=(20, 21), match='t'>\n",
      "<re.Match object; span=(21, 22), match='u'>\n",
      "<re.Match object; span=(22, 23), match='v'>\n",
      "<re.Match object; span=(23, 24), match='w'>\n",
      "<re.Match object; span=(24, 25), match='x'>\n",
      "<re.Match object; span=(25, 26), match='y'>\n",
      "<re.Match object; span=(26, 27), match='z'>\n",
      "<re.Match object; span=(28, 29), match='A'>\n",
      "<re.Match object; span=(29, 30), match='B'>\n",
      "<re.Match object; span=(30, 31), match='C'>\n",
      "<re.Match object; span=(31, 32), match='D'>\n",
      "<re.Match object; span=(32, 33), match='E'>\n",
      "<re.Match object; span=(33, 34), match='F'>\n",
      "<re.Match object; span=(34, 35), match='G'>\n",
      "<re.Match object; span=(35, 36), match='H'>\n",
      "<re.Match object; span=(36, 37), match='I'>\n",
      "<re.Match object; span=(37, 38), match='J'>\n",
      "<re.Match object; span=(38, 39), match='K'>\n",
      "<re.Match object; span=(39, 40), match='L'>\n",
      "<re.Match object; span=(40, 41), match='M'>\n",
      "<re.Match object; span=(41, 42), match='N'>\n",
      "<re.Match object; span=(42, 43), match='O'>\n",
      "<re.Match object; span=(43, 44), match='P'>\n",
      "<re.Match object; span=(44, 45), match='Q'>\n",
      "<re.Match object; span=(45, 46), match='R'>\n",
      "<re.Match object; span=(46, 47), match='S'>\n",
      "<re.Match object; span=(47, 48), match='T'>\n",
      "<re.Match object; span=(48, 49), match='U'>\n",
      "<re.Match object; span=(49, 50), match='V'>\n",
      "<re.Match object; span=(50, 51), match='W'>\n",
      "<re.Match object; span=(51, 52), match='X'>\n",
      "<re.Match object; span=(52, 53), match='Y'>\n",
      "<re.Match object; span=(53, 54), match='Z'>\n",
      "<re.Match object; span=(55, 56), match='1'>\n",
      "<re.Match object; span=(56, 57), match='2'>\n",
      "<re.Match object; span=(57, 58), match='3'>\n",
      "<re.Match object; span=(58, 59), match='4'>\n",
      "<re.Match object; span=(59, 60), match='5'>\n",
      "<re.Match object; span=(60, 61), match='6'>\n",
      "<re.Match object; span=(61, 62), match='7'>\n",
      "<re.Match object; span=(62, 63), match='8'>\n",
      "<re.Match object; span=(63, 64), match='9'>\n",
      "<re.Match object; span=(64, 65), match='0'>\n",
      "<re.Match object; span=(97, 98), match='_'>\n",
      "<re.Match object; span=(104, 105), match='2'>\n",
      "<re.Match object; span=(105, 106), match='5'>\n",
      "<re.Match object; span=(106, 107), match='3'>\n",
      "<re.Match object; span=(108, 109), match='2'>\n",
      "<re.Match object; span=(109, 110), match='3'>\n",
      "<re.Match object; span=(110, 111), match='4'>\n",
      "<re.Match object; span=(112, 113), match='6'>\n",
      "<re.Match object; span=(113, 114), match='2'>\n",
      "<re.Match object; span=(114, 115), match='3'>\n",
      "<re.Match object; span=(116, 117), match='3'>\n",
      "<re.Match object; span=(117, 118), match='2'>\n",
      "<re.Match object; span=(118, 119), match='1'>\n",
      "<re.Match object; span=(120, 121), match='5'>\n",
      "<re.Match object; span=(121, 122), match='5'>\n",
      "<re.Match object; span=(122, 123), match='5'>\n",
      "<re.Match object; span=(124, 125), match='4'>\n",
      "<re.Match object; span=(125, 126), match='3'>\n",
      "<re.Match object; span=(126, 127), match='2'>\n",
      "<re.Match object; span=(127, 128), match='1'>\n",
      "<re.Match object; span=(129, 130), match='5'>\n",
      "<re.Match object; span=(130, 131), match='1'>\n",
      "<re.Match object; span=(131, 132), match='3'>\n",
      "<re.Match object; span=(132, 133), match='5'>\n",
      "<re.Match object; span=(134, 135), match='2'>\n",
      "<re.Match object; span=(135, 136), match='4'>\n",
      "<re.Match object; span=(136, 137), match='4'>\n",
      "<re.Match object; span=(137, 138), match='6'>\n",
      "<re.Match object; span=(139, 140), match='1'>\n",
      "<re.Match object; span=(140, 141), match='5'>\n",
      "<re.Match object; span=(141, 142), match='3'>\n",
      "<re.Match object; span=(142, 143), match='3'>\n",
      "<re.Match object; span=(145, 146), match='1'>\n",
      "<re.Match object; span=(146, 147), match='2'>\n",
      "<re.Match object; span=(147, 148), match='3'>\n",
      "<re.Match object; span=(149, 150), match='5'>\n",
      "<re.Match object; span=(150, 151), match='5'>\n",
      "<re.Match object; span=(151, 152), match='5'>\n",
      "<re.Match object; span=(153, 154), match='1'>\n",
      "<re.Match object; span=(154, 155), match='2'>\n",
      "<re.Match object; span=(155, 156), match='3'>\n",
      "<re.Match object; span=(156, 157), match='4'>\n",
      "<re.Match object; span=(158, 159), match='1'>\n",
      "<re.Match object; span=(159, 160), match='2'>\n",
      "<re.Match object; span=(160, 161), match='3'>\n",
      "<re.Match object; span=(162, 163), match='5'>\n",
      "<re.Match object; span=(163, 164), match='5'>\n",
      "<re.Match object; span=(164, 165), match='5'>\n",
      "<re.Match object; span=(166, 167), match='1'>\n",
      "<re.Match object; span=(167, 168), match='2'>\n",
      "<re.Match object; span=(168, 169), match='3'>\n",
      "<re.Match object; span=(169, 170), match='4'>\n"
     ]
    }
   ],
   "source": [
    "find_patterns('\\w', text_to_search)  # Word Character (a-z, A-Z, 0-9, _)"
   ]
  },
  {
   "cell_type": "code",
   "execution_count": 18,
   "id": "11b80545",
   "metadata": {
    "scrolled": true
   },
   "outputs": [
    {
     "name": "stdout",
     "output_type": "stream",
     "text": [
      "<re.Match object; span=(0, 1), match='\\n'>\n",
      "<re.Match object; span=(27, 28), match='\\n'>\n",
      "<re.Match object; span=(54, 55), match='\\n'>\n",
      "<re.Match object; span=(65, 66), match='\\n'>\n",
      "<re.Match object; span=(66, 67), match='\\n'>\n",
      "<re.Match object; span=(67, 68), match='.'>\n",
      "<re.Match object; span=(68, 69), match=' '>\n",
      "<re.Match object; span=(69, 70), match='^'>\n",
      "<re.Match object; span=(70, 71), match=' '>\n",
      "<re.Match object; span=(71, 72), match='$'>\n",
      "<re.Match object; span=(72, 73), match=' '>\n",
      "<re.Match object; span=(73, 74), match='*'>\n",
      "<re.Match object; span=(74, 75), match=' '>\n",
      "<re.Match object; span=(75, 76), match='+'>\n",
      "<re.Match object; span=(76, 77), match=' '>\n",
      "<re.Match object; span=(77, 78), match='?'>\n",
      "<re.Match object; span=(78, 79), match=' '>\n",
      "<re.Match object; span=(79, 80), match='{'>\n",
      "<re.Match object; span=(80, 81), match=' '>\n",
      "<re.Match object; span=(81, 82), match='}'>\n",
      "<re.Match object; span=(82, 83), match=' '>\n",
      "<re.Match object; span=(83, 84), match='['>\n",
      "<re.Match object; span=(84, 85), match=' '>\n",
      "<re.Match object; span=(85, 86), match=']'>\n",
      "<re.Match object; span=(86, 87), match=' '>\n",
      "<re.Match object; span=(87, 88), match='\\\\'>\n",
      "<re.Match object; span=(88, 89), match=' '>\n",
      "<re.Match object; span=(89, 90), match='|'>\n",
      "<re.Match object; span=(90, 91), match=' '>\n",
      "<re.Match object; span=(91, 92), match='('>\n",
      "<re.Match object; span=(92, 93), match=' '>\n",
      "<re.Match object; span=(93, 94), match=')'>\n",
      "<re.Match object; span=(94, 95), match='\\n'>\n",
      "<re.Match object; span=(95, 96), match='-'>\n",
      "<re.Match object; span=(96, 97), match=' '>\n",
      "<re.Match object; span=(98, 99), match=' '>\n",
      "<re.Match object; span=(99, 100), match='='>\n",
      "<re.Match object; span=(100, 101), match=' '>\n",
      "<re.Match object; span=(101, 102), match='/'>\n",
      "<re.Match object; span=(102, 103), match='\\n'>\n",
      "<re.Match object; span=(103, 104), match='\\n'>\n",
      "<re.Match object; span=(107, 108), match='-'>\n",
      "<re.Match object; span=(111, 112), match='-'>\n",
      "<re.Match object; span=(115, 116), match='\\n'>\n",
      "<re.Match object; span=(119, 120), match='-'>\n",
      "<re.Match object; span=(123, 124), match='-'>\n",
      "<re.Match object; span=(128, 129), match='\\n'>\n",
      "<re.Match object; span=(133, 134), match='-'>\n",
      "<re.Match object; span=(138, 139), match='-'>\n",
      "<re.Match object; span=(143, 144), match='\\n'>\n",
      "<re.Match object; span=(144, 145), match='\\n'>\n",
      "<re.Match object; span=(148, 149), match='.'>\n",
      "<re.Match object; span=(152, 153), match='.'>\n",
      "<re.Match object; span=(157, 158), match='\\n'>\n",
      "<re.Match object; span=(161, 162), match='*'>\n",
      "<re.Match object; span=(165, 166), match='*'>\n",
      "<re.Match object; span=(170, 171), match='\\n'>\n"
     ]
    }
   ],
   "source": [
    "find_patterns('\\W', text_to_search)  # Not a Word Character (a-z, A-Z, 0-9, _)"
   ]
  },
  {
   "cell_type": "markdown",
   "id": "8c9a1039",
   "metadata": {},
   "source": [
    "---"
   ]
  },
  {
   "cell_type": "code",
   "execution_count": 19,
   "id": "b63b2976",
   "metadata": {
    "scrolled": true
   },
   "outputs": [
    {
     "name": "stdout",
     "output_type": "stream",
     "text": [
      "<re.Match object; span=(0, 0), match=''>\n",
      "<re.Match object; span=(1, 27), match='abcdefghijklmnopqurtuvwxyz'>\n",
      "<re.Match object; span=(27, 27), match=''>\n",
      "<re.Match object; span=(28, 54), match='ABCDEFGHIJKLMNOPQRSTUVWXYZ'>\n",
      "<re.Match object; span=(54, 54), match=''>\n",
      "<re.Match object; span=(55, 65), match='1234567890'>\n",
      "<re.Match object; span=(65, 65), match=''>\n",
      "<re.Match object; span=(66, 66), match=''>\n",
      "<re.Match object; span=(67, 67), match=''>\n",
      "<re.Match object; span=(68, 68), match=''>\n",
      "<re.Match object; span=(69, 69), match=''>\n",
      "<re.Match object; span=(70, 70), match=''>\n",
      "<re.Match object; span=(71, 71), match=''>\n",
      "<re.Match object; span=(72, 72), match=''>\n",
      "<re.Match object; span=(73, 73), match=''>\n",
      "<re.Match object; span=(74, 74), match=''>\n",
      "<re.Match object; span=(75, 75), match=''>\n",
      "<re.Match object; span=(76, 76), match=''>\n",
      "<re.Match object; span=(77, 77), match=''>\n",
      "<re.Match object; span=(78, 78), match=''>\n",
      "<re.Match object; span=(79, 79), match=''>\n",
      "<re.Match object; span=(80, 80), match=''>\n",
      "<re.Match object; span=(81, 81), match=''>\n",
      "<re.Match object; span=(82, 82), match=''>\n",
      "<re.Match object; span=(83, 83), match=''>\n",
      "<re.Match object; span=(84, 84), match=''>\n",
      "<re.Match object; span=(85, 85), match=''>\n",
      "<re.Match object; span=(86, 86), match=''>\n",
      "<re.Match object; span=(87, 87), match=''>\n",
      "<re.Match object; span=(88, 88), match=''>\n",
      "<re.Match object; span=(89, 89), match=''>\n",
      "<re.Match object; span=(90, 90), match=''>\n",
      "<re.Match object; span=(91, 91), match=''>\n",
      "<re.Match object; span=(92, 92), match=''>\n",
      "<re.Match object; span=(93, 93), match=''>\n",
      "<re.Match object; span=(94, 94), match=''>\n",
      "<re.Match object; span=(95, 95), match=''>\n",
      "<re.Match object; span=(96, 96), match=''>\n",
      "<re.Match object; span=(97, 98), match='_'>\n",
      "<re.Match object; span=(98, 98), match=''>\n",
      "<re.Match object; span=(99, 99), match=''>\n",
      "<re.Match object; span=(100, 100), match=''>\n",
      "<re.Match object; span=(101, 101), match=''>\n",
      "<re.Match object; span=(102, 102), match=''>\n",
      "<re.Match object; span=(103, 103), match=''>\n",
      "<re.Match object; span=(104, 107), match='253'>\n",
      "<re.Match object; span=(107, 107), match=''>\n",
      "<re.Match object; span=(108, 111), match='234'>\n",
      "<re.Match object; span=(111, 111), match=''>\n",
      "<re.Match object; span=(112, 115), match='623'>\n",
      "<re.Match object; span=(115, 115), match=''>\n",
      "<re.Match object; span=(116, 119), match='321'>\n",
      "<re.Match object; span=(119, 119), match=''>\n",
      "<re.Match object; span=(120, 123), match='555'>\n",
      "<re.Match object; span=(123, 123), match=''>\n",
      "<re.Match object; span=(124, 128), match='4321'>\n",
      "<re.Match object; span=(128, 128), match=''>\n",
      "<re.Match object; span=(129, 133), match='5135'>\n",
      "<re.Match object; span=(133, 133), match=''>\n",
      "<re.Match object; span=(134, 138), match='2446'>\n",
      "<re.Match object; span=(138, 138), match=''>\n",
      "<re.Match object; span=(139, 143), match='1533'>\n",
      "<re.Match object; span=(143, 143), match=''>\n",
      "<re.Match object; span=(144, 144), match=''>\n",
      "<re.Match object; span=(145, 148), match='123'>\n",
      "<re.Match object; span=(148, 148), match=''>\n",
      "<re.Match object; span=(149, 152), match='555'>\n",
      "<re.Match object; span=(152, 152), match=''>\n",
      "<re.Match object; span=(153, 157), match='1234'>\n",
      "<re.Match object; span=(157, 157), match=''>\n",
      "<re.Match object; span=(158, 161), match='123'>\n",
      "<re.Match object; span=(161, 161), match=''>\n",
      "<re.Match object; span=(162, 165), match='555'>\n",
      "<re.Match object; span=(165, 165), match=''>\n",
      "<re.Match object; span=(166, 170), match='1234'>\n",
      "<re.Match object; span=(170, 170), match=''>\n",
      "<re.Match object; span=(171, 171), match=''>\n"
     ]
    }
   ],
   "source": [
    "find_patterns('\\w*', text_to_search)"
   ]
  },
  {
   "cell_type": "markdown",
   "id": "39a178c5",
   "metadata": {},
   "source": [
    "## Escape character\n",
    "Pozbawia znaki specjalne specjalnego znaczenia.\n",
    "\n",
    "Używamy go kiedy chcemy wyszukać znaki takie jak `. ^ $ * + ? { } [ ] \\ | ( )`"
   ]
  },
  {
   "cell_type": "code",
   "execution_count": 20,
   "id": "819ae64f",
   "metadata": {
    "scrolled": true
   },
   "outputs": [
    {
     "name": "stdout",
     "output_type": "stream",
     "text": [
      "<re.Match object; span=(1, 2), match='a'>\n",
      "<re.Match object; span=(2, 3), match='b'>\n",
      "<re.Match object; span=(3, 4), match='c'>\n",
      "<re.Match object; span=(4, 5), match='d'>\n",
      "<re.Match object; span=(5, 6), match='e'>\n",
      "<re.Match object; span=(6, 7), match='f'>\n",
      "<re.Match object; span=(7, 8), match='g'>\n",
      "<re.Match object; span=(8, 9), match='h'>\n",
      "<re.Match object; span=(9, 10), match='i'>\n",
      "<re.Match object; span=(10, 11), match='j'>\n",
      "<re.Match object; span=(11, 12), match='k'>\n",
      "<re.Match object; span=(12, 13), match='l'>\n",
      "<re.Match object; span=(13, 14), match='m'>\n",
      "<re.Match object; span=(14, 15), match='n'>\n",
      "<re.Match object; span=(15, 16), match='o'>\n",
      "<re.Match object; span=(16, 17), match='p'>\n",
      "<re.Match object; span=(17, 18), match='q'>\n",
      "<re.Match object; span=(18, 19), match='u'>\n",
      "<re.Match object; span=(19, 20), match='r'>\n",
      "<re.Match object; span=(20, 21), match='t'>\n",
      "<re.Match object; span=(21, 22), match='u'>\n",
      "<re.Match object; span=(22, 23), match='v'>\n",
      "<re.Match object; span=(23, 24), match='w'>\n",
      "<re.Match object; span=(24, 25), match='x'>\n",
      "<re.Match object; span=(25, 26), match='y'>\n",
      "<re.Match object; span=(26, 27), match='z'>\n",
      "<re.Match object; span=(28, 29), match='A'>\n",
      "<re.Match object; span=(29, 30), match='B'>\n",
      "<re.Match object; span=(30, 31), match='C'>\n",
      "<re.Match object; span=(31, 32), match='D'>\n",
      "<re.Match object; span=(32, 33), match='E'>\n",
      "<re.Match object; span=(33, 34), match='F'>\n",
      "<re.Match object; span=(34, 35), match='G'>\n",
      "<re.Match object; span=(35, 36), match='H'>\n",
      "<re.Match object; span=(36, 37), match='I'>\n",
      "<re.Match object; span=(37, 38), match='J'>\n",
      "<re.Match object; span=(38, 39), match='K'>\n",
      "<re.Match object; span=(39, 40), match='L'>\n",
      "<re.Match object; span=(40, 41), match='M'>\n",
      "<re.Match object; span=(41, 42), match='N'>\n",
      "<re.Match object; span=(42, 43), match='O'>\n",
      "<re.Match object; span=(43, 44), match='P'>\n",
      "<re.Match object; span=(44, 45), match='Q'>\n",
      "<re.Match object; span=(45, 46), match='R'>\n",
      "<re.Match object; span=(46, 47), match='S'>\n",
      "<re.Match object; span=(47, 48), match='T'>\n",
      "<re.Match object; span=(48, 49), match='U'>\n",
      "<re.Match object; span=(49, 50), match='V'>\n",
      "<re.Match object; span=(50, 51), match='W'>\n",
      "<re.Match object; span=(51, 52), match='X'>\n",
      "<re.Match object; span=(52, 53), match='Y'>\n",
      "<re.Match object; span=(53, 54), match='Z'>\n",
      "<re.Match object; span=(55, 56), match='1'>\n",
      "<re.Match object; span=(56, 57), match='2'>\n",
      "<re.Match object; span=(57, 58), match='3'>\n",
      "<re.Match object; span=(58, 59), match='4'>\n",
      "<re.Match object; span=(59, 60), match='5'>\n",
      "<re.Match object; span=(60, 61), match='6'>\n",
      "<re.Match object; span=(61, 62), match='7'>\n",
      "<re.Match object; span=(62, 63), match='8'>\n",
      "<re.Match object; span=(63, 64), match='9'>\n",
      "<re.Match object; span=(64, 65), match='0'>\n",
      "<re.Match object; span=(67, 68), match='.'>\n",
      "<re.Match object; span=(68, 69), match=' '>\n",
      "<re.Match object; span=(69, 70), match='^'>\n",
      "<re.Match object; span=(70, 71), match=' '>\n",
      "<re.Match object; span=(71, 72), match='$'>\n",
      "<re.Match object; span=(72, 73), match=' '>\n",
      "<re.Match object; span=(73, 74), match='*'>\n",
      "<re.Match object; span=(74, 75), match=' '>\n",
      "<re.Match object; span=(75, 76), match='+'>\n",
      "<re.Match object; span=(76, 77), match=' '>\n",
      "<re.Match object; span=(77, 78), match='?'>\n",
      "<re.Match object; span=(78, 79), match=' '>\n",
      "<re.Match object; span=(79, 80), match='{'>\n",
      "<re.Match object; span=(80, 81), match=' '>\n",
      "<re.Match object; span=(81, 82), match='}'>\n",
      "<re.Match object; span=(82, 83), match=' '>\n",
      "<re.Match object; span=(83, 84), match='['>\n",
      "<re.Match object; span=(84, 85), match=' '>\n",
      "<re.Match object; span=(85, 86), match=']'>\n",
      "<re.Match object; span=(86, 87), match=' '>\n",
      "<re.Match object; span=(87, 88), match='\\\\'>\n",
      "<re.Match object; span=(88, 89), match=' '>\n",
      "<re.Match object; span=(89, 90), match='|'>\n",
      "<re.Match object; span=(90, 91), match=' '>\n",
      "<re.Match object; span=(91, 92), match='('>\n",
      "<re.Match object; span=(92, 93), match=' '>\n",
      "<re.Match object; span=(93, 94), match=')'>\n",
      "<re.Match object; span=(95, 96), match='-'>\n",
      "<re.Match object; span=(96, 97), match=' '>\n",
      "<re.Match object; span=(97, 98), match='_'>\n",
      "<re.Match object; span=(98, 99), match=' '>\n",
      "<re.Match object; span=(99, 100), match='='>\n",
      "<re.Match object; span=(100, 101), match=' '>\n",
      "<re.Match object; span=(101, 102), match='/'>\n",
      "<re.Match object; span=(104, 105), match='2'>\n",
      "<re.Match object; span=(105, 106), match='5'>\n",
      "<re.Match object; span=(106, 107), match='3'>\n",
      "<re.Match object; span=(107, 108), match='-'>\n",
      "<re.Match object; span=(108, 109), match='2'>\n",
      "<re.Match object; span=(109, 110), match='3'>\n",
      "<re.Match object; span=(110, 111), match='4'>\n",
      "<re.Match object; span=(111, 112), match='-'>\n",
      "<re.Match object; span=(112, 113), match='6'>\n",
      "<re.Match object; span=(113, 114), match='2'>\n",
      "<re.Match object; span=(114, 115), match='3'>\n",
      "<re.Match object; span=(116, 117), match='3'>\n",
      "<re.Match object; span=(117, 118), match='2'>\n",
      "<re.Match object; span=(118, 119), match='1'>\n",
      "<re.Match object; span=(119, 120), match='-'>\n",
      "<re.Match object; span=(120, 121), match='5'>\n",
      "<re.Match object; span=(121, 122), match='5'>\n",
      "<re.Match object; span=(122, 123), match='5'>\n",
      "<re.Match object; span=(123, 124), match='-'>\n",
      "<re.Match object; span=(124, 125), match='4'>\n",
      "<re.Match object; span=(125, 126), match='3'>\n",
      "<re.Match object; span=(126, 127), match='2'>\n",
      "<re.Match object; span=(127, 128), match='1'>\n",
      "<re.Match object; span=(129, 130), match='5'>\n",
      "<re.Match object; span=(130, 131), match='1'>\n",
      "<re.Match object; span=(131, 132), match='3'>\n",
      "<re.Match object; span=(132, 133), match='5'>\n",
      "<re.Match object; span=(133, 134), match='-'>\n",
      "<re.Match object; span=(134, 135), match='2'>\n",
      "<re.Match object; span=(135, 136), match='4'>\n",
      "<re.Match object; span=(136, 137), match='4'>\n",
      "<re.Match object; span=(137, 138), match='6'>\n",
      "<re.Match object; span=(138, 139), match='-'>\n",
      "<re.Match object; span=(139, 140), match='1'>\n",
      "<re.Match object; span=(140, 141), match='5'>\n",
      "<re.Match object; span=(141, 142), match='3'>\n",
      "<re.Match object; span=(142, 143), match='3'>\n",
      "<re.Match object; span=(145, 146), match='1'>\n",
      "<re.Match object; span=(146, 147), match='2'>\n",
      "<re.Match object; span=(147, 148), match='3'>\n",
      "<re.Match object; span=(148, 149), match='.'>\n",
      "<re.Match object; span=(149, 150), match='5'>\n",
      "<re.Match object; span=(150, 151), match='5'>\n",
      "<re.Match object; span=(151, 152), match='5'>\n",
      "<re.Match object; span=(152, 153), match='.'>\n",
      "<re.Match object; span=(153, 154), match='1'>\n",
      "<re.Match object; span=(154, 155), match='2'>\n",
      "<re.Match object; span=(155, 156), match='3'>\n",
      "<re.Match object; span=(156, 157), match='4'>\n",
      "<re.Match object; span=(158, 159), match='1'>\n",
      "<re.Match object; span=(159, 160), match='2'>\n",
      "<re.Match object; span=(160, 161), match='3'>\n",
      "<re.Match object; span=(161, 162), match='*'>\n",
      "<re.Match object; span=(162, 163), match='5'>\n",
      "<re.Match object; span=(163, 164), match='5'>\n",
      "<re.Match object; span=(164, 165), match='5'>\n",
      "<re.Match object; span=(165, 166), match='*'>\n",
      "<re.Match object; span=(166, 167), match='1'>\n",
      "<re.Match object; span=(167, 168), match='2'>\n",
      "<re.Match object; span=(168, 169), match='3'>\n",
      "<re.Match object; span=(169, 170), match='4'>\n"
     ]
    }
   ],
   "source": [
    "find_patterns('.', text_to_search)  # any character"
   ]
  },
  {
   "cell_type": "code",
   "execution_count": 21,
   "id": "3a789adb",
   "metadata": {},
   "outputs": [
    {
     "name": "stdout",
     "output_type": "stream",
     "text": [
      "<re.Match object; span=(67, 68), match='.'>\n",
      "<re.Match object; span=(148, 149), match='.'>\n",
      "<re.Match object; span=(152, 153), match='.'>\n"
     ]
    }
   ],
   "source": [
    "find_patterns('\\.', text_to_search)  # ."
   ]
  },
  {
   "cell_type": "code",
   "execution_count": 22,
   "id": "a687e13d",
   "metadata": {},
   "outputs": [
    {
     "name": "stdout",
     "output_type": "stream",
     "text": [
      "<re.Match object; span=(87, 88), match='\\\\'>\n"
     ]
    }
   ],
   "source": [
    "# r-string !\n",
    "\n",
    "find_patterns(r'\\\\', text_to_search)  # literally backslash"
   ]
  },
  {
   "cell_type": "code",
   "execution_count": 23,
   "id": "65cf467e",
   "metadata": {},
   "outputs": [
    {
     "name": "stdout",
     "output_type": "stream",
     "text": [
      "<re.Match object; span=(57, 60), match='345'>\n",
      "<re.Match object; span=(147, 150), match='3.5'>\n",
      "<re.Match object; span=(160, 163), match='3*5'>\n"
     ]
    }
   ],
   "source": [
    "find_patterns('3.5', text_to_search)"
   ]
  },
  {
   "cell_type": "code",
   "execution_count": 24,
   "id": "29a100d6",
   "metadata": {},
   "outputs": [
    {
     "name": "stdout",
     "output_type": "stream",
     "text": [
      "<re.Match object; span=(147, 150), match='3.5'>\n"
     ]
    }
   ],
   "source": [
    "find_patterns('3\\.5', text_to_search)"
   ]
  },
  {
   "cell_type": "markdown",
   "id": "2dcae48b",
   "metadata": {},
   "source": [
    "> ZADANIA"
   ]
  },
  {
   "cell_type": "markdown",
   "id": "0297fec8",
   "metadata": {},
   "source": [
    "## Złożone patterny"
   ]
  },
  {
   "cell_type": "code",
   "execution_count": 26,
   "id": "0b404a04",
   "metadata": {},
   "outputs": [
    {
     "name": "stdout",
     "output_type": "stream",
     "text": [
      "<re.Match object; span=(104, 115), match='253-234-623'>\n",
      "<re.Match object; span=(116, 127), match='321-555-432'>\n"
     ]
    }
   ],
   "source": [
    "find_patterns('\\d\\d\\d-\\d\\d\\d-\\d\\d\\d', text_to_search)"
   ]
  },
  {
   "cell_type": "code",
   "execution_count": 28,
   "id": "e328fe9a",
   "metadata": {},
   "outputs": [
    {
     "name": "stdout",
     "output_type": "stream",
     "text": [
      "<re.Match object; span=(104, 115), match='253-234-623'>\n",
      "<re.Match object; span=(116, 128), match='321-555-4321'>\n",
      "<re.Match object; span=(129, 143), match='5135-2446-1533'>\n"
     ]
    }
   ],
   "source": [
    "find_patterns(r'\\d+-\\d+-\\d+', text_to_search)"
   ]
  },
  {
   "cell_type": "code",
   "execution_count": 29,
   "id": "361ebb45",
   "metadata": {},
   "outputs": [
    {
     "name": "stdout",
     "output_type": "stream",
     "text": [
      "<re.Match object; span=(104, 115), match='253-234-623'>\n",
      "<re.Match object; span=(116, 127), match='321-555-432'>\n"
     ]
    }
   ],
   "source": [
    "find_patterns('\\d{3}-\\d{3}-\\d{3}', text_to_search)"
   ]
  },
  {
   "cell_type": "code",
   "execution_count": 30,
   "id": "35b4106d",
   "metadata": {},
   "outputs": [
    {
     "name": "stdout",
     "output_type": "stream",
     "text": [
      "<re.Match object; span=(104, 114), match='253-234-62'>\n",
      "<re.Match object; span=(116, 126), match='321-555-43'>\n"
     ]
    }
   ],
   "source": [
    "find_patterns('\\d{3}-\\d{3}-\\d{2}', text_to_search)"
   ]
  },
  {
   "cell_type": "markdown",
   "id": "35534766",
   "metadata": {},
   "source": [
    "---"
   ]
  },
  {
   "cell_type": "markdown",
   "id": "61a1d6f8",
   "metadata": {},
   "source": [
    "**Adres e-mail**\n",
    "\n",
    "https://www.youtube.com/watch?v=xxX81WmXjPg  email validating"
   ]
  },
  {
   "cell_type": "code",
   "execution_count": null,
   "id": "694bc365",
   "metadata": {},
   "outputs": [],
   "source": [
    "text = \"\"\"\n",
    "Mój adres email to abc@email.com, napisz do mnie wiadomość\n",
    "Mój adres email to ab-c@email.com, napisz do mnie wiadomość\n",
    "\"\"\"\n",
    "\n",
    "# text = \"Mój adres email to abc@email.com, napisz do mnie wiadomość\"\n",
    "# text = \"Mój adres email to ab-c@email.com, napisz do mnie wiadomość\""
   ]
  },
  {
   "cell_type": "code",
   "execution_count": null,
   "id": "5e6c630e",
   "metadata": {},
   "outputs": [],
   "source": [
    "find_patterns('\\w+@\\w+\\.\\w+', text)"
   ]
  },
  {
   "cell_type": "code",
   "execution_count": null,
   "id": "e40c81cb",
   "metadata": {},
   "outputs": [],
   "source": [
    "find_patterns('\\s\\w+@\\w+\\.\\w+', text)"
   ]
  },
  {
   "cell_type": "markdown",
   "id": "539bbe3f",
   "metadata": {},
   "source": [
    "Gdybyśmy chcieli zawrzeć myślnik w adresie email (przed @):"
   ]
  },
  {
   "cell_type": "code",
   "execution_count": null,
   "id": "10b7e1e9",
   "metadata": {},
   "outputs": [],
   "source": [
    "find_patterns('[a-zA-Z0-9\\-]+@\\w+\\.\\w+', text)"
   ]
  },
  {
   "cell_type": "markdown",
   "id": "20a38fff",
   "metadata": {},
   "source": [
    "---"
   ]
  },
  {
   "cell_type": "markdown",
   "id": "c313c94e",
   "metadata": {},
   "source": [
    "**Liczby**"
   ]
  },
  {
   "cell_type": "code",
   "execution_count": null,
   "id": "d4a078d2",
   "metadata": {},
   "outputs": [],
   "source": [
    "text = \"Wylosowane liczby to 32, 83, 8 i 144 a także 90, ale to nie jest li123czba\""
   ]
  },
  {
   "cell_type": "code",
   "execution_count": null,
   "id": "d32c6865",
   "metadata": {},
   "outputs": [],
   "source": [
    "find_patterns('[0-9]+', text)  # * zamiast +"
   ]
  },
  {
   "cell_type": "code",
   "execution_count": null,
   "id": "c1087111",
   "metadata": {},
   "outputs": [],
   "source": [
    "find_patterns('\\b[0-9]+\\b', text)  # r-string ponieważ \\b to backspace"
   ]
  },
  {
   "cell_type": "code",
   "execution_count": null,
   "id": "4e74f19e",
   "metadata": {},
   "outputs": [],
   "source": [
    "find_patterns('[0-9]{2}', text)  # tylko liczby dwucyfrowe"
   ]
  },
  {
   "cell_type": "markdown",
   "id": "ddd108d2",
   "metadata": {},
   "source": [
    "## Funkcje biblioteki re\n",
    "### `re.sub`\n",
    "\n",
    "Funkcja `re.sub()` zwraca stringa z podmienionymi wystąpieniami patternu na dowolny zadany tekst."
   ]
  },
  {
   "cell_type": "code",
   "execution_count": 31,
   "id": "9adebe35",
   "metadata": {},
   "outputs": [
    {
     "name": "stdout",
     "output_type": "stream",
     "text": [
      "#python #programowanie\n",
      "Chcę nauczyć się Pythona!\n"
     ]
    }
   ],
   "source": [
    "text = \"\"\"#python #programowanie\n",
    "Chcę nauczyć się Pythona!\"\"\"\n",
    "\n",
    "print(text)"
   ]
  },
  {
   "cell_type": "code",
   "execution_count": 32,
   "id": "ad139082",
   "metadata": {},
   "outputs": [
    {
     "name": "stdout",
     "output_type": "stream",
     "text": [
      "<tag> <tag>\n",
      "Chcę nauczyć się Pythona!\n"
     ]
    }
   ],
   "source": [
    "print(re.sub('#\\w+', \"<tag>\", text))"
   ]
  },
  {
   "cell_type": "markdown",
   "id": "52394d93",
   "metadata": {},
   "source": [
    "Możemy ograniczyć liczbę podmian do *n* pierwszych:"
   ]
  },
  {
   "cell_type": "code",
   "execution_count": 33,
   "id": "4e5e4a42",
   "metadata": {},
   "outputs": [
    {
     "name": "stdout",
     "output_type": "stream",
     "text": [
      "<tag> #programowanie\n",
      "Chcę nauczyć się Pythona!\n"
     ]
    }
   ],
   "source": [
    "print(re.sub('#\\w+', \"<tag>\", text, 1))"
   ]
  },
  {
   "cell_type": "markdown",
   "id": "038f5918",
   "metadata": {},
   "source": [
    "### `re.findall`\n",
    "\n",
    "Zwraca listę wszystkich wystąpień patternu, ale bez informacji o położeniu:"
   ]
  },
  {
   "cell_type": "code",
   "execution_count": 34,
   "id": "c2433ca1",
   "metadata": {},
   "outputs": [
    {
     "data": {
      "text/plain": [
       "['#python', '#programowanie']"
      ]
     },
     "execution_count": 34,
     "metadata": {},
     "output_type": "execute_result"
    }
   ],
   "source": [
    "re.findall('#\\w+', text)"
   ]
  },
  {
   "cell_type": "markdown",
   "id": "e902c589",
   "metadata": {},
   "source": [
    "### `re.search`\n",
    "\n",
    "Przeszukuje stringa w poszukiwaniu patternu. Zwraca pierwszy napotkany match lub `None`"
   ]
  },
  {
   "cell_type": "code",
   "execution_count": 35,
   "id": "129439e9",
   "metadata": {},
   "outputs": [
    {
     "data": {
      "text/plain": [
       "'#python #programowanie\\nChcę nauczyć się Pythona!'"
      ]
     },
     "execution_count": 35,
     "metadata": {},
     "output_type": "execute_result"
    }
   ],
   "source": [
    "text  # print()"
   ]
  },
  {
   "cell_type": "markdown",
   "id": "b724ce79",
   "metadata": {},
   "source": [
    "---"
   ]
  },
  {
   "cell_type": "code",
   "execution_count": 36,
   "id": "0a536a00",
   "metadata": {},
   "outputs": [
    {
     "data": {
      "text/plain": [
       "<re.Match object; span=(0, 7), match='#python'>"
      ]
     },
     "execution_count": 36,
     "metadata": {},
     "output_type": "execute_result"
    }
   ],
   "source": [
    "match = re.search('#\\w+', text)\n",
    "match"
   ]
  },
  {
   "cell_type": "code",
   "execution_count": 37,
   "id": "fa36d85c",
   "metadata": {},
   "outputs": [
    {
     "data": {
      "text/plain": [
       "'#python'"
      ]
     },
     "execution_count": 37,
     "metadata": {},
     "output_type": "execute_result"
    }
   ],
   "source": [
    "match.group()"
   ]
  },
  {
   "cell_type": "code",
   "execution_count": 38,
   "id": "74073430",
   "metadata": {},
   "outputs": [
    {
     "data": {
      "text/plain": [
       "(0, 7)"
      ]
     },
     "execution_count": 38,
     "metadata": {},
     "output_type": "execute_result"
    }
   ],
   "source": [
    "match.span()"
   ]
  },
  {
   "cell_type": "markdown",
   "id": "bbd80c83",
   "metadata": {},
   "source": [
    "---"
   ]
  },
  {
   "cell_type": "code",
   "execution_count": 39,
   "id": "53c7b5af",
   "metadata": {},
   "outputs": [
    {
     "data": {
      "text/plain": [
       "True"
      ]
     },
     "execution_count": 39,
     "metadata": {},
     "output_type": "execute_result"
    }
   ],
   "source": [
    "re.search('xyz', text) is None"
   ]
  },
  {
   "cell_type": "code",
   "execution_count": 40,
   "id": "3b196ba3",
   "metadata": {},
   "outputs": [
    {
     "data": {
      "text/plain": [
       "<re.Match object; span=(14, 15), match='a'>"
      ]
     },
     "execution_count": 40,
     "metadata": {},
     "output_type": "execute_result"
    }
   ],
   "source": [
    "re.search('a', text)"
   ]
  },
  {
   "cell_type": "markdown",
   "id": "5bea531b",
   "metadata": {},
   "source": [
    "---\n",
    "\n",
    "Aby sprawdzić czy dany pattern występuje w tekście, czy nie, możemy zrzutować output funkcji `re.search` na `bool`:"
   ]
  },
  {
   "cell_type": "code",
   "execution_count": 41,
   "id": "183cb7ca",
   "metadata": {},
   "outputs": [
    {
     "data": {
      "text/plain": [
       "True"
      ]
     },
     "execution_count": 41,
     "metadata": {},
     "output_type": "execute_result"
    }
   ],
   "source": [
    "bool(re.search('a', text))"
   ]
  },
  {
   "cell_type": "code",
   "execution_count": 42,
   "id": "a4bb0c6c",
   "metadata": {},
   "outputs": [
    {
     "data": {
      "text/plain": [
       "False"
      ]
     },
     "execution_count": 42,
     "metadata": {},
     "output_type": "execute_result"
    }
   ],
   "source": [
    "bool(re.search('xyz', text))"
   ]
  },
  {
   "cell_type": "markdown",
   "id": "f3412257",
   "metadata": {},
   "source": [
    "### `re.match`\n",
    "\n",
    "Porównuje pattern do początku przekazanego stringa.\n",
    "\n",
    "Zwraca obiekt `re.Match` albo None"
   ]
  },
  {
   "cell_type": "code",
   "execution_count": 45,
   "id": "159eadce",
   "metadata": {},
   "outputs": [],
   "source": [
    "text = ' abc@email.com dalej może być dowolny tekst ....'\n",
    "\n",
    "re.match('\\w+@\\w+\\.\\w+', text)"
   ]
  },
  {
   "cell_type": "code",
   "execution_count": 46,
   "id": "c6d642ec",
   "metadata": {},
   "outputs": [],
   "source": [
    "text = 'dowolny tekst abc@email.com'\n",
    "\n",
    "re.match('\\w+@\\w+\\.\\w+', text)"
   ]
  },
  {
   "cell_type": "code",
   "execution_count": 47,
   "id": "6c6c0080",
   "metadata": {},
   "outputs": [
    {
     "data": {
      "text/plain": [
       "<re.Match object; span=(0, 13), match='abc@email.com'>"
      ]
     },
     "execution_count": 47,
     "metadata": {},
     "output_type": "execute_result"
    }
   ],
   "source": [
    "text = 'abc@email.com xyz@email.com'\n",
    "\n",
    "re.match('\\w+@\\w+\\.\\w+', text)"
   ]
  },
  {
   "cell_type": "code",
   "execution_count": 48,
   "id": "c011e02b",
   "metadata": {},
   "outputs": [],
   "source": [
    "text = 'abc@email.com xyz@email.com'\n",
    "\n",
    "re.match('^\\w+@\\w+\\.\\w+$', text)"
   ]
  },
  {
   "cell_type": "markdown",
   "id": "871b5122",
   "metadata": {},
   "source": [
    "### `re.finditer`\n",
    "\n",
    "Działa tak samo jak `re.Pattern.finditer`, ale wywołujemy ją z poziomu `re` a nie z poziomu patternu:"
   ]
  },
  {
   "cell_type": "code",
   "execution_count": 49,
   "id": "1f1e85b7",
   "metadata": {},
   "outputs": [
    {
     "data": {
      "text/plain": [
       "<callable_iterator at 0x73d1780d4670>"
      ]
     },
     "execution_count": 49,
     "metadata": {},
     "output_type": "execute_result"
    }
   ],
   "source": [
    "results = re.finditer('\\w+@\\w+\\.\\w+', text)\n",
    "results"
   ]
  },
  {
   "cell_type": "code",
   "execution_count": 50,
   "id": "5296958e",
   "metadata": {},
   "outputs": [
    {
     "name": "stdout",
     "output_type": "stream",
     "text": [
      "<re.Match object; span=(0, 13), match='abc@email.com'>\n",
      "<re.Match object; span=(14, 27), match='xyz@email.com'>\n"
     ]
    }
   ],
   "source": [
    "for item in results:\n",
    "    print(item)"
   ]
  },
  {
   "cell_type": "markdown",
   "id": "6f24fd49",
   "metadata": {},
   "source": [
    "> ZADANIA"
   ]
  }
 ],
 "metadata": {
  "kernelspec": {
   "display_name": "Python 3 (ipykernel)",
   "language": "python",
   "name": "python3"
  },
  "language_info": {
   "codemirror_mode": {
    "name": "ipython",
    "version": 3
   },
   "file_extension": ".py",
   "mimetype": "text/x-python",
   "name": "python",
   "nbconvert_exporter": "python",
   "pygments_lexer": "ipython3",
   "version": "3.11.5"
  },
  "toc": {
   "base_numbering": 1,
   "nav_menu": {},
   "number_sections": true,
   "sideBar": true,
   "skip_h1_title": true,
   "title_cell": "Table of Contents",
   "title_sidebar": "Contents",
   "toc_cell": false,
   "toc_position": {},
   "toc_section_display": true,
   "toc_window_display": false
  },
  "varInspector": {
   "cols": {
    "lenName": 16,
    "lenType": 16,
    "lenVar": 40
   },
   "kernels_config": {
    "python": {
     "delete_cmd_postfix": "",
     "delete_cmd_prefix": "del ",
     "library": "var_list.py",
     "varRefreshCmd": "print(var_dic_list())"
    },
    "r": {
     "delete_cmd_postfix": ") ",
     "delete_cmd_prefix": "rm(",
     "library": "var_list.r",
     "varRefreshCmd": "cat(var_dic_list()) "
    }
   },
   "types_to_exclude": [
    "module",
    "function",
    "builtin_function_or_method",
    "instance",
    "_Feature"
   ],
   "window_display": false
  }
 },
 "nbformat": 4,
 "nbformat_minor": 5
}
