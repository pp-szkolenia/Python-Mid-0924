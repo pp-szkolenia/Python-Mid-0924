{
 "cells": [
  {
   "cell_type": "markdown",
   "id": "c0d50c5e-69e1-46af-943d-0273a806f32d",
   "metadata": {},
   "source": [
    "# Generatory oraz iteratory\n",
    "\n",
    "## Generatory"
   ]
  },
  {
   "cell_type": "markdown",
   "id": "f35d7261-7326-44aa-a8b2-19dce77ba4c9",
   "metadata": {},
   "source": [
    "### yield, next"
   ]
  },
  {
   "cell_type": "markdown",
   "id": "218cf290-3b05-49cf-a13d-62623eabedb3",
   "metadata": {},
   "source": [
    "**Funkcja**"
   ]
  },
  {
   "cell_type": "code",
   "execution_count": 1,
   "id": "37858d84-c83f-4cce-ae17-e3e2fdabc6a9",
   "metadata": {},
   "outputs": [],
   "source": [
    "def calculate_squares_func(x):\n",
    "    output = []\n",
    "    for i in range(x):\n",
    "        output.append(i ** 2)\n",
    "    return output"
   ]
  },
  {
   "cell_type": "code",
   "execution_count": 3,
   "id": "0f649772-aac9-439a-b9e4-5a1c27a886d5",
   "metadata": {},
   "outputs": [
    {
     "data": {
      "text/plain": [
       "[0, 1, 4, 9, 16, 25, 36, 49, 64, 81]"
      ]
     },
     "execution_count": 3,
     "metadata": {},
     "output_type": "execute_result"
    }
   ],
   "source": [
    "calculate_squares_func(10)"
   ]
  },
  {
   "cell_type": "code",
   "execution_count": 4,
   "id": "c3bb01f6-414c-454c-bac2-1e423f716e1a",
   "metadata": {},
   "outputs": [
    {
     "name": "stdout",
     "output_type": "stream",
     "text": [
      "The slowest run took 5.14 times longer than the fastest. This could mean that an intermediate result is being cached.\n",
      "1.21 µs ± 429 ns per loop (mean ± std. dev. of 1000 runs, 1,000 loops each)\n"
     ]
    }
   ],
   "source": [
    "%%timeit -n 1000 -r 1000\n",
    "\n",
    "calculate_squares_func(10)"
   ]
  },
  {
   "cell_type": "code",
   "execution_count": 7,
   "id": "dfac144d-f55d-40d7-bf59-81d8a7378210",
   "metadata": {},
   "outputs": [],
   "source": [
    "func_output = calculate_squares_func(1000)  # 100, 1000"
   ]
  },
  {
   "cell_type": "code",
   "execution_count": 8,
   "id": "52b7dfa8-12bd-4c28-8fea-74ac4774292e",
   "metadata": {},
   "outputs": [
    {
     "data": {
      "text/plain": [
       "8856"
      ]
     },
     "execution_count": 8,
     "metadata": {},
     "output_type": "execute_result"
    }
   ],
   "source": [
    "import sys\n",
    "\n",
    "sys.getsizeof(func_output)"
   ]
  },
  {
   "cell_type": "markdown",
   "id": "d599f0f6-1bbc-4327-a331-071fec1e9db1",
   "metadata": {},
   "source": [
    "**Generator**"
   ]
  },
  {
   "cell_type": "code",
   "execution_count": 10,
   "id": "9d0f6fe2-7ce4-4d8c-bc87-c9d55c383d12",
   "metadata": {},
   "outputs": [],
   "source": [
    "def calculate_squares_gen(x):\n",
    "    for i in range(x):\n",
    "        yield i ** 2"
   ]
  },
  {
   "cell_type": "code",
   "execution_count": 21,
   "id": "05cda13a-8367-4a30-b8c8-01997a4b8a23",
   "metadata": {},
   "outputs": [
    {
     "data": {
      "text/plain": [
       "<generator object calculate_squares_gen at 0x7a99b34a6740>"
      ]
     },
     "execution_count": 21,
     "metadata": {},
     "output_type": "execute_result"
    }
   ],
   "source": [
    "generator_object = calculate_squares_gen(10)\n",
    "generator_object"
   ]
  },
  {
   "cell_type": "code",
   "execution_count": 23,
   "id": "01b94873-f6ee-4755-b7b5-71deca08e5f8",
   "metadata": {},
   "outputs": [
    {
     "ename": "StopIteration",
     "evalue": "",
     "output_type": "error",
     "traceback": [
      "\u001b[0;31m---------------------------------------------------------------------------\u001b[0m",
      "\u001b[0;31mStopIteration\u001b[0m                             Traceback (most recent call last)",
      "Cell \u001b[0;32mIn[23], line 1\u001b[0m\n\u001b[0;32m----> 1\u001b[0m \u001b[38;5;28mnext\u001b[39m(generator_object)\n",
      "\u001b[0;31mStopIteration\u001b[0m: "
     ]
    }
   ],
   "source": [
    "next(generator_object)"
   ]
  },
  {
   "cell_type": "code",
   "execution_count": 22,
   "id": "d7bc668a-894c-4ac4-91d4-6cf6f7070b51",
   "metadata": {},
   "outputs": [
    {
     "data": {
      "text/plain": [
       "[0, 1, 4, 9, 16, 25, 36, 49, 64, 81]"
      ]
     },
     "execution_count": 22,
     "metadata": {},
     "output_type": "execute_result"
    }
   ],
   "source": [
    "list(generator_object)"
   ]
  },
  {
   "cell_type": "code",
   "execution_count": 24,
   "id": "3e89fe60-5c12-4f85-a2c5-48d0632b941c",
   "metadata": {},
   "outputs": [
    {
     "name": "stdout",
     "output_type": "stream",
     "text": [
      "0\n",
      "1\n",
      "4\n",
      "9\n",
      "16\n",
      "25\n",
      "36\n",
      "49\n",
      "64\n",
      "81\n"
     ]
    }
   ],
   "source": [
    "for i in calculate_squares_gen(10):\n",
    "    print(i)"
   ]
  },
  {
   "cell_type": "code",
   "execution_count": 26,
   "id": "23cd899d-208f-4ce0-84a7-cc4cd48345d2",
   "metadata": {},
   "outputs": [
    {
     "name": "stdout",
     "output_type": "stream",
     "text": [
      "The slowest run took 6.18 times longer than the fastest. This could mean that an intermediate result is being cached.\n",
      "477 ns ± 153 ns per loop (mean ± std. dev. of 1000 runs, 1,000 loops each)\n"
     ]
    }
   ],
   "source": [
    "%%timeit -n 1000  -r 1000\n",
    "calculate_squares_gen(100000000000)"
   ]
  },
  {
   "cell_type": "code",
   "execution_count": 29,
   "id": "a8007bc9-ed3f-4c12-a3ed-d2fbd5db72ff",
   "metadata": {},
   "outputs": [],
   "source": [
    "gen_output = calculate_squares_gen(10000000)  # 100, 1000"
   ]
  },
  {
   "cell_type": "code",
   "execution_count": 30,
   "id": "9b23cca2-b9fa-40ce-914c-541ea0fc2c91",
   "metadata": {},
   "outputs": [
    {
     "data": {
      "text/plain": [
       "208"
      ]
     },
     "execution_count": 30,
     "metadata": {},
     "output_type": "execute_result"
    }
   ],
   "source": [
    "sys.getsizeof(gen_output)"
   ]
  },
  {
   "cell_type": "markdown",
   "id": "b9640045-1d78-4651-b2cc-027036dc9621",
   "metadata": {},
   "source": [
    "- lazy evaluation\n",
    "- oszczędza pamięć\n",
    "- jest szybszy\n",
    "- nie mylić `generator` i `generator_object`\n",
    "\n",
    "---\n",
    "---"
   ]
  },
  {
   "cell_type": "code",
   "execution_count": 31,
   "id": "81012046-d435-4a43-ba00-95a9ce7c8225",
   "metadata": {},
   "outputs": [],
   "source": [
    "def numbers_generator():\n",
    "    numbers = [1, 2, 3, 4, 5]\n",
    "    for number in numbers:\n",
    "        yield number"
   ]
  },
  {
   "cell_type": "code",
   "execution_count": 33,
   "id": "f730c22b-2959-4eeb-b786-ee88dfc37e20",
   "metadata": {},
   "outputs": [
    {
     "data": {
      "text/plain": [
       "<generator object numbers_generator at 0x7a99b34a5be0>"
      ]
     },
     "execution_count": 33,
     "metadata": {},
     "output_type": "execute_result"
    }
   ],
   "source": [
    "numbers = numbers_generator()\n",
    "numbers"
   ]
  },
  {
   "cell_type": "code",
   "execution_count": 34,
   "id": "3e2ef049-32ba-4d21-b1fc-7e59a199dbeb",
   "metadata": {},
   "outputs": [
    {
     "name": "stdout",
     "output_type": "stream",
     "text": [
      "1\n",
      "2\n",
      "3\n",
      "4\n",
      "5\n"
     ]
    }
   ],
   "source": [
    "for n in numbers:\n",
    "    print(n)"
   ]
  },
  {
   "cell_type": "code",
   "execution_count": 35,
   "id": "4e6eae06-0df2-4901-97d9-557b76b3bd76",
   "metadata": {},
   "outputs": [
    {
     "ename": "StopIteration",
     "evalue": "",
     "output_type": "error",
     "traceback": [
      "\u001b[0;31m---------------------------------------------------------------------------\u001b[0m",
      "\u001b[0;31mStopIteration\u001b[0m                             Traceback (most recent call last)",
      "Cell \u001b[0;32mIn[35], line 1\u001b[0m\n\u001b[0;32m----> 1\u001b[0m \u001b[38;5;28mnext\u001b[39m(numbers)\n",
      "\u001b[0;31mStopIteration\u001b[0m: "
     ]
    }
   ],
   "source": [
    "next(numbers)"
   ]
  },
  {
   "cell_type": "markdown",
   "id": "87a4e5b8-af96-4c88-b83b-b201936b8318",
   "metadata": {},
   "source": [
    "> **ZADANIA**"
   ]
  },
  {
   "cell_type": "markdown",
   "id": "0e611957-c251-4359-8f06-97829fb167e2",
   "metadata": {},
   "source": [
    "### `__iter__`, `__next__`, generator expression, generator nieskończony"
   ]
  },
  {
   "cell_type": "code",
   "execution_count": 36,
   "id": "261289ba-1444-483c-9f5b-55dfe6db5e11",
   "metadata": {},
   "outputs": [],
   "source": [
    "numbers = numbers_generator()"
   ]
  },
  {
   "cell_type": "code",
   "execution_count": 37,
   "id": "223c1ee7-cdcf-4858-9b83-b1f0288fb0c6",
   "metadata": {},
   "outputs": [
    {
     "data": {
      "text/plain": [
       "<generator object numbers_generator at 0x7a99b34a4930>"
      ]
     },
     "execution_count": 37,
     "metadata": {},
     "output_type": "execute_result"
    }
   ],
   "source": [
    "numbers"
   ]
  },
  {
   "cell_type": "code",
   "execution_count": 38,
   "id": "da286510-91b8-4926-9b55-2905d02a3748",
   "metadata": {},
   "outputs": [
    {
     "data": {
      "text/plain": [
       "1"
      ]
     },
     "execution_count": 38,
     "metadata": {},
     "output_type": "execute_result"
    }
   ],
   "source": [
    "next(numbers)"
   ]
  },
  {
   "cell_type": "code",
   "execution_count": 40,
   "id": "98ce7dce-8454-4caf-95eb-9af130a27ed2",
   "metadata": {},
   "outputs": [
    {
     "data": {
      "text/plain": [
       "3"
      ]
     },
     "execution_count": 40,
     "metadata": {},
     "output_type": "execute_result"
    }
   ],
   "source": [
    "numbers.__next__()"
   ]
  },
  {
   "cell_type": "code",
   "execution_count": null,
   "id": "ffe1fbc5-d4a2-4204-9633-cf5a3fba1e56",
   "metadata": {},
   "outputs": [],
   "source": [
    "next(numbers)  # -> numbers.__next__()"
   ]
  },
  {
   "cell_type": "code",
   "execution_count": 42,
   "id": "215129c3-94a5-438f-9ee6-1e4ec39eefa9",
   "metadata": {},
   "outputs": [
    {
     "data": {
      "text/plain": [
       "<list_iterator at 0x7a99a8095330>"
      ]
     },
     "execution_count": 42,
     "metadata": {},
     "output_type": "execute_result"
    }
   ],
   "source": [
    "[1, 2, 3].__iter__()"
   ]
  },
  {
   "cell_type": "code",
   "execution_count": 51,
   "id": "01d9a3ff-75e2-402d-8b00-b625543d56d8",
   "metadata": {},
   "outputs": [
    {
     "data": {
      "text/plain": [
       "<generator object numbers_generator at 0x7a99b34a4930>"
      ]
     },
     "execution_count": 51,
     "metadata": {},
     "output_type": "execute_result"
    }
   ],
   "source": [
    "numbers.__iter__().__iter__().__iter__().__iter__()"
   ]
  },
  {
   "cell_type": "code",
   "execution_count": null,
   "id": "0150b379-4d0d-45f4-a504-595f37f572f6",
   "metadata": {},
   "outputs": [],
   "source": [
    "numbers.__iter__()  # iter()"
   ]
  },
  {
   "cell_type": "code",
   "execution_count": null,
   "id": "0e1d9a94-9c23-4a20-b26e-e1d638a8932e",
   "metadata": {},
   "outputs": [],
   "source": [
    "numbers.__next__()  # next()"
   ]
  },
  {
   "cell_type": "markdown",
   "id": "63521236-1caf-4f16-8746-1d5e40878cfe",
   "metadata": {},
   "source": [
    "---"
   ]
  },
  {
   "cell_type": "code",
   "execution_count": 53,
   "id": "20c01f88-e7bb-40de-be8a-23baa21c8deb",
   "metadata": {},
   "outputs": [
    {
     "data": {
      "text/plain": [
       "[0, 1, 2, 3]"
      ]
     },
     "execution_count": 53,
     "metadata": {},
     "output_type": "execute_result"
    }
   ],
   "source": [
    "[i for i in range(4)]"
   ]
  },
  {
   "cell_type": "code",
   "execution_count": 58,
   "id": "ca61e731-5405-48b6-98d8-160ecf818ce3",
   "metadata": {},
   "outputs": [
    {
     "data": {
      "text/plain": [
       "[0, 1, 2, 3]"
      ]
     },
     "execution_count": 58,
     "metadata": {},
     "output_type": "execute_result"
    }
   ],
   "source": [
    "def generator(x):\n",
    "    for i in range(x):\n",
    "        yield i\n",
    "\n",
    "list(generator(4))"
   ]
  },
  {
   "cell_type": "code",
   "execution_count": 60,
   "id": "bbcc1e5b-5e03-4cf8-aefc-43c52640f064",
   "metadata": {},
   "outputs": [
    {
     "data": {
      "text/plain": [
       "<generator object <genexpr> at 0x7a99b171db10>"
      ]
     },
     "execution_count": 60,
     "metadata": {},
     "output_type": "execute_result"
    }
   ],
   "source": [
    "(i for i in range(4))"
   ]
  },
  {
   "cell_type": "code",
   "execution_count": 59,
   "id": "2250b684-de8e-4a33-92fa-fb897b0913ff",
   "metadata": {},
   "outputs": [
    {
     "data": {
      "text/plain": [
       "[0, 1, 2, 3]"
      ]
     },
     "execution_count": 59,
     "metadata": {},
     "output_type": "execute_result"
    }
   ],
   "source": [
    "list((i for i in range(4)))"
   ]
  },
  {
   "cell_type": "markdown",
   "id": "c1dfc004-6614-4826-a1b9-302421d52efa",
   "metadata": {},
   "source": [
    "---"
   ]
  },
  {
   "cell_type": "code",
   "execution_count": 61,
   "id": "28018c2b-009e-4f21-a49a-e72125031852",
   "metadata": {},
   "outputs": [],
   "source": [
    "def infinite_generator():\n",
    "    \"\"\"\n",
    "    use case: ID numbers generator\n",
    "    \"\"\"\n",
    "    i = 0\n",
    "    while True:\n",
    "        yield i\n",
    "        i += 1"
   ]
  },
  {
   "cell_type": "code",
   "execution_count": 62,
   "id": "4352917c-0ec8-48e1-9706-ca7c09870e15",
   "metadata": {},
   "outputs": [],
   "source": [
    "gen = infinite_generator()"
   ]
  },
  {
   "cell_type": "code",
   "execution_count": 120,
   "id": "1c7f2b1f-5509-4eb2-a982-29b05b1a5aaa",
   "metadata": {},
   "outputs": [
    {
     "data": {
      "text/plain": [
       "57"
      ]
     },
     "execution_count": 120,
     "metadata": {},
     "output_type": "execute_result"
    }
   ],
   "source": [
    "next(gen)"
   ]
  },
  {
   "cell_type": "markdown",
   "id": "79244321-fd95-40d3-8511-43e2e95c8f92",
   "metadata": {},
   "source": [
    "> **ZADANIA**"
   ]
  },
  {
   "cell_type": "markdown",
   "id": "5a53b70b-0255-4f81-bbe0-5033b3232e55",
   "metadata": {},
   "source": [
    "## Iteratory\n",
    "\n",
    "Główna idea - tworzenie własnych klas, których instancje będą iterablami\n",
    "\n",
    "Iteratory są bardziej efektywne pod względem pamięci, ponieważ nie przechowują wszystkich wartości naraz a dostają się do nich po kolei."
   ]
  },
  {
   "cell_type": "code",
   "execution_count": null,
   "id": "7356d0a1-59fa-44bf-8558-da9c7ffa1633",
   "metadata": {},
   "outputs": [],
   "source": [
    "nums = [1, 2, 3]"
   ]
  },
  {
   "cell_type": "code",
   "execution_count": null,
   "id": "fe441a49-d660-4865-af50-32ca808f2afd",
   "metadata": {
    "scrolled": true
   },
   "outputs": [],
   "source": [
    "dir(nums)"
   ]
  },
  {
   "cell_type": "code",
   "execution_count": null,
   "id": "2f6c9953-7552-47f1-b4dd-5cfdfbdf92bb",
   "metadata": {},
   "outputs": [],
   "source": [
    "nums.__iter__()  # lista zamieniona na iterator\n",
    "\n",
    "# iterator to obiekt po którym można iterować a on pamięta na którym elemenencie akutalnie jesteśmy"
   ]
  },
  {
   "cell_type": "code",
   "execution_count": null,
   "id": "f3453253-6126-4ae7-be33-a30ecedbdd91",
   "metadata": {},
   "outputs": [],
   "source": [
    "next(nums)  # na liście nie można wywoływać next"
   ]
  },
  {
   "cell_type": "code",
   "execution_count": null,
   "id": "2c6f77e2-608b-4235-a7c4-e16afa026ab4",
   "metadata": {},
   "outputs": [],
   "source": [
    "iter_nums = nums.__iter__()\n",
    "\n",
    "iter_nums = iter(nums)  # alternatywny zapis"
   ]
  },
  {
   "cell_type": "code",
   "execution_count": null,
   "id": "90ce0ae8-cc8f-4f9c-9278-171443b5a61b",
   "metadata": {},
   "outputs": [],
   "source": [
    "iter_nums"
   ]
  },
  {
   "cell_type": "code",
   "execution_count": null,
   "id": "0d3a09af-2593-466f-8819-f3be4be0bc4d",
   "metadata": {},
   "outputs": [],
   "source": [
    "next(iter_nums)"
   ]
  },
  {
   "cell_type": "markdown",
   "id": "78fb182a-9c43-4add-aaf9-c566b250d910",
   "metadata": {},
   "source": [
    "Jak działa pętla for po liście - zamiana listy na iterator, wykonywanie pętli tak długo aż będzie StopIteration error"
   ]
  },
  {
   "cell_type": "code",
   "execution_count": null,
   "id": "6a300e12-9444-4f3c-9824-43b1010f03ba",
   "metadata": {},
   "outputs": [],
   "source": [
    "nums"
   ]
  },
  {
   "cell_type": "code",
   "execution_count": null,
   "id": "2d9df114-b284-4499-9986-2662e71b2756",
   "metadata": {},
   "outputs": [],
   "source": [
    "for num in nums:\n",
    "    print(num)"
   ]
  },
  {
   "cell_type": "code",
   "execution_count": null,
   "id": "8f8b103c-e182-4ab1-946c-8d74d2d6d712",
   "metadata": {},
   "outputs": [],
   "source": [
    "# tak działa pętla for\n",
    "nums_iter = iter(nums)\n",
    "while True:\n",
    "    try:\n",
    "        num = next(nums_iter)\n",
    "        print(num)\n",
    "    except StopIteration:\n",
    "        break"
   ]
  },
  {
   "cell_type": "markdown",
   "id": "a884abb7-4726-4d02-b4da-22c4b7a41c76",
   "metadata": {},
   "source": [
    "---"
   ]
  },
  {
   "cell_type": "markdown",
   "id": "2f864b06-8968-4a91-950f-60cc5cc28e52",
   "metadata": {},
   "source": [
    "Napiszmy własny iterator\n",
    "\n",
    "(uwaga - `range()` nie jest iteratorem ponieważ nie ma `__next__()`)"
   ]
  },
  {
   "cell_type": "code",
   "execution_count": null,
   "id": "4ce31f4a-4545-411e-973a-883b1ff5a3b4",
   "metadata": {},
   "outputs": [],
   "source": [
    "class MyRange:\n",
    "    def __init__(self, start, end):\n",
    "        self.value = start\n",
    "        self.end = end\n",
    "        \n",
    "    def __iter__(self):\n",
    "        # jak coś jest iteratorem, to jego __iter__ zwraca ten obiekt\n",
    "        # iterując po X iterujemy tak naprawdę po X.__iter__()\n",
    "        return self\n",
    "\n",
    "    def __next__(self):\n",
    "        if self.value >= self.end:\n",
    "            raise StopIteration\n",
    "        \n",
    "        current = self.value\n",
    "        self.value += 1\n",
    "        return current"
   ]
  },
  {
   "cell_type": "code",
   "execution_count": null,
   "id": "7b0a17fa-a875-4ff4-b336-7edc93c71c11",
   "metadata": {},
   "outputs": [],
   "source": [
    "myrange = MyRange(1, 10)"
   ]
  },
  {
   "cell_type": "code",
   "execution_count": null,
   "id": "4862cf6e-5c78-4c47-944d-512d78cb8f53",
   "metadata": {},
   "outputs": [],
   "source": [
    "myrange"
   ]
  },
  {
   "cell_type": "code",
   "execution_count": null,
   "id": "8269fb67-680f-43be-9354-2672ffbc9c76",
   "metadata": {},
   "outputs": [],
   "source": [
    "for num in myrange:\n",
    "    print(num)"
   ]
  },
  {
   "cell_type": "markdown",
   "id": "7c0e4111-a2a2-4096-ae82-2313b57ce427",
   "metadata": {},
   "source": [
    "Generator objects (zwracane przez generatory) też są iteratorami, ale nie musimy wprost definiować im `__next__` ani `__iter__` ponieważ nie tworzymy klasy."
   ]
  },
  {
   "cell_type": "code",
   "execution_count": null,
   "id": "930ac73e-3710-4ce1-bb31-6ceeb67503ac",
   "metadata": {},
   "outputs": [],
   "source": [
    "def my_range(start, end):\n",
    "    current = start\n",
    "    while current < end:\n",
    "        yield current\n",
    "        current += 1"
   ]
  },
  {
   "cell_type": "code",
   "execution_count": null,
   "id": "c5361b9d-8c7e-45ea-b31a-bcf25b09caa0",
   "metadata": {},
   "outputs": [],
   "source": [
    "for i in my_range(1, 10):\n",
    "    print(i)"
   ]
  },
  {
   "cell_type": "markdown",
   "id": "c643704b-d444-4874-8865-d1de1466aed3",
   "metadata": {},
   "source": [
    "Przykład:"
   ]
  },
  {
   "cell_type": "code",
   "execution_count": null,
   "id": "11d1f061-8a2d-469c-b36f-f565a88989a8",
   "metadata": {},
   "outputs": [],
   "source": [
    "class FibonacciIterator:\n",
    "    def __init__(self, limit):\n",
    "        self.limit = limit\n",
    "        self.a, self.b = 1, 1\n",
    "        self.count = 0\n",
    "\n",
    "    def __iter__(self):\n",
    "        return self\n",
    "\n",
    "    def __next__(self):\n",
    "        if self.count >= self.limit:\n",
    "            raise StopIteration\n",
    "\n",
    "        result = self.a\n",
    "        self.a, self.b = self.b, self.a + self.b\n",
    "        self.count += 1\n",
    "        return result\n",
    "\n",
    "# Przykład użycia\n",
    "fibonacci_iter = FibonacciIterator(10)\n",
    "\n",
    "for num in fibonacci_iter:\n",
    "    print(num)\n"
   ]
  },
  {
   "cell_type": "markdown",
   "id": "78659efc-ed04-4d48-8891-ce08959bfa59",
   "metadata": {},
   "source": [
    "Nieskończony iterator"
   ]
  },
  {
   "cell_type": "code",
   "execution_count": null,
   "id": "8dec077a-7802-467f-92fa-f01902e545e0",
   "metadata": {},
   "outputs": [],
   "source": [
    "class MyRange:\n",
    "    def __init__(self, start):\n",
    "        self.value = start\n",
    "        \n",
    "    def __iter__(self):\n",
    "        return self\n",
    "    \n",
    "    def __next__(self):\n",
    "        current = self.value\n",
    "        self.value += 1\n",
    "        return current"
   ]
  },
  {
   "cell_type": "code",
   "execution_count": null,
   "id": "e794ed69-f72f-445c-9640-f51574468c2e",
   "metadata": {},
   "outputs": [],
   "source": [
    "myr = MyRange(4)"
   ]
  },
  {
   "cell_type": "code",
   "execution_count": null,
   "id": "7f9bc626-98b9-4609-8750-7fbe2691ab01",
   "metadata": {
    "scrolled": true
   },
   "outputs": [],
   "source": [
    "next(myr)"
   ]
  },
  {
   "cell_type": "markdown",
   "id": "474e0154-55fb-447e-84dd-2575b315cf94",
   "metadata": {},
   "source": [
    "> **ZADANIA**"
   ]
  }
 ],
 "metadata": {
  "kernelspec": {
   "display_name": "Python 3 (ipykernel)",
   "language": "python",
   "name": "python3"
  },
  "language_info": {
   "codemirror_mode": {
    "name": "ipython",
    "version": 3
   },
   "file_extension": ".py",
   "mimetype": "text/x-python",
   "name": "python",
   "nbconvert_exporter": "python",
   "pygments_lexer": "ipython3",
   "version": "3.11.5"
  }
 },
 "nbformat": 4,
 "nbformat_minor": 5
}
