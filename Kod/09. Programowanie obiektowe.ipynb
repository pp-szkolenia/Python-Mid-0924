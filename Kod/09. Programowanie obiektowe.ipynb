{
 "cells": [
  {
   "cell_type": "markdown",
   "id": "3ed060a9",
   "metadata": {},
   "source": [
    "# Programowanie obiektowe\n",
    "## Klasa oraz obiekt\n",
    "\n",
    "1. **Klasa** to pojęcie bardzo zbliżone do **typu**. W praktyce można je ze sobą utożsamić. Typy wbudowane takie jak `int`, `str` czy `list` są zdefiniowane poprzez klasy.\n",
    "2. Klasa jest **ogólnym** i abstrakcyjnym **opisem** własności oraz działań jakie mogą być wykonywane na przedstawicielach tej klasy.\n",
    "3. Przedstawicieli klasy nazywamy jej **instancjami** lub **obiektami**.\n",
    "4. Parametry opisujące obiekty nazywamy ich **atrybutami**. Działania, jakie możemy wykonywać na obiektach to **metody**.\n",
    "\n",
    "---\n",
    "\n",
    "Programowanie zorientowane obiektowo (*Object Oriented Programming*) to jeden z paradygmatów w programowaniu. Ze względu na swoją specifykę pozwala on na przejrzystą implementację bardziej abstrakcyjnych mechanizmów niż w podejściu proceduralnym.\n",
    "\n",
    "Proste abstrakcje możemy modelować za pomocą struktur danych - list czy słowników. Jednak bardziej zaawansowane obiekty wygodniej będzie reprezentować przy pomocy własnych klas."
   ]
  },
  {
   "cell_type": "code",
   "execution_count": 1,
   "id": "e0dc3473",
   "metadata": {},
   "outputs": [
    {
     "name": "stdout",
     "output_type": "stream",
     "text": [
      "<class 'int'>\n"
     ]
    }
   ],
   "source": [
    "print(type(1))"
   ]
  },
  {
   "cell_type": "code",
   "execution_count": 2,
   "id": "9afe8dd2",
   "metadata": {},
   "outputs": [
    {
     "name": "stdout",
     "output_type": "stream",
     "text": [
      "<class 'type'>\n"
     ]
    }
   ],
   "source": [
    "print(type(int))"
   ]
  },
  {
   "cell_type": "markdown",
   "id": "eb14a487",
   "metadata": {},
   "source": [
    "---"
   ]
  },
  {
   "cell_type": "code",
   "execution_count": 4,
   "id": "0347871d",
   "metadata": {},
   "outputs": [
    {
     "data": {
      "text/plain": [
       "str"
      ]
     },
     "execution_count": 4,
     "metadata": {},
     "output_type": "execute_result"
    }
   ],
   "source": [
    "str  # str class"
   ]
  },
  {
   "cell_type": "code",
   "execution_count": 5,
   "id": "a8edd1ca",
   "metadata": {
    "scrolled": true
   },
   "outputs": [
    {
     "data": {
      "text/plain": [
       "'hello'"
      ]
     },
     "execution_count": 5,
     "metadata": {},
     "output_type": "execute_result"
    }
   ],
   "source": [
    "\"hello\"  #  string object (instance of str class)"
   ]
  },
  {
   "cell_type": "code",
   "execution_count": 6,
   "id": "92f7ee26",
   "metadata": {},
   "outputs": [
    {
     "data": {
      "text/plain": [
       "'HELLO'"
      ]
     },
     "execution_count": 6,
     "metadata": {},
     "output_type": "execute_result"
    }
   ],
   "source": [
    "\"hello\".upper()  # method of str class"
   ]
  },
  {
   "cell_type": "markdown",
   "id": "33792ee6",
   "metadata": {},
   "source": [
    "Korzystanie z klas (czyli *programowanie zorientowane obiektowo*) pozwala zamknać wszystkie funkcjonalności dotyczące danego typu obiektów w jednym kawałku kodu. Od nas zależy co będziemy modelować za pomocą klas, a co nie.\n",
    "\n",
    "\n",
    "**Przykłady wykorzystania klas:**\n",
    "\n",
    "1. Software do projektowania modeli graficznych\n",
    "\n",
    "Poszczególne kształty będą definiowane jako klasy. Np. kwadrat może posiadać atrybut \"długość boku\" oraz metody \"policz pole powierzchni\" albo \"policz obwód\".\n",
    "\n",
    "W razie potrzeby można dodać kolejne funkcjonalności, np. kolor (atrybut) czy przesuwanie w przestrzeni (metoda)."
   ]
  },
  {
   "cell_type": "markdown",
   "id": "283ffbc3",
   "metadata": {},
   "source": [
    "---"
   ]
  },
  {
   "cell_type": "markdown",
   "id": "29ae48e4",
   "metadata": {},
   "source": [
    "2. Portale społecznościowe\n",
    "\n",
    "Użytkownik takiego portalu będzie instancją klasy `User`. Jego atrybutami będą: imię, nazwisko, adres e-mail, liczba znajomych itp. a metodami np. zaproś do znajomych, zmień adres e-mail czy napisz post."
   ]
  },
  {
   "cell_type": "markdown",
   "id": "cfea40f2",
   "metadata": {},
   "source": [
    "---"
   ]
  },
  {
   "cell_type": "markdown",
   "id": "c0f08014",
   "metadata": {},
   "source": [
    "3. Aplikacja okienkowa z graficznym interfejsem\n",
    "\n",
    "Okno takiej aplikacji może być instancją odpowiedniej klasy. Jego atrybuty to m.in.: wysokość, szerokość, położenie lewego górnego rogu. Metodami tej klasy będzie: minimalizacja okna, zmiana wyokości/szerokości, zamknięcie okna."
   ]
  },
  {
   "cell_type": "markdown",
   "id": "659aba08",
   "metadata": {},
   "source": [
    "**Klasa i obiekt – podsumowanie:**\n",
    "\n",
    "- Klasa jest implementacją typu danych\n",
    "- Składa się z atrybutów (parametrów opisujących obiekt) oraz metod (funkcji, które możemy wywołać na obiekcie)\n",
    "- Programowanie zorientowane obiektowo jest jednym z podstawowych paradygmatów programowania"
   ]
  },
  {
   "cell_type": "markdown",
   "id": "83d3593e",
   "metadata": {},
   "source": [
    "## Definicja klasy (konstruktor, atrybuty, metody)\n",
    "\n",
    "### Przykład 1: Kształty"
   ]
  },
  {
   "cell_type": "markdown",
   "id": "376692c3-6ef2-4c5b-a9ec-ff4f12122e8d",
   "metadata": {},
   "source": [
    "Konstruktor - połączenie metod `__init__` oraz `__new__`"
   ]
  },
  {
   "cell_type": "markdown",
   "id": "aa4d2b32-acc4-4416-9ee4-d68c59b1cc66",
   "metadata": {},
   "source": [
    "dunder method\n",
    "\n",
    "Double  UNDERscore"
   ]
  },
  {
   "cell_type": "code",
   "execution_count": 10,
   "id": "d345a853",
   "metadata": {},
   "outputs": [],
   "source": [
    "class Square:\n",
    "    def __init__(self, side_length):\n",
    "        self.side_length = side_length"
   ]
  },
  {
   "cell_type": "code",
   "execution_count": 13,
   "id": "90482e03",
   "metadata": {},
   "outputs": [
    {
     "data": {
      "text/plain": [
       "__main__.Square"
      ]
     },
     "execution_count": 13,
     "metadata": {},
     "output_type": "execute_result"
    }
   ],
   "source": [
    "my_square = Square(5)\n",
    "\n",
    "type(my_square)"
   ]
  },
  {
   "cell_type": "code",
   "execution_count": 15,
   "id": "0f09d560",
   "metadata": {},
   "outputs": [
    {
     "data": {
      "text/plain": [
       "type"
      ]
     },
     "execution_count": 15,
     "metadata": {},
     "output_type": "execute_result"
    }
   ],
   "source": [
    "type(type(my_square))"
   ]
  },
  {
   "cell_type": "code",
   "execution_count": 16,
   "id": "cd95dbcd",
   "metadata": {},
   "outputs": [
    {
     "data": {
      "text/plain": [
       "5"
      ]
     },
     "execution_count": 16,
     "metadata": {},
     "output_type": "execute_result"
    }
   ],
   "source": [
    "my_square.side_length"
   ]
  },
  {
   "cell_type": "markdown",
   "id": "cf444bd6",
   "metadata": {},
   "source": [
    "---"
   ]
  },
  {
   "cell_type": "code",
   "execution_count": 17,
   "id": "0e7e20ae",
   "metadata": {},
   "outputs": [],
   "source": [
    "class Square:\n",
    "    def __init__(self, side_length, color):\n",
    "        self.side_length = side_length\n",
    "        self.color = color\n",
    "    \n",
    "    def calculate_area(self):\n",
    "        return self.side_length ** 2\n",
    "    \n",
    "    def calculate_perimeter(self):\n",
    "        return self.side_length * 4"
   ]
  },
  {
   "cell_type": "code",
   "execution_count": 19,
   "id": "d6c421ff",
   "metadata": {},
   "outputs": [
    {
     "data": {
      "text/plain": [
       "'blue'"
      ]
     },
     "execution_count": 19,
     "metadata": {},
     "output_type": "execute_result"
    }
   ],
   "source": [
    "my_square = Square(5, \"blue\")\n",
    "my_square.color"
   ]
  },
  {
   "cell_type": "code",
   "execution_count": 20,
   "id": "e0760859",
   "metadata": {},
   "outputs": [
    {
     "data": {
      "text/plain": [
       "5"
      ]
     },
     "execution_count": 20,
     "metadata": {},
     "output_type": "execute_result"
    }
   ],
   "source": [
    "my_square.side_length"
   ]
  },
  {
   "cell_type": "code",
   "execution_count": 21,
   "id": "094520b4",
   "metadata": {},
   "outputs": [
    {
     "data": {
      "text/plain": [
       "25"
      ]
     },
     "execution_count": 21,
     "metadata": {},
     "output_type": "execute_result"
    }
   ],
   "source": [
    "my_square.calculate_area()"
   ]
  },
  {
   "cell_type": "code",
   "execution_count": 22,
   "id": "3498bad5",
   "metadata": {},
   "outputs": [
    {
     "data": {
      "text/plain": [
       "20"
      ]
     },
     "execution_count": 22,
     "metadata": {},
     "output_type": "execute_result"
    }
   ],
   "source": [
    "my_square.calculate_perimeter()"
   ]
  },
  {
   "cell_type": "markdown",
   "id": "28cee276",
   "metadata": {},
   "source": [
    "---"
   ]
  },
  {
   "cell_type": "code",
   "execution_count": 23,
   "id": "d2b2e989",
   "metadata": {},
   "outputs": [],
   "source": [
    "class Rectangle:\n",
    "    def __init__(self, a, b):\n",
    "        self.width = a\n",
    "        self.height = b\n",
    "    \n",
    "    def calculate_area(self):\n",
    "        return self.width * self.height\n",
    "    \n",
    "    def calculate_perimeter(self):\n",
    "        return 2 * (self.width + self.height)"
   ]
  },
  {
   "cell_type": "code",
   "execution_count": 24,
   "id": "f6263086",
   "metadata": {},
   "outputs": [],
   "source": [
    "my_rectangle = Rectangle(3, 5)"
   ]
  },
  {
   "cell_type": "code",
   "execution_count": 25,
   "id": "326492e1",
   "metadata": {},
   "outputs": [
    {
     "data": {
      "text/plain": [
       "(3, 5)"
      ]
     },
     "execution_count": 25,
     "metadata": {},
     "output_type": "execute_result"
    }
   ],
   "source": [
    "my_rectangle.width, my_rectangle.height"
   ]
  },
  {
   "cell_type": "code",
   "execution_count": 26,
   "id": "6a349e5e",
   "metadata": {},
   "outputs": [
    {
     "data": {
      "text/plain": [
       "15"
      ]
     },
     "execution_count": 26,
     "metadata": {},
     "output_type": "execute_result"
    }
   ],
   "source": [
    "my_rectangle.calculate_area()"
   ]
  },
  {
   "cell_type": "code",
   "execution_count": 27,
   "id": "5ecde021",
   "metadata": {},
   "outputs": [
    {
     "data": {
      "text/plain": [
       "16"
      ]
     },
     "execution_count": 27,
     "metadata": {},
     "output_type": "execute_result"
    }
   ],
   "source": [
    "my_rectangle.calculate_perimeter()"
   ]
  },
  {
   "cell_type": "code",
   "execution_count": 29,
   "id": "3a76b0b2-491c-4a55-8090-f161d375a594",
   "metadata": {},
   "outputs": [],
   "source": [
    "my_rectangle.width = 30"
   ]
  },
  {
   "cell_type": "code",
   "execution_count": 31,
   "id": "b12fe5e1-9771-48ad-bac6-c4acc7fe35e5",
   "metadata": {},
   "outputs": [],
   "source": [
    "my_rectangle.width = -3"
   ]
  },
  {
   "cell_type": "code",
   "execution_count": 32,
   "id": "3dce4069-5075-48e7-a4bb-3de091a93571",
   "metadata": {},
   "outputs": [
    {
     "data": {
      "text/plain": [
       "-3"
      ]
     },
     "execution_count": 32,
     "metadata": {},
     "output_type": "execute_result"
    }
   ],
   "source": [
    "my_rectangle.width"
   ]
  },
  {
   "cell_type": "markdown",
   "id": "531e4237",
   "metadata": {},
   "source": [
    "---"
   ]
  },
  {
   "cell_type": "code",
   "execution_count": 40,
   "id": "c34937f3",
   "metadata": {},
   "outputs": [],
   "source": [
    "class Rectangle:\n",
    "    def __init__(self, a, b):\n",
    "        self.width = a\n",
    "        self.height = b\n",
    "    \n",
    "    def calculate_area(self):\n",
    "        return self.width * self.height\n",
    "\n",
    "    def calculate_perimeter(self):\n",
    "        return 2 * (self.width + self.height)\n",
    "\n",
    "    def modify_dimensions(self, new_width=None, new_height=None):\n",
    "        if new_width:\n",
    "            self.width = new_width\n",
    "        \n",
    "        if new_height:\n",
    "            self.height = new_height"
   ]
  },
  {
   "cell_type": "code",
   "execution_count": 34,
   "id": "b2aac964",
   "metadata": {},
   "outputs": [
    {
     "data": {
      "text/plain": [
       "(3, 5)"
      ]
     },
     "execution_count": 34,
     "metadata": {},
     "output_type": "execute_result"
    }
   ],
   "source": [
    "my_rectangle = Rectangle(3, 5)\n",
    "\n",
    "my_rectangle.width, my_rectangle.height"
   ]
  },
  {
   "cell_type": "code",
   "execution_count": 38,
   "id": "f530348b",
   "metadata": {},
   "outputs": [],
   "source": [
    "my_rectangle.modify_dimensions(new_height=2, new_width=10)"
   ]
  },
  {
   "cell_type": "code",
   "execution_count": 39,
   "id": "20baff8a",
   "metadata": {},
   "outputs": [
    {
     "data": {
      "text/plain": [
       "(10, 2)"
      ]
     },
     "execution_count": 39,
     "metadata": {},
     "output_type": "execute_result"
    }
   ],
   "source": [
    "my_rectangle.width, my_rectangle.height"
   ]
  },
  {
   "cell_type": "markdown",
   "id": "5e35d450",
   "metadata": {},
   "source": [
    "---"
   ]
  },
  {
   "cell_type": "code",
   "execution_count": 63,
   "id": "cb12d43c",
   "metadata": {},
   "outputs": [],
   "source": [
    "class Circle:\n",
    "    PI = 3.1415926  # class attribute\n",
    "\n",
    "    def __init__(self, r):\n",
    "        self.radius = r\n",
    "        \n",
    "    def calculate_area(self):\n",
    "        return self.PI * self.radius ** 2\n",
    "    \n",
    "    def calculate_circumference(self):\n",
    "        return 2 * self.PI * self.radius"
   ]
  },
  {
   "cell_type": "code",
   "execution_count": 64,
   "id": "2860b9ea",
   "metadata": {},
   "outputs": [
    {
     "data": {
      "text/plain": [
       "10"
      ]
     },
     "execution_count": 64,
     "metadata": {},
     "output_type": "execute_result"
    }
   ],
   "source": [
    "my_circle = Circle(10)\n",
    "my_circle.radius"
   ]
  },
  {
   "cell_type": "code",
   "execution_count": 65,
   "id": "c564e4aa-e202-4d74-9324-5fc254d5b7b1",
   "metadata": {},
   "outputs": [
    {
     "data": {
      "text/plain": [
       "3.1415926"
      ]
     },
     "execution_count": 65,
     "metadata": {},
     "output_type": "execute_result"
    }
   ],
   "source": [
    "Circle.PI"
   ]
  },
  {
   "cell_type": "code",
   "execution_count": 66,
   "id": "5a4e531e",
   "metadata": {},
   "outputs": [
    {
     "data": {
      "text/plain": [
       "3.1415926"
      ]
     },
     "execution_count": 66,
     "metadata": {},
     "output_type": "execute_result"
    }
   ],
   "source": [
    "my_circle.PI"
   ]
  },
  {
   "cell_type": "code",
   "execution_count": 74,
   "id": "5ec4cfb6-e572-4b23-b9f1-eef38770ffbe",
   "metadata": {},
   "outputs": [],
   "source": [
    "Circle.PI = 3"
   ]
  },
  {
   "cell_type": "code",
   "execution_count": 68,
   "id": "5fe4f358-9df9-45ae-988b-b05f5e89b5d7",
   "metadata": {},
   "outputs": [
    {
     "data": {
      "text/plain": [
       "3"
      ]
     },
     "execution_count": 68,
     "metadata": {},
     "output_type": "execute_result"
    }
   ],
   "source": [
    "Circle.PI"
   ]
  },
  {
   "cell_type": "code",
   "execution_count": 69,
   "id": "3d89d71b-b849-40f2-8557-c59a10869261",
   "metadata": {},
   "outputs": [
    {
     "data": {
      "text/plain": [
       "3"
      ]
     },
     "execution_count": 69,
     "metadata": {},
     "output_type": "execute_result"
    }
   ],
   "source": [
    "my_circle.PI"
   ]
  },
  {
   "cell_type": "code",
   "execution_count": 56,
   "id": "1eba450e-7ce2-4913-89c2-48afad752594",
   "metadata": {},
   "outputs": [
    {
     "data": {
      "text/plain": [
       "3"
      ]
     },
     "execution_count": 56,
     "metadata": {},
     "output_type": "execute_result"
    }
   ],
   "source": [
    "Circle(1).PI"
   ]
  },
  {
   "cell_type": "code",
   "execution_count": 70,
   "id": "d4c0fb7e-0b03-4ec2-9d2f-09c4e3774fc8",
   "metadata": {},
   "outputs": [],
   "source": [
    "circle_1 = Circle(10)\n",
    "circle_2 = Circle(20)"
   ]
  },
  {
   "cell_type": "code",
   "execution_count": 71,
   "id": "81dffdb4-b49e-419c-b503-bd25cd71d27c",
   "metadata": {},
   "outputs": [
    {
     "data": {
      "text/plain": [
       "(3, 3)"
      ]
     },
     "execution_count": 71,
     "metadata": {},
     "output_type": "execute_result"
    }
   ],
   "source": [
    "circle_1.PI, circle_2.PI"
   ]
  },
  {
   "cell_type": "code",
   "execution_count": 72,
   "id": "ddbc5d45-6a5d-4861-bb00-122ba4507d48",
   "metadata": {},
   "outputs": [],
   "source": [
    "circle_1.PI = 2"
   ]
  },
  {
   "cell_type": "code",
   "execution_count": 75,
   "id": "715be363-e29a-40c1-b4c8-66dae2538d4b",
   "metadata": {},
   "outputs": [
    {
     "data": {
      "text/plain": [
       "(2, 3)"
      ]
     },
     "execution_count": 75,
     "metadata": {},
     "output_type": "execute_result"
    }
   ],
   "source": [
    "circle_1.PI, circle_2.PI"
   ]
  },
  {
   "cell_type": "code",
   "execution_count": null,
   "id": "45a21201-4a33-4ff9-ae4a-0c50b0239380",
   "metadata": {},
   "outputs": [],
   "source": []
  },
  {
   "cell_type": "markdown",
   "id": "d5f5b32d",
   "metadata": {},
   "source": [
    "> **ZADANIA**"
   ]
  },
  {
   "cell_type": "markdown",
   "id": "023d3fa8",
   "metadata": {},
   "source": [
    "### Przykład 2: task manager"
   ]
  },
  {
   "cell_type": "code",
   "execution_count": 76,
   "id": "ce4660e9",
   "metadata": {},
   "outputs": [],
   "source": [
    "class Task:\n",
    "    def __init__(self, text, assignee=None, tags=[]):\n",
    "        self.description = text\n",
    "        self.assignee = assignee\n",
    "        self.tags = tags\n",
    "        self.comments = []  # why not in parameters?"
   ]
  },
  {
   "cell_type": "code",
   "execution_count": 77,
   "id": "bae3616b",
   "metadata": {},
   "outputs": [],
   "source": [
    "task_description = \"Learn Python\"\n",
    "task_assignee = \"Andrzej\"\n",
    "\n",
    "task = Task(task_description, task_assignee)"
   ]
  },
  {
   "cell_type": "code",
   "execution_count": 78,
   "id": "be70b54b",
   "metadata": {},
   "outputs": [
    {
     "data": {
      "text/plain": [
       "'Learn Python'"
      ]
     },
     "execution_count": 78,
     "metadata": {},
     "output_type": "execute_result"
    }
   ],
   "source": [
    "task.description"
   ]
  },
  {
   "cell_type": "code",
   "execution_count": 79,
   "id": "6a470667",
   "metadata": {},
   "outputs": [
    {
     "data": {
      "text/plain": [
       "'Andrzej'"
      ]
     },
     "execution_count": 79,
     "metadata": {},
     "output_type": "execute_result"
    }
   ],
   "source": [
    "task.assignee"
   ]
  },
  {
   "cell_type": "code",
   "execution_count": 80,
   "id": "eb52cd69",
   "metadata": {},
   "outputs": [
    {
     "data": {
      "text/plain": [
       "[]"
      ]
     },
     "execution_count": 80,
     "metadata": {},
     "output_type": "execute_result"
    }
   ],
   "source": [
    "task.tags"
   ]
  },
  {
   "cell_type": "code",
   "execution_count": 81,
   "id": "4036fde7",
   "metadata": {},
   "outputs": [
    {
     "data": {
      "text/plain": [
       "[]"
      ]
     },
     "execution_count": 81,
     "metadata": {},
     "output_type": "execute_result"
    }
   ],
   "source": [
    "task.comments"
   ]
  },
  {
   "cell_type": "markdown",
   "id": "7183a37b",
   "metadata": {},
   "source": [
    "---"
   ]
  },
  {
   "cell_type": "code",
   "execution_count": 82,
   "id": "dd8a21ac",
   "metadata": {},
   "outputs": [],
   "source": [
    "class Task:\n",
    "    def __init__(self, text, assignee=None, tags=[]):\n",
    "        self.description = text\n",
    "        self.assignee = assignee\n",
    "        self.tags = tags\n",
    "        self.comments = []\n",
    "        \n",
    "    def modify_description(self, new_description):\n",
    "        self.description = new_description\n",
    "        \n",
    "    def add_comment(self, comment):\n",
    "        self.comments.append(comment)"
   ]
  },
  {
   "cell_type": "code",
   "execution_count": 83,
   "id": "8ed412ad",
   "metadata": {},
   "outputs": [],
   "source": [
    "task_text = \"Learn Python\"\n",
    "task_assignee = \"Andrzej\"\n",
    "\n",
    "task = Task(task_text, task_assignee)"
   ]
  },
  {
   "cell_type": "code",
   "execution_count": 84,
   "id": "01a11879",
   "metadata": {},
   "outputs": [
    {
     "data": {
      "text/plain": [
       "'Learn Python'"
      ]
     },
     "execution_count": 84,
     "metadata": {},
     "output_type": "execute_result"
    }
   ],
   "source": [
    "task.description"
   ]
  },
  {
   "cell_type": "code",
   "execution_count": 85,
   "id": "31c0ce65",
   "metadata": {},
   "outputs": [
    {
     "data": {
      "text/plain": [
       "'Practice Python'"
      ]
     },
     "execution_count": 85,
     "metadata": {},
     "output_type": "execute_result"
    }
   ],
   "source": [
    "task.modify_description(\"Practice Python\")\n",
    "task.description"
   ]
  },
  {
   "cell_type": "code",
   "execution_count": 86,
   "id": "7dae51af",
   "metadata": {},
   "outputs": [
    {
     "data": {
      "text/plain": [
       "[]"
      ]
     },
     "execution_count": 86,
     "metadata": {},
     "output_type": "execute_result"
    }
   ],
   "source": [
    "task.comments"
   ]
  },
  {
   "cell_type": "code",
   "execution_count": 87,
   "id": "d2d64665",
   "metadata": {},
   "outputs": [],
   "source": [
    "my_comment = {\n",
    "    \"author\": \"Andżela\",\n",
    "    \"text\": \"Good luck!\"\n",
    "}\n",
    "\n",
    "\n",
    "task.add_comment(my_comment)"
   ]
  },
  {
   "cell_type": "code",
   "execution_count": 88,
   "id": "a5de4c21",
   "metadata": {},
   "outputs": [
    {
     "data": {
      "text/plain": [
       "[{'author': 'Andżela', 'text': 'Good luck!'}]"
      ]
     },
     "execution_count": 88,
     "metadata": {},
     "output_type": "execute_result"
    }
   ],
   "source": [
    "task.comments"
   ]
  },
  {
   "cell_type": "markdown",
   "id": "9d6fbe4a",
   "metadata": {},
   "source": [
    "**Definicja klasy – podsumowanie:**\n",
    "\n",
    "- Nazwa klasy powinna zaczynać się od wielkiej litery\n",
    "- Klasy prawie zawsze posiadają metodę inicjalizacyjną, która zawiera zestaw instrukcji, jakie zostają wykonane po utworzeniu obiektu. Przede wszystkim są tam przypisywane wartości do atrybutów\n",
    "- Aby odwołać się do atrybutu lub metody obiektu poza klasą, należy użyć zapisu `<object_name>.<attr_or_method_name>`\n",
    "- Aby odwołać się do atrybutu lub metody obiektu wewnątrz klasy, należy użyć zapisu `self.<attr_or_method_name>`"
   ]
  },
  {
   "cell_type": "markdown",
   "id": "fcd4e69e",
   "metadata": {},
   "source": [
    "> **ZADANIA**"
   ]
  },
  {
   "cell_type": "markdown",
   "id": "51ab2718",
   "metadata": {},
   "source": [
    "## Dziedziczenie\n",
    "\n",
    "Jeżeli chcemy stworzyć wiele klas, które mają pewną część wspólną, możemy wykorzystać **mechanizm dziedziczenia**.\n",
    "\n",
    "Jest to szczególnie przydatne kiedy pewna klasa rozszerza funkcjonalności innej. Przykład - `User` i `Admin`. Każdy admin jest userem, ale ma pewne dodatkowe możliwości. W takim wypadku możemy stworzyć klasę `User`, a następnie `Admin`, który będzie dziedziczyć po `User`."
   ]
  },
  {
   "cell_type": "code",
   "execution_count": 89,
   "id": "d998ae28",
   "metadata": {},
   "outputs": [],
   "source": [
    "class Vehicle:\n",
    "    def __init__(self, color, weight, mileage):\n",
    "        self.color = color\n",
    "        self.weight = weight\n",
    "        self.mileage = mileage\n",
    "        \n",
    "    def ride(self, distance):\n",
    "        self.mileage += distance"
   ]
  },
  {
   "cell_type": "code",
   "execution_count": 90,
   "id": "388dddcf",
   "metadata": {},
   "outputs": [
    {
     "data": {
      "text/plain": [
       "<__main__.Vehicle at 0x7f2500b00590>"
      ]
     },
     "execution_count": 90,
     "metadata": {},
     "output_type": "execute_result"
    }
   ],
   "source": [
    "v = Vehicle(\"red\", 100, 0)\n",
    "v"
   ]
  },
  {
   "cell_type": "code",
   "execution_count": 91,
   "id": "1940e566",
   "metadata": {},
   "outputs": [
    {
     "name": "stdout",
     "output_type": "stream",
     "text": [
      "red\n",
      "100\n"
     ]
    }
   ],
   "source": [
    "print(v.color)\n",
    "print(v.weight)"
   ]
  },
  {
   "cell_type": "code",
   "execution_count": 92,
   "id": "f211f7a6",
   "metadata": {},
   "outputs": [
    {
     "name": "stdout",
     "output_type": "stream",
     "text": [
      "0\n",
      "100\n"
     ]
    }
   ],
   "source": [
    "print(v.mileage)\n",
    "\n",
    "v.ride(100)\n",
    "\n",
    "print(v.mileage)"
   ]
  },
  {
   "cell_type": "markdown",
   "id": "dcac4d51",
   "metadata": {},
   "source": [
    "---"
   ]
  },
  {
   "cell_type": "code",
   "execution_count": 96,
   "id": "3cfb9a79",
   "metadata": {},
   "outputs": [],
   "source": [
    "class Car(Vehicle):\n",
    "    def __init__(self, color, weight, mileage):\n",
    "        super().__init__(color, weight, mileage)\n",
    "\n",
    "        # Vehicle.__init__(self, color, weight, mileage)  # another way"
   ]
  },
  {
   "cell_type": "code",
   "execution_count": 97,
   "id": "595ee2eb",
   "metadata": {},
   "outputs": [
    {
     "data": {
      "text/plain": [
       "<__main__.Car at 0x7f2500b38650>"
      ]
     },
     "execution_count": 97,
     "metadata": {},
     "output_type": "execute_result"
    }
   ],
   "source": [
    "c = Car(\"blue\", 1000, 0)\n",
    "c"
   ]
  },
  {
   "cell_type": "code",
   "execution_count": 98,
   "id": "490ff5e2",
   "metadata": {},
   "outputs": [
    {
     "name": "stdout",
     "output_type": "stream",
     "text": [
      "blue\n",
      "1000\n",
      "0\n"
     ]
    }
   ],
   "source": [
    "print(c.color)\n",
    "print(c.weight)\n",
    "print(c.mileage)"
   ]
  },
  {
   "cell_type": "code",
   "execution_count": 99,
   "id": "685134ff",
   "metadata": {},
   "outputs": [
    {
     "name": "stdout",
     "output_type": "stream",
     "text": [
      "100\n"
     ]
    }
   ],
   "source": [
    "c.ride(100)\n",
    "print(c.mileage)"
   ]
  },
  {
   "cell_type": "markdown",
   "id": "81e7049c",
   "metadata": {},
   "source": [
    "---"
   ]
  },
  {
   "cell_type": "code",
   "execution_count": 100,
   "id": "4ee76aed",
   "metadata": {},
   "outputs": [],
   "source": [
    "class Car(Vehicle):\n",
    "    def __init__(self, color, weight, mileage, fuel_amount, n_of_wheels=4):\n",
    "        super().__init__(color, weight, mileage)\n",
    "        self.fuel_amount = fuel_amount\n",
    "        self.n_of_wheels = n_of_wheels\n",
    "    \n",
    "    def refuel(self, amount):\n",
    "        self.fuel_amount += amount\n",
    "        \n",
    "        \n",
    "\n",
    "c = Car(\"white\", 1200, 50, 30)"
   ]
  },
  {
   "cell_type": "code",
   "execution_count": 101,
   "id": "d935cd48",
   "metadata": {},
   "outputs": [
    {
     "name": "stdout",
     "output_type": "stream",
     "text": [
      "white\n",
      "1200\n",
      "50\n",
      "30\n",
      "4\n"
     ]
    }
   ],
   "source": [
    "print(c.color)\n",
    "print(c.weight)\n",
    "print(c.mileage)\n",
    "print(c.fuel_amount)\n",
    "print(c.n_of_wheels)"
   ]
  },
  {
   "cell_type": "code",
   "execution_count": 102,
   "id": "c2302c67",
   "metadata": {},
   "outputs": [
    {
     "name": "stdout",
     "output_type": "stream",
     "text": [
      "70\n"
     ]
    }
   ],
   "source": [
    "c.refuel(40)\n",
    "print(c.fuel_amount)"
   ]
  },
  {
   "cell_type": "code",
   "execution_count": null,
   "id": "941aa470-0ba7-4a56-a68c-c60b4907e633",
   "metadata": {},
   "outputs": [],
   "source": []
  },
  {
   "cell_type": "code",
   "execution_count": 117,
   "id": "d29d9c74-c07d-4995-871a-8cc00a9a7e9f",
   "metadata": {},
   "outputs": [],
   "source": [
    "class A:\n",
    "    def __init__(self):\n",
    "        self.attr = 1\n",
    "\n",
    "\n",
    "class B(A):\n",
    "    def __init__(self):\n",
    "        super().__init__()\n",
    "        self.attr = 2\n",
    "\n",
    "\n",
    "class C(B, A):\n",
    "    def __init__(self):\n",
    "        B.__init__(self)\n",
    "        A.__init__(self)\n",
    "        self.attr = 3"
   ]
  },
  {
   "cell_type": "code",
   "execution_count": 118,
   "id": "f0e56d40-8295-4118-a6f1-38c548de47ae",
   "metadata": {},
   "outputs": [],
   "source": [
    "c = C()"
   ]
  },
  {
   "cell_type": "code",
   "execution_count": 119,
   "id": "6525715d-b6ce-4cbe-8f8e-e7442162769c",
   "metadata": {},
   "outputs": [
    {
     "data": {
      "text/plain": [
       "3"
      ]
     },
     "execution_count": 119,
     "metadata": {},
     "output_type": "execute_result"
    }
   ],
   "source": [
    "c.attr"
   ]
  },
  {
   "cell_type": "code",
   "execution_count": 110,
   "id": "c09b0029-ad1e-4720-a847-16a72ad25833",
   "metadata": {},
   "outputs": [
    {
     "data": {
      "text/plain": [
       "(1, 2, 3)"
      ]
     },
     "execution_count": 110,
     "metadata": {},
     "output_type": "execute_result"
    }
   ],
   "source": [
    "c.attr, c.attr1, c.attr2"
   ]
  },
  {
   "cell_type": "code",
   "execution_count": null,
   "id": "b12d4f31-569c-4ce6-91c1-5635592b7c97",
   "metadata": {},
   "outputs": [],
   "source": []
  },
  {
   "cell_type": "markdown",
   "id": "dfe20f22",
   "metadata": {},
   "source": [
    "**Dziedziczenie – podsumowanie:**\n",
    "\n",
    "- Jeśli tworzymy kilka klas, które współdzielą część atrybutów albo metod, możemy utworzyć klasę bazową oraz jedną lub więcej klas dziedziczących po niej\n",
    "- Klasy dziedziczące przejmują wszystkie atrybuty oraz metody klasy bazowej, a także mogą posiadać własne"
   ]
  },
  {
   "cell_type": "markdown",
   "id": "f4786298",
   "metadata": {},
   "source": [
    "> **ZADANIA**"
   ]
  },
  {
   "cell_type": "markdown",
   "id": "48927261",
   "metadata": {},
   "source": [
    "## Hermetyzacja - metody (atrybuty) publiczne vs. chronione vs. prywatne\n",
    "\n",
    "\n",
    "Nie wszystkie atrybuty czy metody mogą (powinny) być używane na zewnątrz klasy. Niektóre z nich są dozwolone do użytku tylko w obrębie definicji klasy. Nazywamy to **hermetyzacją**.\n",
    "\n",
    "W Pythonie jednak **nie występuje** prawdziwa hermetyzacja. W rzeczywistości poza klasą mamy dostęp do wszystkich atrybutów i metod.\n",
    "\n",
    "---\n",
    "Istnieje jednak reguła mówiąca, że **nazwy zaczynające się od _** są chronione, czyli mogą być używane wyłącznie **wewnątrz klasy** i w **klasach dziedziczących**.\n",
    "\n",
    "**Nazwy zaczynające się od __** są prywatne, czyli mogą być używane **wyłącznie wewnątrz klasy.**"
   ]
  },
  {
   "cell_type": "code",
   "execution_count": 120,
   "id": "c73fd78a",
   "metadata": {},
   "outputs": [],
   "source": [
    "class Task:\n",
    "    def __init__(self, text, assignee=None, tags=[]):\n",
    "        self.description = text\n",
    "        self.assignee = assignee\n",
    "        self.tags = tags\n",
    "        self._comments = []  # 'comments' attribute is protected\n",
    "        \n",
    "    def modify_description(self, new_description):\n",
    "        self.description = new_description\n",
    "        \n",
    "    def add_comment(self, comment):\n",
    "        self._comments.append(comment)"
   ]
  },
  {
   "cell_type": "code",
   "execution_count": 121,
   "id": "dc3380c0",
   "metadata": {},
   "outputs": [
    {
     "data": {
      "text/plain": [
       "<__main__.Task at 0x7f24fa19dd90>"
      ]
     },
     "execution_count": 121,
     "metadata": {},
     "output_type": "execute_result"
    }
   ],
   "source": [
    "task = Task(\"Learn Python\")\n",
    "task"
   ]
  },
  {
   "cell_type": "code",
   "execution_count": 122,
   "id": "b25de4f6",
   "metadata": {},
   "outputs": [],
   "source": [
    "task.add_comment(\"Good luck!\")  # good"
   ]
  },
  {
   "cell_type": "code",
   "execution_count": 124,
   "id": "73613a81-ac4a-4a1b-97be-ab1f11c49aa1",
   "metadata": {},
   "outputs": [
    {
     "data": {
      "text/plain": [
       "['Good luck!']"
      ]
     },
     "execution_count": 124,
     "metadata": {},
     "output_type": "execute_result"
    }
   ],
   "source": [
    "task._comments"
   ]
  },
  {
   "cell_type": "code",
   "execution_count": 125,
   "id": "2b8cbec2",
   "metadata": {},
   "outputs": [],
   "source": [
    "task._comments.append(\"Good luck! 1\")  # wrong"
   ]
  },
  {
   "cell_type": "code",
   "execution_count": 126,
   "id": "1aae71ce-eaac-4fd0-bed2-eeb79c24e5fa",
   "metadata": {},
   "outputs": [
    {
     "data": {
      "text/plain": [
       "['Good luck!', 'Good luck! 1']"
      ]
     },
     "execution_count": 126,
     "metadata": {},
     "output_type": "execute_result"
    }
   ],
   "source": [
    "task._comments"
   ]
  },
  {
   "cell_type": "markdown",
   "id": "02bfa7cd",
   "metadata": {},
   "source": [
    "**Hermetyzacja – podsumowanie:**\n",
    "\n",
    "Wyróżniamy następujące poziomy dostępu:\n",
    "- publiczny (*public*) - do atrybutu/metody można dostać się z dowolnego miejsca\n",
    "- chroniony (*protected*) - do atrybutu/metody można dostać się tylko w danej klasie oraz klasach dziedziczących. Używamy przedrostka \"_\"\n",
    "- prywatny (*private*) - do atrybutu/metody można dostać się tylko w danej klasie. Używamy przedrostka \"__\""
   ]
  },
  {
   "cell_type": "markdown",
   "id": "608df57d",
   "metadata": {},
   "source": [
    "## `staticmethod`, `classmethod`, `property`\n",
    "### `staticmethod`\n",
    "\n",
    "Metoda statyczna to taka, która nie używa `self`. Skoro go nie używa, to nie ma sensu umieszczać go wśród parametrów. \n",
    "\n",
    "Taką metodę należy oznaczyć dekoratorem `@staticmethod`."
   ]
  },
  {
   "cell_type": "code",
   "execution_count": 129,
   "id": "040d7dd1",
   "metadata": {},
   "outputs": [],
   "source": [
    "class Task:\n",
    "    def __init__(self, text, assignee=None, tags=[]):\n",
    "        self.description = text\n",
    "        self.assignee = assignee\n",
    "        self.tags = tags\n",
    "        self.comments = []\n",
    "        \n",
    "    def modify_description(self, new_description):\n",
    "        if self.validate_description(new_description):\n",
    "            self.description = new_description\n",
    "        else:\n",
    "            raise TypeError(\"Task description should be a string\")\n",
    "            \n",
    "    @staticmethod\n",
    "    def validate_description(text):\n",
    "        return isinstance(text, str)"
   ]
  },
  {
   "cell_type": "code",
   "execution_count": 130,
   "id": "6009ae4c",
   "metadata": {},
   "outputs": [],
   "source": [
    "task = Task(\"Learn Python\")"
   ]
  },
  {
   "cell_type": "code",
   "execution_count": 131,
   "id": "37a54665",
   "metadata": {},
   "outputs": [
    {
     "data": {
      "text/plain": [
       "'Learn Python'"
      ]
     },
     "execution_count": 131,
     "metadata": {},
     "output_type": "execute_result"
    }
   ],
   "source": [
    "task.description"
   ]
  },
  {
   "cell_type": "code",
   "execution_count": 132,
   "id": "99d721dc",
   "metadata": {},
   "outputs": [],
   "source": [
    "task.modify_description(\"Practice Python\")"
   ]
  },
  {
   "cell_type": "code",
   "execution_count": 133,
   "id": "1ecce76b",
   "metadata": {},
   "outputs": [
    {
     "data": {
      "text/plain": [
       "'Practice Python'"
      ]
     },
     "execution_count": 133,
     "metadata": {},
     "output_type": "execute_result"
    }
   ],
   "source": [
    "task.description"
   ]
  },
  {
   "cell_type": "code",
   "execution_count": 134,
   "id": "bb819d4a",
   "metadata": {},
   "outputs": [
    {
     "ename": "TypeError",
     "evalue": "Task description should be a string",
     "output_type": "error",
     "traceback": [
      "\u001b[0;31m---------------------------------------------------------------------------\u001b[0m",
      "\u001b[0;31mTypeError\u001b[0m                                 Traceback (most recent call last)",
      "Cell \u001b[0;32mIn[134], line 1\u001b[0m\n\u001b[0;32m----> 1\u001b[0m task\u001b[38;5;241m.\u001b[39mmodify_description(\u001b[38;5;241m123\u001b[39m)\n",
      "Cell \u001b[0;32mIn[129], line 12\u001b[0m, in \u001b[0;36mTask.modify_description\u001b[0;34m(self, new_description)\u001b[0m\n\u001b[1;32m     10\u001b[0m     \u001b[38;5;28mself\u001b[39m\u001b[38;5;241m.\u001b[39mdescription \u001b[38;5;241m=\u001b[39m new_description\n\u001b[1;32m     11\u001b[0m \u001b[38;5;28;01melse\u001b[39;00m:\n\u001b[0;32m---> 12\u001b[0m     \u001b[38;5;28;01mraise\u001b[39;00m \u001b[38;5;167;01mTypeError\u001b[39;00m(\u001b[38;5;124m\"\u001b[39m\u001b[38;5;124mTask description should be a string\u001b[39m\u001b[38;5;124m\"\u001b[39m)\n",
      "\u001b[0;31mTypeError\u001b[0m: Task description should be a string"
     ]
    }
   ],
   "source": [
    "task.modify_description(123)"
   ]
  },
  {
   "cell_type": "markdown",
   "id": "67bd52b9",
   "metadata": {},
   "source": [
    "### `classmethod`\n",
    "\n",
    "*Classmethod* to taka metoda, która zamiast *self*, czyli referencji do obiektu używa *cls*, czyli referencji do klasy.\n",
    "\n",
    "W praktyce zwykle używamy *classmethod* jako alternatywny sposób utworzenia instancji klasy.\n",
    "\n",
    "Taką metodę należy oznaczyć dekoratorem `@classmethod`."
   ]
  },
  {
   "cell_type": "code",
   "execution_count": 135,
   "id": "547eb0c7-2b8c-4090-b530-08ecb2a48ece",
   "metadata": {},
   "outputs": [],
   "source": [
    "from datetime import datetime"
   ]
  },
  {
   "cell_type": "code",
   "execution_count": 136,
   "id": "88845282-cfd0-4eb7-a90e-7282b2411744",
   "metadata": {},
   "outputs": [
    {
     "data": {
      "text/plain": [
       "datetime.datetime(2024, 9, 10, 11, 24, 2, 94008)"
      ]
     },
     "execution_count": 136,
     "metadata": {},
     "output_type": "execute_result"
    }
   ],
   "source": [
    "datetime.now()"
   ]
  },
  {
   "cell_type": "code",
   "execution_count": 140,
   "id": "7470ba44",
   "metadata": {},
   "outputs": [],
   "source": [
    "class Task:\n",
    "    def __init__(self, text, assignee=None, tags=[]):\n",
    "        self.description = text\n",
    "        self.assignee = assignee\n",
    "        self.tags = tags\n",
    "        self.comments = []\n",
    "\n",
    "    @classmethod\n",
    "    def from_dict(cls, task_dict):\n",
    "        text = task_dict.get(\"description\")\n",
    "        assignee = task_dict.get(\"assignee\")\n",
    "        tags = task_dict.get(\"tags\")\n",
    "        \n",
    "        return cls(text, assignee, tags)"
   ]
  },
  {
   "cell_type": "code",
   "execution_count": 144,
   "id": "c54ba258-5aa1-4f82-9f74-e730c6194a63",
   "metadata": {},
   "outputs": [
    {
     "ename": "KeyError",
     "evalue": "'abc'",
     "output_type": "error",
     "traceback": [
      "\u001b[0;31m---------------------------------------------------------------------------\u001b[0m",
      "\u001b[0;31mKeyError\u001b[0m                                  Traceback (most recent call last)",
      "Cell \u001b[0;32mIn[144], line 1\u001b[0m\n\u001b[0;32m----> 1\u001b[0m task_dict[\u001b[38;5;124m\"\u001b[39m\u001b[38;5;124mabc\u001b[39m\u001b[38;5;124m\"\u001b[39m]\n",
      "\u001b[0;31mKeyError\u001b[0m: 'abc'"
     ]
    }
   ],
   "source": [
    "task_dict[\"abc\"]"
   ]
  },
  {
   "cell_type": "code",
   "execution_count": 147,
   "id": "f546847f-4be6-464f-ae84-cb724e7a518f",
   "metadata": {},
   "outputs": [
    {
     "data": {
      "text/plain": [
       "0"
      ]
     },
     "execution_count": 147,
     "metadata": {},
     "output_type": "execute_result"
    }
   ],
   "source": [
    "task_dict.get(\"abc\", 0)"
   ]
  },
  {
   "cell_type": "code",
   "execution_count": 148,
   "id": "e37ead83",
   "metadata": {},
   "outputs": [],
   "source": [
    "task_dict = {\"description\": \"Learn Python from dict\", \"assignee\": \"Andrzej\", \"tags\": []}\n",
    "\n",
    "task_from_dict = Task.from_dict(task_dict)"
   ]
  },
  {
   "cell_type": "code",
   "execution_count": 149,
   "id": "7640ac06",
   "metadata": {},
   "outputs": [
    {
     "data": {
      "text/plain": [
       "'Learn Python from dict'"
      ]
     },
     "execution_count": 149,
     "metadata": {},
     "output_type": "execute_result"
    }
   ],
   "source": [
    "task_from_dict.description"
   ]
  },
  {
   "cell_type": "code",
   "execution_count": 150,
   "id": "2b8c126e",
   "metadata": {},
   "outputs": [
    {
     "data": {
      "text/plain": [
       "('Andrzej', [], [])"
      ]
     },
     "execution_count": 150,
     "metadata": {},
     "output_type": "execute_result"
    }
   ],
   "source": [
    "task_from_dict.assignee, task_from_dict.tags, task_from_dict.comments"
   ]
  },
  {
   "cell_type": "markdown",
   "id": "a50b11fd-866b-41ec-a93f-3e1189c865b6",
   "metadata": {},
   "source": [
    "### `property`\n",
    "\n",
    "Metoda, której używamy jak atrybutu."
   ]
  },
  {
   "cell_type": "code",
   "execution_count": 174,
   "id": "f5f18554-2123-4747-aaa2-b3c414903903",
   "metadata": {},
   "outputs": [],
   "source": [
    "class Task:\n",
    "    def __init__(self, text):\n",
    "        self.description = text\n",
    "        self.__comments = []\n",
    "\n",
    "    def add_comment(self, comment):\n",
    "        self.__comments.append(comment)\n",
    "\n",
    "    @property\n",
    "    def comments(self):\n",
    "        return self.__comments\n",
    "    \n",
    "    @property\n",
    "    def pinned_comments(self):\n",
    "        return [comment for comment in self.__comments if comment[\"pinned\"]]"
   ]
  },
  {
   "cell_type": "code",
   "execution_count": 175,
   "id": "67c72084-895e-47bf-b638-13541efd0d60",
   "metadata": {},
   "outputs": [],
   "source": [
    "task = Task(\"Description\")"
   ]
  },
  {
   "cell_type": "code",
   "execution_count": 176,
   "id": "290775d7-f545-44b0-9632-dfdb5979206f",
   "metadata": {},
   "outputs": [],
   "source": [
    "task.add_comment({\"text\": \"Comment 1\", \"pinned\": False})\n",
    "task.add_comment({\"text\": \"Comment 2\", \"pinned\": True})\n",
    "task.add_comment({\"text\": \"Comment 3\", \"pinned\": False})\n",
    "task.add_comment({\"text\": \"Comment 4\", \"pinned\": True})"
   ]
  },
  {
   "cell_type": "code",
   "execution_count": 178,
   "id": "fc447c3f-9917-470f-9a29-58b4e255dcad",
   "metadata": {},
   "outputs": [
    {
     "ename": "AttributeError",
     "evalue": "property 'comments' of 'Task' object has no setter",
     "output_type": "error",
     "traceback": [
      "\u001b[0;31m---------------------------------------------------------------------------\u001b[0m",
      "\u001b[0;31mAttributeError\u001b[0m                            Traceback (most recent call last)",
      "Cell \u001b[0;32mIn[178], line 1\u001b[0m\n\u001b[0;32m----> 1\u001b[0m task\u001b[38;5;241m.\u001b[39mcomments \u001b[38;5;241m=\u001b[39m \u001b[38;5;124m\"\u001b[39m\u001b[38;5;124maddas\u001b[39m\u001b[38;5;124m\"\u001b[39m\n",
      "\u001b[0;31mAttributeError\u001b[0m: property 'comments' of 'Task' object has no setter"
     ]
    }
   ],
   "source": [
    "task.comments = \"addas\""
   ]
  },
  {
   "cell_type": "code",
   "execution_count": 179,
   "id": "6e5049f4-2c02-41f2-9ba6-04cf7aa7f18a",
   "metadata": {},
   "outputs": [
    {
     "data": {
      "text/plain": [
       "[{'text': 'Comment 2', 'pinned': True}, {'text': 'Comment 4', 'pinned': True}]"
      ]
     },
     "execution_count": 179,
     "metadata": {},
     "output_type": "execute_result"
    }
   ],
   "source": [
    "task.pinned_comments"
   ]
  },
  {
   "cell_type": "markdown",
   "id": "78ab2f6a-1487-4794-a2d3-cc0ab6c20175",
   "metadata": {},
   "source": [
    "**`staticmethod`, `classmethod`, `property` – podsumowanie:**\n",
    "\n",
    "- Jeżeli metoda nie odnosi się do *self* powinna być oznaczona jako metoda statyczna. Odwołujemy się do niej tak samo jak do zwykłej metody, ale dodajemy nad jej definicją dekorator `@staticmethod`\n",
    "- Jeżeli metoda odnosi się do klasy, np. w celu utworzenia jej instancji, jest to *classmethod*. Jej pierwszym parametrem powinno być `cls`\n",
    "- `property` to metoda (w ramach klasy), która działa jak atrybut (poza klasą)"
   ]
  },
  {
   "cell_type": "code",
   "execution_count": 192,
   "id": "ef5d6921-c6a3-4b67-bf59-126cae55f9ac",
   "metadata": {},
   "outputs": [],
   "source": [
    "x = 1\n",
    "y = 2"
   ]
  },
  {
   "cell_type": "code",
   "execution_count": 193,
   "id": "8f22fcb4-9688-49b4-bde5-c1a8c79dc43d",
   "metadata": {},
   "outputs": [
    {
     "data": {
      "text/plain": [
       "True"
      ]
     },
     "execution_count": 193,
     "metadata": {},
     "output_type": "execute_result"
    }
   ],
   "source": [
    "isinstance(y, int) and not isinstance(y, bool)"
   ]
  },
  {
   "cell_type": "code",
   "execution_count": null,
   "id": "1e74823e-6c98-41c3-989e-0787a1202b94",
   "metadata": {},
   "outputs": [],
   "source": []
  },
  {
   "cell_type": "code",
   "execution_count": null,
   "id": "eeafbdb2-7492-4747-a96a-9f882d3122c1",
   "metadata": {},
   "outputs": [],
   "source": [
    "isinstance(my_admin, User)"
   ]
  },
  {
   "cell_type": "code",
   "execution_count": 189,
   "id": "872d9602-2d7f-4eeb-84e5-8be78d642c72",
   "metadata": {},
   "outputs": [
    {
     "data": {
      "text/plain": [
       "False"
      ]
     },
     "execution_count": 189,
     "metadata": {},
     "output_type": "execute_result"
    }
   ],
   "source": [
    "type(y) == int"
   ]
  },
  {
   "cell_type": "code",
   "execution_count": 183,
   "id": "e9b4db7f-bbbe-44fc-b4c9-1c85da2333f6",
   "metadata": {},
   "outputs": [
    {
     "data": {
      "text/plain": [
       "True"
      ]
     },
     "execution_count": 183,
     "metadata": {},
     "output_type": "execute_result"
    }
   ],
   "source": [
    "issubclass(bool, int)"
   ]
  },
  {
   "cell_type": "code",
   "execution_count": 187,
   "id": "6ad3c7b7-d10d-461c-a157-185d02fdd2df",
   "metadata": {},
   "outputs": [
    {
     "data": {
      "text/plain": [
       "False"
      ]
     },
     "execution_count": 187,
     "metadata": {},
     "output_type": "execute_result"
    }
   ],
   "source": [
    "issubclass(A, B)"
   ]
  },
  {
   "cell_type": "markdown",
   "id": "fe74cbce",
   "metadata": {},
   "source": [
    "> **ZADANIA**"
   ]
  },
  {
   "cell_type": "markdown",
   "id": "e39a1143",
   "metadata": {},
   "source": [
    "## Stringifikacja i reprezentacja\n",
    "\n",
    "Są to sposoby na tekstowe przedstawienie/zobrazowanie obiektu. \n",
    "\n",
    "**Reprezentacja** to schematyczne zarysowanie z jakim obiektem mamy do czynienia i jakie są wartości jego atrybutów. Powinna być zrozumiała dla programisty. Widzimy ją głównie w outpucie konsoli / Jupyter Notebooka.\n",
    "\n",
    "**Stringifikacja** to wersja *user-friendly*, którą powinni rozumieć również nie-programiści. Widzimy ją podczas wyprintowania lub kiedy rzutujemy na stringa.\n",
    "\n",
    "W praktyce różnica między nimi jest subtelna, umowna i często stringifikacja oraz reprezentacja wyglądają tak samo."
   ]
  },
  {
   "cell_type": "markdown",
   "id": "0792c393-cd2b-4542-8c94-1c41656be2a1",
   "metadata": {},
   "source": [
    "User(id=123)"
   ]
  },
  {
   "cell_type": "markdown",
   "id": "8568d82c-85da-4512-9409-a64f3d741be5",
   "metadata": {},
   "source": [
    "Andrzej"
   ]
  },
  {
   "cell_type": "code",
   "execution_count": 195,
   "id": "b551ecbc",
   "metadata": {},
   "outputs": [
    {
     "data": {
      "text/plain": [
       "int"
      ]
     },
     "execution_count": 195,
     "metadata": {},
     "output_type": "execute_result"
    }
   ],
   "source": [
    "type(123)  # representation"
   ]
  },
  {
   "cell_type": "code",
   "execution_count": 196,
   "id": "8ddf708d",
   "metadata": {},
   "outputs": [
    {
     "name": "stdout",
     "output_type": "stream",
     "text": [
      "<class 'int'>\n"
     ]
    }
   ],
   "source": [
    "print(type(123))  # stringification"
   ]
  },
  {
   "cell_type": "code",
   "execution_count": 197,
   "id": "b12434cd",
   "metadata": {},
   "outputs": [
    {
     "data": {
      "text/plain": [
       "\"<class 'int'>\""
      ]
     },
     "execution_count": 197,
     "metadata": {},
     "output_type": "execute_result"
    }
   ],
   "source": [
    "str(type(123))  # stringification"
   ]
  },
  {
   "cell_type": "markdown",
   "id": "075b1bc3",
   "metadata": {},
   "source": [
    "---"
   ]
  },
  {
   "cell_type": "code",
   "execution_count": 198,
   "id": "fbfaf1ed",
   "metadata": {},
   "outputs": [],
   "source": [
    "class List:\n",
    "    def __init__(self, *args):\n",
    "        self.values = list(args)\n",
    "\n",
    "    def append(self, new_item):\n",
    "        self.values += [new_item]"
   ]
  },
  {
   "cell_type": "code",
   "execution_count": 199,
   "id": "0bc73afd",
   "metadata": {},
   "outputs": [],
   "source": [
    "my_list = List(3, 2, 5, 3)"
   ]
  },
  {
   "cell_type": "code",
   "execution_count": 200,
   "id": "5d84243f",
   "metadata": {},
   "outputs": [
    {
     "data": {
      "text/plain": [
       "<__main__.List at 0x7f24f9723590>"
      ]
     },
     "execution_count": 200,
     "metadata": {},
     "output_type": "execute_result"
    }
   ],
   "source": [
    "my_list  # default representation"
   ]
  },
  {
   "cell_type": "code",
   "execution_count": 201,
   "id": "3d4d97f2",
   "metadata": {},
   "outputs": [
    {
     "name": "stdout",
     "output_type": "stream",
     "text": [
      "<__main__.List object at 0x7f24f9723590>\n"
     ]
    }
   ],
   "source": [
    "print(my_list)  # default stringification"
   ]
  },
  {
   "cell_type": "code",
   "execution_count": 202,
   "id": "a7ce874a",
   "metadata": {},
   "outputs": [
    {
     "data": {
      "text/plain": [
       "'<__main__.List object at 0x7f24f9723590>'"
      ]
     },
     "execution_count": 202,
     "metadata": {},
     "output_type": "execute_result"
    }
   ],
   "source": [
    "str(my_list)"
   ]
  },
  {
   "cell_type": "code",
   "execution_count": 203,
   "id": "a4e773da",
   "metadata": {},
   "outputs": [
    {
     "data": {
      "text/plain": [
       "[3, 2, 5, 3]"
      ]
     },
     "execution_count": 203,
     "metadata": {},
     "output_type": "execute_result"
    }
   ],
   "source": [
    "my_list.values"
   ]
  },
  {
   "cell_type": "markdown",
   "id": "8c51a401",
   "metadata": {},
   "source": [
    "---"
   ]
  },
  {
   "cell_type": "code",
   "execution_count": 207,
   "id": "802d57a8",
   "metadata": {},
   "outputs": [],
   "source": [
    "class List:\n",
    "    def __init__(self, *args):\n",
    "        self.values = list(args)\n",
    "    \n",
    "    def __repr__(self):\n",
    "        return \"list-repr\"\n",
    "\n",
    "    def __str__(self):\n",
    "        return \"list-str\"\n",
    "    \n",
    "    def append(self, new_item):\n",
    "        self.values += [new_item]"
   ]
  },
  {
   "cell_type": "code",
   "execution_count": 208,
   "id": "ce0f47f4",
   "metadata": {},
   "outputs": [],
   "source": [
    "my_list = List(3, 2, 5, 3)"
   ]
  },
  {
   "cell_type": "code",
   "execution_count": 209,
   "id": "6c4ea599",
   "metadata": {},
   "outputs": [
    {
     "data": {
      "text/plain": [
       "list-repr"
      ]
     },
     "execution_count": 209,
     "metadata": {},
     "output_type": "execute_result"
    }
   ],
   "source": [
    "my_list"
   ]
  },
  {
   "cell_type": "code",
   "execution_count": 210,
   "id": "3c767948",
   "metadata": {},
   "outputs": [
    {
     "name": "stdout",
     "output_type": "stream",
     "text": [
      "list-str\n"
     ]
    }
   ],
   "source": [
    "print(my_list)"
   ]
  },
  {
   "cell_type": "code",
   "execution_count": 211,
   "id": "b681f491",
   "metadata": {},
   "outputs": [
    {
     "data": {
      "text/plain": [
       "'list-str'"
      ]
     },
     "execution_count": 211,
     "metadata": {},
     "output_type": "execute_result"
    }
   ],
   "source": [
    "str(my_list)"
   ]
  },
  {
   "cell_type": "code",
   "execution_count": 212,
   "id": "3edc6149",
   "metadata": {},
   "outputs": [],
   "source": [
    "class List:\n",
    "    def __init__(self, *args):\n",
    "        self.values = [item for item in args]\n",
    "    \n",
    "    def __repr__(self):\n",
    "        return f\"List(values={self.values})\"\n",
    "\n",
    "    def __str__(self):\n",
    "        return f\"{self.values}\"\n",
    "    \n",
    "    def append(self, new_item):\n",
    "        self.values += [new_item]"
   ]
  },
  {
   "cell_type": "code",
   "execution_count": 213,
   "id": "b5c894da",
   "metadata": {},
   "outputs": [],
   "source": [
    "my_list = List(3, 2, 5, 3)"
   ]
  },
  {
   "cell_type": "code",
   "execution_count": 214,
   "id": "7d89c592",
   "metadata": {},
   "outputs": [
    {
     "data": {
      "text/plain": [
       "List(values=[3, 2, 5, 3])"
      ]
     },
     "execution_count": 214,
     "metadata": {},
     "output_type": "execute_result"
    }
   ],
   "source": [
    "my_list"
   ]
  },
  {
   "cell_type": "code",
   "execution_count": 215,
   "id": "afde03fa",
   "metadata": {},
   "outputs": [
    {
     "name": "stdout",
     "output_type": "stream",
     "text": [
      "[3, 2, 5, 3]\n"
     ]
    }
   ],
   "source": [
    "print(my_list)"
   ]
  },
  {
   "cell_type": "code",
   "execution_count": 216,
   "id": "84f7136f",
   "metadata": {},
   "outputs": [
    {
     "data": {
      "text/plain": [
       "'[3, 2, 5, 3]'"
      ]
     },
     "execution_count": 216,
     "metadata": {},
     "output_type": "execute_result"
    }
   ],
   "source": [
    "str(my_list)"
   ]
  },
  {
   "cell_type": "code",
   "execution_count": 217,
   "id": "2da21892",
   "metadata": {},
   "outputs": [
    {
     "data": {
      "text/plain": [
       "'[1, 2, 3]'"
      ]
     },
     "execution_count": 217,
     "metadata": {},
     "output_type": "execute_result"
    }
   ],
   "source": [
    "str([1, 2, 3])"
   ]
  },
  {
   "cell_type": "code",
   "execution_count": 219,
   "id": "5a08b096-d882-4d88-9208-01392cb4eb9c",
   "metadata": {},
   "outputs": [],
   "source": [
    "df = pd.read_csv(\"data/cars.csv\")"
   ]
  },
  {
   "cell_type": "markdown",
   "id": "f75babac-284b-438e-a74f-ea242414ea8d",
   "metadata": {},
   "source": [
    "| Tables   |      Are      |  Cool |\n",
    "|----------|:-------------:|------:|\n",
    "| col 1 is |  left-aligned | $1600 |\n",
    "| col 2 is |    centered   |   $12 |\n",
    "| col 3 is | right-aligned |    $1 |"
   ]
  },
  {
   "cell_type": "code",
   "execution_count": null,
   "id": "77544770-69bb-4cc5-b91f-21c8c5155744",
   "metadata": {},
   "outputs": [],
   "source": []
  },
  {
   "cell_type": "code",
   "execution_count": 227,
   "id": "586e513f-15b0-4d0c-8d2d-54273aff647c",
   "metadata": {},
   "outputs": [
    {
     "name": "stdout",
     "output_type": "stream",
     "text": [
      "\u001b[31mhello\u001b[0m world\n"
     ]
    }
   ],
   "source": [
    "print(f\"\\033[31mhello\\033[0m world\")"
   ]
  },
  {
   "cell_type": "markdown",
   "id": "0852dc5f",
   "metadata": {},
   "source": [
    "**Stringifikacja i reprezentacja – podsumowanie:**\n",
    "\n",
    "- Aby zmodyfikować domyślny sposób w jaki reprezentowane są obiekty możemy dodać do klasy metody specjalne  `__repr()__` oraz `__str()__`\n",
    "- Reprezentacja jest widoczna podczas odwołania się do obiektu w konsoli. Przedstawia ona zawartość obiektu w sposób schematyczny, często zawierając kod, który mógłby być użyty do stworzenia obiektu. Powinna być zrozumiała dla programisty\n",
    "- Stringifikacja jest widoczna podczas printowania obiektu lub rzutowania go na string. Powinna przedstawiać zawartość obiektu w sposób przyjazny dla odbiorcy końcowego"
   ]
  },
  {
   "cell_type": "markdown",
   "id": "f034b660",
   "metadata": {},
   "source": [
    "> **ZADANIA**"
   ]
  }
 ],
 "metadata": {
  "kernelspec": {
   "display_name": "Python 3 (ipykernel)",
   "language": "python",
   "name": "python3"
  },
  "language_info": {
   "codemirror_mode": {
    "name": "ipython",
    "version": 3
   },
   "file_extension": ".py",
   "mimetype": "text/x-python",
   "name": "python",
   "nbconvert_exporter": "python",
   "pygments_lexer": "ipython3",
   "version": "3.11.5"
  },
  "toc": {
   "base_numbering": 1,
   "nav_menu": {},
   "number_sections": true,
   "sideBar": true,
   "skip_h1_title": true,
   "title_cell": "Table of Contents",
   "title_sidebar": "Contents",
   "toc_cell": false,
   "toc_position": {},
   "toc_section_display": true,
   "toc_window_display": false
  },
  "varInspector": {
   "cols": {
    "lenName": 16,
    "lenType": 16,
    "lenVar": 40
   },
   "kernels_config": {
    "python": {
     "delete_cmd_postfix": "",
     "delete_cmd_prefix": "del ",
     "library": "var_list.py",
     "varRefreshCmd": "print(var_dic_list())"
    },
    "r": {
     "delete_cmd_postfix": ") ",
     "delete_cmd_prefix": "rm(",
     "library": "var_list.r",
     "varRefreshCmd": "cat(var_dic_list()) "
    }
   },
   "types_to_exclude": [
    "module",
    "function",
    "builtin_function_or_method",
    "instance",
    "_Feature"
   ],
   "window_display": false
  }
 },
 "nbformat": 4,
 "nbformat_minor": 5
}
