{
 "cells": [
  {
   "cell_type": "markdown",
   "id": "314360cb-820b-42fd-b3f2-ab29e54780b3",
   "metadata": {},
   "source": [
    "# Formaty danych"
   ]
  },
  {
   "cell_type": "markdown",
   "id": "6dea3cfb-513a-4686-845c-dc78a4c48c70",
   "metadata": {},
   "source": [
    "## JSON"
   ]
  },
  {
   "cell_type": "code",
   "execution_count": 1,
   "id": "0d919202-c18d-4169-8122-633861ba9c01",
   "metadata": {},
   "outputs": [],
   "source": [
    "tasks_list = [\n",
    "    {\"description\": \"Learn Python\",\n",
    "     \"assignee\": None,\n",
    "     \"priority\": 3,\n",
    "     \"time_logged\": 6.25,\n",
    "     \"is_complete\": False,\n",
    "     \"tags\": [\"edu\", \"dev\"]\n",
    "    },\n",
    "    \n",
    "    {\"description\": \"Do exercises\",\n",
    "     \"assignee\": None,\n",
    "     \"priority\": 2,\n",
    "     \"time_logged\": 2,\n",
    "     \"is_complete\": True}\n",
    "]"
   ]
  },
  {
   "cell_type": "code",
   "execution_count": 2,
   "id": "e4c09cda-0995-4f8d-8ecb-e95cb7d3d4db",
   "metadata": {},
   "outputs": [
    {
     "data": {
      "text/plain": [
       "[{'description': 'Learn Python',\n",
       "  'assignee': None,\n",
       "  'priority': 3,\n",
       "  'time_logged': 6.25,\n",
       "  'is_complete': False,\n",
       "  'tags': ['edu', 'dev']},\n",
       " {'description': 'Do exercises',\n",
       "  'assignee': None,\n",
       "  'priority': 2,\n",
       "  'time_logged': 2,\n",
       "  'is_complete': True}]"
      ]
     },
     "execution_count": 2,
     "metadata": {},
     "output_type": "execute_result"
    }
   ],
   "source": [
    "tasks_list"
   ]
  },
  {
   "cell_type": "code",
   "execution_count": 3,
   "id": "b8b01b47-97c7-4e79-a39d-524ee30f3b87",
   "metadata": {},
   "outputs": [],
   "source": [
    "import json"
   ]
  },
  {
   "cell_type": "markdown",
   "id": "95657105-ca26-413d-ab2b-883d1463bc2b",
   "metadata": {},
   "source": [
    "### Operacje zapisu"
   ]
  },
  {
   "cell_type": "code",
   "execution_count": 5,
   "id": "a2b8b07a-51ea-4370-b8b5-3ee7b81d2965",
   "metadata": {},
   "outputs": [],
   "source": [
    "with open(\"files/tasks.json\", \"w\") as f:\n",
    "    json.dump(tasks_list, f)"
   ]
  },
  {
   "cell_type": "code",
   "execution_count": null,
   "id": "4ea3a2a0-491c-4a63-bff6-a8eb044deec9",
   "metadata": {},
   "outputs": [],
   "source": [
    "with open(\"files/tasks.json\", \"w\") as f:\n",
    "    json.dump(tasks_list, f, indent=4)"
   ]
  },
  {
   "cell_type": "markdown",
   "id": "08acfc95-22d8-4bf0-83be-182c4936bebe",
   "metadata": {},
   "source": [
    "### Operacje odczytu"
   ]
  },
  {
   "cell_type": "code",
   "execution_count": 6,
   "id": "5fd3e58c-b491-46f6-a01d-cbd29bf1ade8",
   "metadata": {},
   "outputs": [
    {
     "data": {
      "text/plain": [
       "[{'description': 'Learn Python',\n",
       "  'assignee': None,\n",
       "  'priority': 3,\n",
       "  'time_logged': 6.25,\n",
       "  'is_complete': False,\n",
       "  'tags': ['edu', 'dev']},\n",
       " {'description': 'Do exercises',\n",
       "  'assignee': None,\n",
       "  'priority': 2,\n",
       "  'time_logged': 2,\n",
       "  'is_complete': True}]"
      ]
     },
     "execution_count": 6,
     "metadata": {},
     "output_type": "execute_result"
    }
   ],
   "source": [
    "with open(\"files/tasks.json\", \"r\") as f:\n",
    "    loaded_json = json.load(f)\n",
    "    \n",
    "loaded_json"
   ]
  },
  {
   "cell_type": "markdown",
   "id": "07070808-c49a-4280-8e64-dadaaa390aea",
   "metadata": {},
   "source": [
    "> **ZADANIA**"
   ]
  },
  {
   "cell_type": "markdown",
   "id": "1cc8d8e6-3aab-443e-b312-3f1c0eb1ccea",
   "metadata": {},
   "source": [
    "## CSV"
   ]
  },
  {
   "cell_type": "code",
   "execution_count": 7,
   "id": "ab442e9a-f1f3-469c-b204-a28b0077b430",
   "metadata": {},
   "outputs": [],
   "source": [
    "import csv"
   ]
  },
  {
   "cell_type": "markdown",
   "id": "13257bdb-77b0-4188-a4f1-1be4a789a104",
   "metadata": {},
   "source": [
    "### Operacje zapisu"
   ]
  },
  {
   "cell_type": "code",
   "execution_count": 12,
   "id": "707ba6b3-8253-4d51-a549-2520bd2738ca",
   "metadata": {},
   "outputs": [],
   "source": [
    "data = [\n",
    "    ['description', 'assignee', 'priority', 'time_logged', 'is_complete', 'tags'],\n",
    "    ['Learn Python', None, 3, 6.25, False, 'edu|dev'],\n",
    "    ['Do exercises', None, 2, 2, True, None]\n",
    "]\n",
    "\n",
    "\n",
    "with open('files/data.csv', mode='w') as file:\n",
    "    writer = csv.writer(file)\n",
    "    writer.writerows(data)"
   ]
  },
  {
   "cell_type": "code",
   "execution_count": 13,
   "id": "a3771e6b-ef63-42d1-aace-2f78371b5b79",
   "metadata": {},
   "outputs": [
    {
     "data": {
      "text/html": [
       "<div>\n",
       "<style scoped>\n",
       "    .dataframe tbody tr th:only-of-type {\n",
       "        vertical-align: middle;\n",
       "    }\n",
       "\n",
       "    .dataframe tbody tr th {\n",
       "        vertical-align: top;\n",
       "    }\n",
       "\n",
       "    .dataframe thead th {\n",
       "        text-align: right;\n",
       "    }\n",
       "</style>\n",
       "<table border=\"1\" class=\"dataframe\">\n",
       "  <thead>\n",
       "    <tr style=\"text-align: right;\">\n",
       "      <th></th>\n",
       "      <th>a</th>\n",
       "      <th>b</th>\n",
       "    </tr>\n",
       "  </thead>\n",
       "  <tbody>\n",
       "    <tr>\n",
       "      <th>0</th>\n",
       "      <td>1</td>\n",
       "      <td>2</td>\n",
       "    </tr>\n",
       "    <tr>\n",
       "      <th>1</th>\n",
       "      <td>2</td>\n",
       "      <td>3</td>\n",
       "    </tr>\n",
       "    <tr>\n",
       "      <th>2</th>\n",
       "      <td>3</td>\n",
       "      <td>4</td>\n",
       "    </tr>\n",
       "  </tbody>\n",
       "</table>\n",
       "</div>"
      ],
      "text/plain": [
       "   a  b\n",
       "0  1  2\n",
       "1  2  3\n",
       "2  3  4"
      ]
     },
     "execution_count": 13,
     "metadata": {},
     "output_type": "execute_result"
    }
   ],
   "source": [
    "import pandas as pd\n",
    "\n",
    "df = pd.DataFrame({\"a\": [1, 2, 3], \"b\": [2, 3, 4]})\n",
    "df"
   ]
  },
  {
   "cell_type": "code",
   "execution_count": 15,
   "id": "5c397ef8-1ae3-488f-8d49-da2deff0f7a8",
   "metadata": {},
   "outputs": [],
   "source": [
    "df.to_csv(\"files/df.csv\", index=None)"
   ]
  },
  {
   "cell_type": "code",
   "execution_count": 16,
   "id": "56e93fb9-8bf9-4d97-ae74-c581f8ec702f",
   "metadata": {},
   "outputs": [
    {
     "data": {
      "text/html": [
       "<div>\n",
       "<style scoped>\n",
       "    .dataframe tbody tr th:only-of-type {\n",
       "        vertical-align: middle;\n",
       "    }\n",
       "\n",
       "    .dataframe tbody tr th {\n",
       "        vertical-align: top;\n",
       "    }\n",
       "\n",
       "    .dataframe thead th {\n",
       "        text-align: right;\n",
       "    }\n",
       "</style>\n",
       "<table border=\"1\" class=\"dataframe\">\n",
       "  <thead>\n",
       "    <tr style=\"text-align: right;\">\n",
       "      <th></th>\n",
       "      <th>a</th>\n",
       "      <th>b</th>\n",
       "    </tr>\n",
       "  </thead>\n",
       "  <tbody>\n",
       "    <tr>\n",
       "      <th>0</th>\n",
       "      <td>1</td>\n",
       "      <td>2</td>\n",
       "    </tr>\n",
       "    <tr>\n",
       "      <th>1</th>\n",
       "      <td>2</td>\n",
       "      <td>3</td>\n",
       "    </tr>\n",
       "    <tr>\n",
       "      <th>2</th>\n",
       "      <td>3</td>\n",
       "      <td>4</td>\n",
       "    </tr>\n",
       "  </tbody>\n",
       "</table>\n",
       "</div>"
      ],
      "text/plain": [
       "   a  b\n",
       "0  1  2\n",
       "1  2  3\n",
       "2  3  4"
      ]
     },
     "execution_count": 16,
     "metadata": {},
     "output_type": "execute_result"
    }
   ],
   "source": [
    "pd.read_csv(\"files/df.csv\")"
   ]
  },
  {
   "cell_type": "markdown",
   "id": "487ef37d-e7ec-401b-9f74-fada58422782",
   "metadata": {},
   "source": [
    "---"
   ]
  },
  {
   "cell_type": "code",
   "execution_count": 17,
   "id": "15059d5f-d255-47ee-8a1c-3e26dc162413",
   "metadata": {},
   "outputs": [
    {
     "data": {
      "text/plain": [
       "[{'description': 'Learn Python',\n",
       "  'assignee': None,\n",
       "  'priority': 3,\n",
       "  'time_logged': 6.25,\n",
       "  'is_complete': False,\n",
       "  'tags': ['edu', 'dev']},\n",
       " {'description': 'Do exercises',\n",
       "  'assignee': None,\n",
       "  'priority': 2,\n",
       "  'time_logged': 2,\n",
       "  'is_complete': True}]"
      ]
     },
     "execution_count": 17,
     "metadata": {},
     "output_type": "execute_result"
    }
   ],
   "source": [
    "tasks_list"
   ]
  },
  {
   "cell_type": "code",
   "execution_count": 18,
   "id": "615c26f1-0560-4f7e-9cc4-5bcb98c260a6",
   "metadata": {},
   "outputs": [
    {
     "data": {
      "text/plain": [
       "dict_keys(['description', 'assignee', 'priority', 'time_logged', 'is_complete', 'tags'])"
      ]
     },
     "execution_count": 18,
     "metadata": {},
     "output_type": "execute_result"
    }
   ],
   "source": [
    "tasks_list[0].keys()"
   ]
  },
  {
   "cell_type": "code",
   "execution_count": 19,
   "id": "1caac94b-571f-4b46-b241-ce9649242936",
   "metadata": {},
   "outputs": [],
   "source": [
    "with open(\"files/data1.csv\", 'w') as file:\n",
    "    writer = csv.DictWriter(file, fieldnames=tasks_list[0].keys())\n",
    "    writer.writeheader()\n",
    "    writer.writerows(tasks_list)"
   ]
  },
  {
   "cell_type": "markdown",
   "id": "13033ba2-29f6-48ad-8052-e57c6851675c",
   "metadata": {},
   "source": [
    "### Operacje odczytu"
   ]
  },
  {
   "cell_type": "code",
   "execution_count": 20,
   "id": "7f71c0d9-6e2a-4337-9b8d-e62db12c881f",
   "metadata": {},
   "outputs": [],
   "source": [
    "with open('files/data.csv', mode='r') as file:\n",
    "    reader = csv.reader(file)\n",
    "    \n",
    "    read_data = []\n",
    "    for row in reader:\n",
    "        read_data.append(row)"
   ]
  },
  {
   "cell_type": "code",
   "execution_count": 21,
   "id": "f811afef-11a3-4a81-9cb6-769055aedd29",
   "metadata": {},
   "outputs": [
    {
     "data": {
      "text/plain": [
       "[['description', 'assignee', 'priority', 'time_logged', 'is_complete', 'tags'],\n",
       " ['Learn Python', '', '3', '6.25', 'False', 'edu|dev'],\n",
       " ['Do exercises', '', '2', '2', 'True', '']]"
      ]
     },
     "execution_count": 21,
     "metadata": {},
     "output_type": "execute_result"
    }
   ],
   "source": [
    "read_data"
   ]
  },
  {
   "cell_type": "markdown",
   "id": "6f0db1b7-4d16-417c-b20d-65765c39e7d9",
   "metadata": {},
   "source": [
    "---"
   ]
  },
  {
   "cell_type": "code",
   "execution_count": 24,
   "id": "2da74c4f-2eb1-47dc-a483-ab95bd5ae061",
   "metadata": {},
   "outputs": [],
   "source": [
    "def generator(x):\n",
    "    for i in range(x):\n",
    "        yield i"
   ]
  },
  {
   "cell_type": "code",
   "execution_count": 25,
   "id": "bea59037-93c2-4598-b526-ade37ec58511",
   "metadata": {},
   "outputs": [
    {
     "data": {
      "text/plain": [
       "<generator object generator at 0x7c8a2556ea80>"
      ]
     },
     "execution_count": 25,
     "metadata": {},
     "output_type": "execute_result"
    }
   ],
   "source": [
    "result = generator(4)\n",
    "result"
   ]
  },
  {
   "cell_type": "code",
   "execution_count": 30,
   "id": "8633440c-43de-4e39-9d94-96939f8d62ad",
   "metadata": {},
   "outputs": [
    {
     "ename": "StopIteration",
     "evalue": "",
     "output_type": "error",
     "traceback": [
      "\u001b[0;31m---------------------------------------------------------------------------\u001b[0m",
      "\u001b[0;31mStopIteration\u001b[0m                             Traceback (most recent call last)",
      "Cell \u001b[0;32mIn[30], line 1\u001b[0m\n\u001b[0;32m----> 1\u001b[0m \u001b[38;5;28mnext\u001b[39m(result)\n",
      "\u001b[0;31mStopIteration\u001b[0m: "
     ]
    }
   ],
   "source": [
    "next(result)"
   ]
  },
  {
   "cell_type": "code",
   "execution_count": 22,
   "id": "9cd223df-5048-43b1-98e9-40e448e92bb6",
   "metadata": {},
   "outputs": [],
   "source": [
    "with open(\"files/data1.csv\", 'r', newline='') as file:\n",
    "    reader = csv.DictReader(file, fieldnames=tasks_list[0].keys())\n",
    "    next(reader)  # pomija nagłówek\n",
    "    read_data = [row for row in reader]"
   ]
  },
  {
   "cell_type": "code",
   "execution_count": 23,
   "id": "bd12bedd-788d-48b9-a93d-f06ba72a1f36",
   "metadata": {},
   "outputs": [
    {
     "data": {
      "text/plain": [
       "[{'description': 'Learn Python',\n",
       "  'assignee': '',\n",
       "  'priority': '3',\n",
       "  'time_logged': '6.25',\n",
       "  'is_complete': 'False',\n",
       "  'tags': \"['edu', 'dev']\"},\n",
       " {'description': 'Do exercises',\n",
       "  'assignee': '',\n",
       "  'priority': '2',\n",
       "  'time_logged': '2',\n",
       "  'is_complete': 'True',\n",
       "  'tags': ''}]"
      ]
     },
     "execution_count": 23,
     "metadata": {},
     "output_type": "execute_result"
    }
   ],
   "source": [
    "read_data"
   ]
  },
  {
   "cell_type": "markdown",
   "id": "3660fff7-f475-4a95-8e3f-17b2c193439b",
   "metadata": {},
   "source": [
    "> **ZADANIA**"
   ]
  },
  {
   "cell_type": "markdown",
   "id": "0217054b-648d-451a-b2c4-dab8c3e63842",
   "metadata": {},
   "source": [
    "## TOML"
   ]
  },
  {
   "cell_type": "code",
   "execution_count": 36,
   "id": "ad178671-c3e9-4e94-a69e-4a4d1a710f27",
   "metadata": {},
   "outputs": [
    {
     "data": {
      "text/plain": [
       "{'db': [{'user': 'postgres', 'password': 'postgres'},\n",
       "  {'user': 'postgres1', 'password': 'postgres1'}],\n",
       " 'app': {'server': '0.0.0.0', 'port': 8000}}"
      ]
     },
     "execution_count": 36,
     "metadata": {},
     "output_type": "execute_result"
    }
   ],
   "source": [
    "sample_config = {\"db\": [{\"user\": \"postgres\", \"password\": \"postgres\"}, {\"user\": \"postgres1\", \"password\": \"postgres1\"}], \"app\": {\"server\": \"0.0.0.0\", \"port\": 8000}}\n",
    "sample_config"
   ]
  },
  {
   "cell_type": "code",
   "execution_count": 37,
   "id": "0b9ff28d-63c9-4416-a5e3-a05fd1506e62",
   "metadata": {},
   "outputs": [],
   "source": [
    "import toml"
   ]
  },
  {
   "cell_type": "code",
   "execution_count": 38,
   "id": "882ff687-314d-4e41-9aa7-9fb6251cadce",
   "metadata": {},
   "outputs": [
    {
     "data": {
      "text/plain": [
       "<module 'toml' from '/home/patryk/anaconda3/lib/python3.11/site-packages/toml/__init__.py'>"
      ]
     },
     "execution_count": 38,
     "metadata": {},
     "output_type": "execute_result"
    }
   ],
   "source": [
    "toml"
   ]
  },
  {
   "cell_type": "code",
   "execution_count": 39,
   "id": "1142cf65-589a-4de2-a675-dc0f15d46fa0",
   "metadata": {},
   "outputs": [],
   "source": [
    "with open('files/config.toml', 'w') as f:\n",
    "    toml.dump(sample_config, f)"
   ]
  },
  {
   "cell_type": "code",
   "execution_count": 40,
   "id": "b188322c-1c05-4795-9f7a-46aa46c650e9",
   "metadata": {},
   "outputs": [
    {
     "data": {
      "text/plain": [
       "{'db': [{'user': 'postgres', 'password': 'postgres'},\n",
       "  {'user': 'postgres1', 'password': 'postgres1'}],\n",
       " 'app': {'server': '0.0.0.0', 'port': 8000}}"
      ]
     },
     "execution_count": 40,
     "metadata": {},
     "output_type": "execute_result"
    }
   ],
   "source": [
    "with open('files/config.toml', 'r') as f:\n",
    "    data_loaded = toml.load(f)\n",
    "\n",
    "data_loaded"
   ]
  },
  {
   "cell_type": "markdown",
   "id": "9e7fa0d2-c26f-4e7d-933d-5612d0e2feac",
   "metadata": {},
   "source": [
    "---"
   ]
  },
  {
   "cell_type": "code",
   "execution_count": 41,
   "id": "65ef1890-36c8-4975-9df9-ca8b52625f06",
   "metadata": {},
   "outputs": [
    {
     "data": {
      "text/plain": [
       "{'description': 'Learn Python',\n",
       " 'assignee': None,\n",
       " 'priority': 3,\n",
       " 'time_logged': 6.25,\n",
       " 'is_complete': False,\n",
       " 'tags': ['edu', 'dev']}"
      ]
     },
     "execution_count": 41,
     "metadata": {},
     "output_type": "execute_result"
    }
   ],
   "source": [
    "task = tasks_list[0]\n",
    "task"
   ]
  },
  {
   "cell_type": "code",
   "execution_count": 42,
   "id": "a8c7c93a-908f-4e76-a875-5b95ef17d664",
   "metadata": {},
   "outputs": [],
   "source": [
    "with open('files/task.toml', 'w') as f:\n",
    "    toml.dump(task, f)"
   ]
  },
  {
   "cell_type": "code",
   "execution_count": 43,
   "id": "cc16d6dd-0e20-4da0-9ab0-e82c8bdfd5c7",
   "metadata": {},
   "outputs": [],
   "source": [
    "with open('files/task.toml', 'r') as f:\n",
    "    data_loaded = toml.load(f)"
   ]
  },
  {
   "cell_type": "code",
   "execution_count": 44,
   "id": "d8b53d6b-cccc-4c21-a8b3-b1c4077d14a1",
   "metadata": {},
   "outputs": [
    {
     "data": {
      "text/plain": [
       "{'description': 'Learn Python',\n",
       " 'priority': 3,\n",
       " 'time_logged': 6.25,\n",
       " 'is_complete': False,\n",
       " 'tags': ['edu', 'dev']}"
      ]
     },
     "execution_count": 44,
     "metadata": {},
     "output_type": "execute_result"
    }
   ],
   "source": [
    "data_loaded"
   ]
  },
  {
   "cell_type": "markdown",
   "id": "d46434e2-f4d6-472c-a3a2-56cd12718ebd",
   "metadata": {},
   "source": [
    "---"
   ]
  },
  {
   "cell_type": "code",
   "execution_count": 45,
   "id": "e4a73b40-d0de-47ba-a38f-5b433c1799a9",
   "metadata": {},
   "outputs": [
    {
     "data": {
      "text/plain": [
       "{'tasks': [{'description': 'Learn Python',\n",
       "   'assignee': None,\n",
       "   'priority': 3,\n",
       "   'time_logged': 6.25,\n",
       "   'is_complete': False,\n",
       "   'tags': ['edu', 'dev']},\n",
       "  {'description': 'Do exercises',\n",
       "   'assignee': None,\n",
       "   'priority': 2,\n",
       "   'time_logged': 2,\n",
       "   'is_complete': True}]}"
      ]
     },
     "execution_count": 45,
     "metadata": {},
     "output_type": "execute_result"
    }
   ],
   "source": [
    "data = {\"tasks\": tasks_list}\n",
    "data"
   ]
  },
  {
   "cell_type": "code",
   "execution_count": 46,
   "id": "7ba256fb-1aec-437d-8171-887e48075271",
   "metadata": {},
   "outputs": [],
   "source": [
    "with open('files/tasks.toml', 'w') as f:\n",
    "    toml.dump(data, f)"
   ]
  },
  {
   "cell_type": "code",
   "execution_count": null,
   "id": "b0f449ac-7c0c-4527-9f07-b0c2d9088194",
   "metadata": {},
   "outputs": [],
   "source": [
    "with open('files/tasks.toml', 'r') as f:\n",
    "    data_loaded = toml.load(f)"
   ]
  },
  {
   "cell_type": "code",
   "execution_count": null,
   "id": "e00c91ca-0700-4efd-97c8-b5cbbb5892e9",
   "metadata": {},
   "outputs": [],
   "source": [
    "data_loaded"
   ]
  },
  {
   "cell_type": "markdown",
   "id": "e8c6f5a4-9ea0-4e3e-b503-657c299aa01a",
   "metadata": {},
   "source": [
    "> **ZADANIA**"
   ]
  },
  {
   "cell_type": "markdown",
   "id": "f8478625-2175-42a0-94a8-fdb18268d7e1",
   "metadata": {},
   "source": [
    "## pickle"
   ]
  },
  {
   "cell_type": "code",
   "execution_count": 47,
   "id": "73d26158-6af0-42e7-b429-1112be22f8a2",
   "metadata": {},
   "outputs": [],
   "source": [
    "x = 1"
   ]
  },
  {
   "cell_type": "code",
   "execution_count": 48,
   "id": "ba12109f-8634-459d-a3f6-f01350ec0570",
   "metadata": {},
   "outputs": [],
   "source": [
    "import pickle"
   ]
  },
  {
   "cell_type": "code",
   "execution_count": 49,
   "id": "11456167-55b9-452f-808b-1eaf683ab1e3",
   "metadata": {},
   "outputs": [],
   "source": [
    "with open(\"files/pickle_file.pickle\", \"wb\") as f:\n",
    "    pickle.dump(x, f)"
   ]
  },
  {
   "cell_type": "code",
   "execution_count": 50,
   "id": "27d9d4a0-a1dd-4bc2-bca7-20a0fee34300",
   "metadata": {},
   "outputs": [
    {
     "data": {
      "text/plain": [
       "1"
      ]
     },
     "execution_count": 50,
     "metadata": {},
     "output_type": "execute_result"
    }
   ],
   "source": [
    "with open(\"files/pickle_file.pickle\", \"rb\") as f:\n",
    "    loaded_pickle = pickle.load(f)\n",
    "    \n",
    "loaded_pickle"
   ]
  },
  {
   "cell_type": "markdown",
   "id": "13f63624-0f0c-408a-8dd4-6458bb89e768",
   "metadata": {},
   "source": [
    "> **ZADANIA**"
   ]
  },
  {
   "cell_type": "markdown",
   "id": "17e1f3f6-219b-4a9d-b2e2-a4fd735ac437",
   "metadata": {},
   "source": [
    "## Excel"
   ]
  },
  {
   "cell_type": "code",
   "execution_count": 51,
   "id": "a050d2e8-93b9-4070-b4af-18477c06955f",
   "metadata": {},
   "outputs": [],
   "source": [
    "import openpyxl"
   ]
  },
  {
   "cell_type": "code",
   "execution_count": 52,
   "id": "dbf3e227-01af-4123-b9b4-09d244aa3c16",
   "metadata": {},
   "outputs": [
    {
     "data": {
      "text/plain": [
       "<openpyxl.workbook.workbook.Workbook at 0x7c8a21b606d0>"
      ]
     },
     "execution_count": 52,
     "metadata": {},
     "output_type": "execute_result"
    }
   ],
   "source": [
    "wb = openpyxl.Workbook()\n",
    "wb"
   ]
  },
  {
   "cell_type": "code",
   "execution_count": 53,
   "id": "93e1d08a-a247-4118-8c58-d81b08132ac6",
   "metadata": {},
   "outputs": [
    {
     "name": "stdout",
     "output_type": "stream",
     "text": [
      "<openpyxl.workbook.workbook.Workbook object at 0x7c8a21b606d0>\n"
     ]
    }
   ],
   "source": [
    "print(wb)"
   ]
  },
  {
   "cell_type": "code",
   "execution_count": 54,
   "id": "725b0103-8d88-4400-ac25-78d73624ad1e",
   "metadata": {},
   "outputs": [
    {
     "data": {
      "text/plain": [
       "['Sheet']"
      ]
     },
     "execution_count": 54,
     "metadata": {},
     "output_type": "execute_result"
    }
   ],
   "source": [
    "wb.sheetnames"
   ]
  },
  {
   "cell_type": "code",
   "execution_count": 56,
   "id": "2a48daa3-02e0-4127-8284-1db01f1157e5",
   "metadata": {},
   "outputs": [
    {
     "name": "stdout",
     "output_type": "stream",
     "text": [
      "<Worksheet \"Sheet\">\n"
     ]
    }
   ],
   "source": [
    "ws = wb[\"Sheet\"]\n",
    "print(ws)"
   ]
  },
  {
   "cell_type": "code",
   "execution_count": 57,
   "id": "b27d02d5-d124-4c31-aac9-1512a158542f",
   "metadata": {},
   "outputs": [
    {
     "data": {
      "text/plain": [
       "openpyxl.worksheet.worksheet.Worksheet"
      ]
     },
     "execution_count": 57,
     "metadata": {},
     "output_type": "execute_result"
    }
   ],
   "source": [
    "type(ws)"
   ]
  },
  {
   "cell_type": "code",
   "execution_count": 58,
   "id": "a0bd3ed3-9a4e-457d-a7ab-dbc8d9fef089",
   "metadata": {},
   "outputs": [
    {
     "data": {
      "text/plain": [
       "<Cell 'Sheet'.A1>"
      ]
     },
     "execution_count": 58,
     "metadata": {},
     "output_type": "execute_result"
    }
   ],
   "source": [
    "cell = ws[\"A1\"]\n",
    "cell"
   ]
  },
  {
   "cell_type": "code",
   "execution_count": 60,
   "id": "69d487bf-5299-423f-adb6-2ef13afee911",
   "metadata": {},
   "outputs": [
    {
     "data": {
      "text/plain": [
       "True"
      ]
     },
     "execution_count": 60,
     "metadata": {},
     "output_type": "execute_result"
    }
   ],
   "source": [
    "cell.value is None"
   ]
  },
  {
   "cell_type": "code",
   "execution_count": 61,
   "id": "03ffc16b-e35d-451e-8d38-29b21d1e0bf3",
   "metadata": {},
   "outputs": [
    {
     "data": {
      "text/plain": [
       "'hello'"
      ]
     },
     "execution_count": 61,
     "metadata": {},
     "output_type": "execute_result"
    }
   ],
   "source": [
    "cell.value = \"hello\"\n",
    "cell.value"
   ]
  },
  {
   "cell_type": "code",
   "execution_count": 62,
   "id": "088dfb00-ba27-4b5f-9186-2947004e9838",
   "metadata": {},
   "outputs": [
    {
     "data": {
      "text/plain": [
       "3"
      ]
     },
     "execution_count": 62,
     "metadata": {},
     "output_type": "execute_result"
    }
   ],
   "source": [
    "ws[\"A2\"].value = 3\n",
    "ws[\"A2\"].value"
   ]
  },
  {
   "cell_type": "code",
   "execution_count": 63,
   "id": "90646aeb-aca1-481d-9430-e7207d1c73bb",
   "metadata": {},
   "outputs": [
    {
     "data": {
      "text/plain": [
       "<Cell 'Sheet'.C2>"
      ]
     },
     "execution_count": 63,
     "metadata": {},
     "output_type": "execute_result"
    }
   ],
   "source": [
    "ws.cell(row=2, column=3)"
   ]
  },
  {
   "cell_type": "code",
   "execution_count": 67,
   "id": "27d95acc-da69-4e1d-af74-0deba52a2c3a",
   "metadata": {},
   "outputs": [
    {
     "name": "stdout",
     "output_type": "stream",
     "text": [
      "<Cell 'Sheet'.B1>\n",
      "<Cell 'Sheet'.B2>\n",
      "<Cell 'Sheet'.B3>\n",
      "<Cell 'Sheet'.B4>\n"
     ]
    }
   ],
   "source": [
    "for i in range(1, 5):\n",
    "    print(ws.cell(row=i, column=2))"
   ]
  },
  {
   "cell_type": "code",
   "execution_count": 69,
   "id": "5410c7ef-3a0c-41ee-aaea-d0094ad7ef62",
   "metadata": {},
   "outputs": [
    {
     "data": {
      "text/html": [
       "<div>\n",
       "<style scoped>\n",
       "    .dataframe tbody tr th:only-of-type {\n",
       "        vertical-align: middle;\n",
       "    }\n",
       "\n",
       "    .dataframe tbody tr th {\n",
       "        vertical-align: top;\n",
       "    }\n",
       "\n",
       "    .dataframe thead th {\n",
       "        text-align: right;\n",
       "    }\n",
       "</style>\n",
       "<table border=\"1\" class=\"dataframe\">\n",
       "  <thead>\n",
       "    <tr style=\"text-align: right;\">\n",
       "      <th></th>\n",
       "      <th>hello</th>\n",
       "      <th>Unnamed: 1</th>\n",
       "      <th>Unnamed: 2</th>\n",
       "      <th>Unnamed: 3</th>\n",
       "      <th>Unnamed: 4</th>\n",
       "      <th>Unnamed: 5</th>\n",
       "    </tr>\n",
       "  </thead>\n",
       "  <tbody>\n",
       "    <tr>\n",
       "      <th>0</th>\n",
       "      <td>3.0</td>\n",
       "      <td>NaN</td>\n",
       "      <td>1.0</td>\n",
       "      <td>6.0</td>\n",
       "      <td>NaN</td>\n",
       "      <td>NaN</td>\n",
       "    </tr>\n",
       "    <tr>\n",
       "      <th>1</th>\n",
       "      <td>NaN</td>\n",
       "      <td>NaN</td>\n",
       "      <td>NaN</td>\n",
       "      <td>NaN</td>\n",
       "      <td>NaN</td>\n",
       "      <td>NaN</td>\n",
       "    </tr>\n",
       "    <tr>\n",
       "      <th>2</th>\n",
       "      <td>NaN</td>\n",
       "      <td>NaN</td>\n",
       "      <td>NaN</td>\n",
       "      <td>NaN</td>\n",
       "      <td>NaN</td>\n",
       "      <td>NaN</td>\n",
       "    </tr>\n",
       "    <tr>\n",
       "      <th>3</th>\n",
       "      <td>NaN</td>\n",
       "      <td>NaN</td>\n",
       "      <td>NaN</td>\n",
       "      <td>NaN</td>\n",
       "      <td>NaN</td>\n",
       "      <td>NaN</td>\n",
       "    </tr>\n",
       "    <tr>\n",
       "      <th>4</th>\n",
       "      <td>NaN</td>\n",
       "      <td>NaN</td>\n",
       "      <td>NaN</td>\n",
       "      <td>NaN</td>\n",
       "      <td>NaN</td>\n",
       "      <td>10.0</td>\n",
       "    </tr>\n",
       "  </tbody>\n",
       "</table>\n",
       "</div>"
      ],
      "text/plain": [
       "   hello  Unnamed: 1  Unnamed: 2  Unnamed: 3  Unnamed: 4  Unnamed: 5\n",
       "0    3.0         NaN         1.0         6.0         NaN         NaN\n",
       "1    NaN         NaN         NaN         NaN         NaN         NaN\n",
       "2    NaN         NaN         NaN         NaN         NaN         NaN\n",
       "3    NaN         NaN         NaN         NaN         NaN         NaN\n",
       "4    NaN         NaN         NaN         NaN         NaN        10.0"
      ]
     },
     "execution_count": 69,
     "metadata": {},
     "output_type": "execute_result"
    }
   ],
   "source": [
    "pd.read_excel(\"files/excel.xlsx\")"
   ]
  },
  {
   "cell_type": "code",
   "execution_count": 64,
   "id": "c863da47-812a-418b-b35d-2e8edf346605",
   "metadata": {},
   "outputs": [],
   "source": [
    "ws.cell(row=2, column=3).value = True"
   ]
  },
  {
   "cell_type": "code",
   "execution_count": 65,
   "id": "80ee174d-01be-4384-bd17-004d1b0cc087",
   "metadata": {},
   "outputs": [],
   "source": [
    "ws.cell(row=2, column=4).value = \"=2+4\""
   ]
  },
  {
   "cell_type": "code",
   "execution_count": 66,
   "id": "1b2eb11d-cca3-4aa4-a6da-d2680032a8e5",
   "metadata": {},
   "outputs": [],
   "source": [
    "wb.save(\"files/excel.xlsx\")"
   ]
  },
  {
   "cell_type": "markdown",
   "id": "61e4ca10-a917-4b37-94c1-608a9b8de07e",
   "metadata": {},
   "source": [
    "---"
   ]
  },
  {
   "cell_type": "code",
   "execution_count": 72,
   "id": "37f36762-8529-4e20-a505-6dd179ce9167",
   "metadata": {},
   "outputs": [
    {
     "data": {
      "text/plain": [
       "<openpyxl.workbook.workbook.Workbook at 0x7c8a209e5850>"
      ]
     },
     "execution_count": 72,
     "metadata": {},
     "output_type": "execute_result"
    }
   ],
   "source": [
    "wb = openpyxl.load_workbook(\"files/excel.xlsx\")\n",
    "wb"
   ]
  },
  {
   "cell_type": "code",
   "execution_count": 73,
   "id": "cb441836-3973-4149-90d8-26b09c73f731",
   "metadata": {},
   "outputs": [
    {
     "data": {
      "text/plain": [
       "['Sheet', 'nowy']"
      ]
     },
     "execution_count": 73,
     "metadata": {},
     "output_type": "execute_result"
    }
   ],
   "source": [
    "wb.sheetnames"
   ]
  },
  {
   "cell_type": "code",
   "execution_count": 74,
   "id": "ba6a8be6-8a2f-488a-b535-5162dde8f66f",
   "metadata": {},
   "outputs": [],
   "source": [
    "ws = wb[\"Sheet\"]"
   ]
  },
  {
   "cell_type": "code",
   "execution_count": 75,
   "id": "12abe093-2097-45f0-915e-bd841a666546",
   "metadata": {},
   "outputs": [
    {
     "data": {
      "text/plain": [
       "<Worksheet \"Sheet\">"
      ]
     },
     "execution_count": 75,
     "metadata": {},
     "output_type": "execute_result"
    }
   ],
   "source": [
    "ws"
   ]
  },
  {
   "cell_type": "code",
   "execution_count": 76,
   "id": "847291dd-5adc-40e3-8ddf-4bfadf490412",
   "metadata": {},
   "outputs": [
    {
     "data": {
      "text/plain": [
       "'hello'"
      ]
     },
     "execution_count": 76,
     "metadata": {},
     "output_type": "execute_result"
    }
   ],
   "source": [
    "ws.cell(1, 1).value"
   ]
  },
  {
   "cell_type": "markdown",
   "id": "ae76a8cf-272f-43f2-b793-6669334c78c6",
   "metadata": {},
   "source": [
    "> **ZADANIA**"
   ]
  }
 ],
 "metadata": {
  "kernelspec": {
   "display_name": "Python 3 (ipykernel)",
   "language": "python",
   "name": "python3"
  },
  "language_info": {
   "codemirror_mode": {
    "name": "ipython",
    "version": 3
   },
   "file_extension": ".py",
   "mimetype": "text/x-python",
   "name": "python",
   "nbconvert_exporter": "python",
   "pygments_lexer": "ipython3",
   "version": "3.11.5"
  }
 },
 "nbformat": 4,
 "nbformat_minor": 5
}
