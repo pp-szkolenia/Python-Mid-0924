{
 "cells": [
  {
   "cell_type": "markdown",
   "id": "da3c8cc1",
   "metadata": {},
   "source": [
    "# Dekoratory"
   ]
  },
  {
   "cell_type": "markdown",
   "id": "ba4bc23c",
   "metadata": {},
   "source": [
    "Ogólna idea - modyfikacja działania funkcji bez ingerowania w tę funkcję. Przykłady:\n",
    "- dodanie mierzenia czasu\n",
    "- dodanie logowania do pliku\n",
    "- obsługa błędów\n",
    "\n",
    "Często nie chcemy modyfikować kodu funkcji, chociażby dlatego, żeby nie zmniejszać czytelności. Albo jeśli pewne zmiany chcemy wprowadzić do wielu funkcji to zamiast poprawiać w każdej, lepiej napisać jedną modyfikację."
   ]
  },
  {
   "cell_type": "markdown",
   "id": "df013a10",
   "metadata": {},
   "source": [
    "## Przykład 1 – dzielenie przez 0"
   ]
  },
  {
   "cell_type": "code",
   "execution_count": 1,
   "id": "13dce871",
   "metadata": {},
   "outputs": [],
   "source": [
    "def divide(a, b):\n",
    "    return a / b"
   ]
  },
  {
   "cell_type": "code",
   "execution_count": 3,
   "id": "c57f5dac",
   "metadata": {},
   "outputs": [
    {
     "ename": "ZeroDivisionError",
     "evalue": "division by zero",
     "output_type": "error",
     "traceback": [
      "\u001b[0;31m---------------------------------------------------------------------------\u001b[0m",
      "\u001b[0;31mZeroDivisionError\u001b[0m                         Traceback (most recent call last)",
      "Cell \u001b[0;32mIn[3], line 1\u001b[0m\n\u001b[0;32m----> 1\u001b[0m divide(\u001b[38;5;241m6\u001b[39m, \u001b[38;5;241m0\u001b[39m)\n",
      "Cell \u001b[0;32mIn[1], line 2\u001b[0m, in \u001b[0;36mdivide\u001b[0;34m(a, b)\u001b[0m\n\u001b[1;32m      1\u001b[0m \u001b[38;5;28;01mdef\u001b[39;00m \u001b[38;5;21mdivide\u001b[39m(a, b):\n\u001b[0;32m----> 2\u001b[0m     \u001b[38;5;28;01mreturn\u001b[39;00m a \u001b[38;5;241m/\u001b[39m b\n",
      "\u001b[0;31mZeroDivisionError\u001b[0m: division by zero"
     ]
    }
   ],
   "source": [
    "divide(6, 0)  # divide(6, 0) błąd"
   ]
  },
  {
   "cell_type": "markdown",
   "id": "e62b60ba",
   "metadata": {},
   "source": [
    "Funkcja spełnia swoje zadanie, ale nie ma obsługi błędów. W takim razie modyfikujemy jej ciało"
   ]
  },
  {
   "cell_type": "code",
   "execution_count": 4,
   "id": "e57be053",
   "metadata": {},
   "outputs": [],
   "source": [
    "def divide(a, b):\n",
    "    if b == 0:\n",
    "        return None\n",
    "    else:\n",
    "        return a / b"
   ]
  },
  {
   "cell_type": "code",
   "execution_count": 6,
   "id": "0433ae15",
   "metadata": {},
   "outputs": [],
   "source": [
    "divide(6, 0)"
   ]
  },
  {
   "cell_type": "code",
   "execution_count": 8,
   "id": "d6bbbf81-5630-4966-baea-08601025b8d2",
   "metadata": {},
   "outputs": [],
   "source": [
    "def modulo(a, b):\n",
    "    return a % b"
   ]
  },
  {
   "cell_type": "code",
   "execution_count": 9,
   "id": "233709fc-c371-470b-b5ed-06c43da2df2b",
   "metadata": {},
   "outputs": [
    {
     "data": {
      "text/plain": [
       "1"
      ]
     },
     "execution_count": 9,
     "metadata": {},
     "output_type": "execute_result"
    }
   ],
   "source": [
    "modulo(5, 2)"
   ]
  },
  {
   "cell_type": "markdown",
   "id": "c03a2b71",
   "metadata": {},
   "source": [
    "Modyfikacja obsługuje błąd, ale wymaga zmiany w funkcji. Zamiast tego, obsługę błędów można obsłużyć w innej funkcji"
   ]
  },
  {
   "cell_type": "code",
   "execution_count": 10,
   "id": "badafb96",
   "metadata": {},
   "outputs": [],
   "source": [
    "def divide(a, b):\n",
    "    return a / b"
   ]
  },
  {
   "cell_type": "markdown",
   "id": "c516bec7-b43e-469c-a3cd-9f3e6938009c",
   "metadata": {},
   "source": [
    "Poniższe funkcja przyjmuje jako argument funkcję `divide` i zwraca jej zmodyfikowaną wersję."
   ]
  },
  {
   "cell_type": "code",
   "execution_count": 14,
   "id": "2930c740",
   "metadata": {},
   "outputs": [],
   "source": [
    "def modify_division_function_to_handle_division_by_zero(divide_function): \n",
    "    def wrapper(a, b):  # wrapper to zmodyfikowana wersja funkcji\n",
    "        if b == 0:\n",
    "            return None\n",
    "        else:\n",
    "            return divide_function(a, b)  # nie duplikujemy kodu z funkcji dzielącej\n",
    "    \n",
    "    # Skąd w tym miejscu wiadomo czym jest a i b?\n",
    "    # Nie wiadomo. po prostu zwracamy funkcję, która będzie miała takie parametry\n",
    "    \n",
    "    return wrapper  # zwraca ulepszoną funkcję"
   ]
  },
  {
   "cell_type": "code",
   "execution_count": 15,
   "id": "3f44c467",
   "metadata": {},
   "outputs": [
    {
     "ename": "ZeroDivisionError",
     "evalue": "division by zero",
     "output_type": "error",
     "traceback": [
      "\u001b[0;31m---------------------------------------------------------------------------\u001b[0m",
      "\u001b[0;31mZeroDivisionError\u001b[0m                         Traceback (most recent call last)",
      "Cell \u001b[0;32mIn[15], line 1\u001b[0m\n\u001b[0;32m----> 1\u001b[0m divide(\u001b[38;5;241m6\u001b[39m, \u001b[38;5;241m0\u001b[39m)\n",
      "Cell \u001b[0;32mIn[10], line 2\u001b[0m, in \u001b[0;36mdivide\u001b[0;34m(a, b)\u001b[0m\n\u001b[1;32m      1\u001b[0m \u001b[38;5;28;01mdef\u001b[39;00m \u001b[38;5;21mdivide\u001b[39m(a, b):\n\u001b[0;32m----> 2\u001b[0m     \u001b[38;5;28;01mreturn\u001b[39;00m a \u001b[38;5;241m/\u001b[39m b\n",
      "\u001b[0;31mZeroDivisionError\u001b[0m: division by zero"
     ]
    }
   ],
   "source": [
    "divide(6, 0)  # divide(6, 0) spowoduje błąd"
   ]
  },
  {
   "cell_type": "code",
   "execution_count": 17,
   "id": "bc7fa2a3",
   "metadata": {},
   "outputs": [
    {
     "data": {
      "text/plain": [
       "<function __main__.modify_division_function_to_handle_division_by_zero.<locals>.wrapper(a, b)>"
      ]
     },
     "execution_count": 17,
     "metadata": {},
     "output_type": "execute_result"
    }
   ],
   "source": [
    "modify_division_function_to_handle_division_by_zero(divide)  # to zwraca wrapper"
   ]
  },
  {
   "cell_type": "code",
   "execution_count": 18,
   "id": "fe2c3672",
   "metadata": {},
   "outputs": [
    {
     "data": {
      "text/plain": [
       "2.0"
      ]
     },
     "execution_count": 18,
     "metadata": {},
     "output_type": "execute_result"
    }
   ],
   "source": [
    "modify_division_function_to_handle_division_by_zero(divide)(6, 3)"
   ]
  },
  {
   "cell_type": "code",
   "execution_count": 19,
   "id": "96de58b4",
   "metadata": {},
   "outputs": [],
   "source": [
    "modify_division_function_to_handle_division_by_zero(divide)(6, 0)"
   ]
  },
  {
   "cell_type": "markdown",
   "id": "376a6663",
   "metadata": {},
   "source": [
    "Funkcji divide jako takiej nigdy nie chcemy wywoływać bo jest podatna na błąd"
   ]
  },
  {
   "cell_type": "markdown",
   "id": "dbc3b59f",
   "metadata": {},
   "source": [
    "---"
   ]
  },
  {
   "cell_type": "code",
   "execution_count": 20,
   "id": "a4b24218",
   "metadata": {},
   "outputs": [],
   "source": [
    "def handle_zero_division(divide_function):\n",
    "    def wrapper(a, b):\n",
    "        if b == 0:\n",
    "            return None\n",
    "        else:\n",
    "            return divide_function(a, b)    \n",
    "\n",
    "    return wrapper\n",
    "\n",
    "\n",
    "@handle_zero_division\n",
    "def divide(a, b):\n",
    "    return a / b"
   ]
  },
  {
   "cell_type": "code",
   "execution_count": 21,
   "id": "0b28607a",
   "metadata": {},
   "outputs": [
    {
     "data": {
      "text/plain": [
       "<function __main__.handle_zero_division.<locals>.wrapper(a, b)>"
      ]
     },
     "execution_count": 21,
     "metadata": {},
     "output_type": "execute_result"
    }
   ],
   "source": [
    "divide"
   ]
  },
  {
   "cell_type": "code",
   "execution_count": 22,
   "id": "8d399cf5",
   "metadata": {},
   "outputs": [
    {
     "data": {
      "text/plain": [
       "2.0"
      ]
     },
     "execution_count": 22,
     "metadata": {},
     "output_type": "execute_result"
    }
   ],
   "source": [
    "divide(6, 3)"
   ]
  },
  {
   "cell_type": "code",
   "execution_count": 23,
   "id": "773f82fb",
   "metadata": {},
   "outputs": [],
   "source": [
    "divide(6, 0)"
   ]
  },
  {
   "cell_type": "markdown",
   "id": "f856b1de",
   "metadata": {},
   "source": [
    "Powyższy zapis jest tak naprawdę wywołaniem funkcji `handle_zero_division` do której przekazujemy `divide`. To zwraca wrapper, do którego następnie przekazujemy argumenty. To co zwróci wrapper jest finalnym wynikiem powyższej linii."
   ]
  },
  {
   "cell_type": "markdown",
   "id": "7793b939",
   "metadata": {},
   "source": [
    "Wydaje się że jest to strzelanie z armaty do wróbla, ale teraz tego walidatora możemy użyć również do innych funkcji, a nie tylko do tej jednej."
   ]
  },
  {
   "cell_type": "code",
   "execution_count": 24,
   "id": "bdb718e7",
   "metadata": {},
   "outputs": [],
   "source": [
    "def handle_zero_division(func):    # func - zwykle tak piszemy\n",
    "    def wrapper(*args, **kwargs):  # args, kwargs - jesteśmy w stanie obsłużyć sytuacje gdzie są inne argumenty\n",
    "        if args[1] == 0:\n",
    "            return None\n",
    "        else:\n",
    "            return func(*args, **kwargs)   # divide_function(a, b) \n",
    "    \n",
    "    return wrapper\n",
    "\n",
    "\n",
    "@handle_zero_division\n",
    "def divide(a, b):\n",
    "    return a / b\n",
    "\n",
    "\n",
    "@handle_zero_division\n",
    "def modulo(a, b):\n",
    "    return a % b"
   ]
  },
  {
   "cell_type": "code",
   "execution_count": 26,
   "id": "46ec204e",
   "metadata": {},
   "outputs": [],
   "source": [
    "divide(6, 0)"
   ]
  },
  {
   "cell_type": "code",
   "execution_count": 27,
   "id": "45e32974",
   "metadata": {},
   "outputs": [],
   "source": [
    "modulo(6, 0)"
   ]
  },
  {
   "cell_type": "markdown",
   "id": "5e7a9665",
   "metadata": {},
   "source": [
    "## Przykład 2 – transformacja wartości zwracanej przez funkcję"
   ]
  },
  {
   "cell_type": "code",
   "execution_count": 28,
   "id": "620c4250",
   "metadata": {},
   "outputs": [],
   "source": [
    "def return_argument(x):\n",
    "    return x"
   ]
  },
  {
   "cell_type": "code",
   "execution_count": 29,
   "id": "13b6bf50",
   "metadata": {},
   "outputs": [
    {
     "data": {
      "text/plain": [
       "10"
      ]
     },
     "execution_count": 29,
     "metadata": {},
     "output_type": "execute_result"
    }
   ],
   "source": [
    "return_argument(10)"
   ]
  },
  {
   "cell_type": "code",
   "execution_count": 33,
   "id": "2dcf776d",
   "metadata": {},
   "outputs": [],
   "source": [
    "def square(func):\n",
    "    def wrapper(*args, **kwargs):\n",
    "        result = func(*args, **kwargs)\n",
    "        return result ** 2\n",
    "\n",
    "    return wrapper"
   ]
  },
  {
   "cell_type": "code",
   "execution_count": 34,
   "id": "5d42cae3",
   "metadata": {},
   "outputs": [],
   "source": [
    "@square\n",
    "def return_argument(x):\n",
    "    return x"
   ]
  },
  {
   "cell_type": "code",
   "execution_count": 36,
   "id": "ff8638bf",
   "metadata": {},
   "outputs": [
    {
     "data": {
      "text/plain": [
       "100"
      ]
     },
     "execution_count": 36,
     "metadata": {},
     "output_type": "execute_result"
    }
   ],
   "source": [
    "return_argument(10)"
   ]
  },
  {
   "cell_type": "markdown",
   "id": "c55bf693",
   "metadata": {},
   "source": [
    "## Przykład 3 – bardziej abstrakcyjny, obrazuje ideę dekoratora"
   ]
  },
  {
   "cell_type": "code",
   "execution_count": 37,
   "id": "a4049003-4735-4c03-943c-1bb9f4bc8d40",
   "metadata": {},
   "outputs": [
    {
     "data": {
      "text/plain": [
       "'HELLO'"
      ]
     },
     "execution_count": 37,
     "metadata": {},
     "output_type": "execute_result"
    }
   ],
   "source": [
    "\"hello\".upper()"
   ]
  },
  {
   "cell_type": "code",
   "execution_count": 39,
   "id": "0b022005-8855-4d05-b4c6-b5c1daea3654",
   "metadata": {},
   "outputs": [
    {
     "data": {
      "text/plain": [
       "<method 'upper' of 'str' objects>"
      ]
     },
     "execution_count": 39,
     "metadata": {},
     "output_type": "execute_result"
    }
   ],
   "source": [
    "str.upper  #(\"hello\")"
   ]
  },
  {
   "cell_type": "code",
   "execution_count": 44,
   "id": "e2956236",
   "metadata": {},
   "outputs": [],
   "source": [
    "def my_decorator(func):\n",
    "    return str.upper\n",
    "\n",
    "\n",
    "\n",
    "@my_decorator\n",
    "def my_function(x):\n",
    "    return x+1+2*4"
   ]
  },
  {
   "cell_type": "markdown",
   "id": "c822a357",
   "metadata": {},
   "source": [
    "Pytanie: co zwroci wywołanie funkcji?"
   ]
  },
  {
   "cell_type": "code",
   "execution_count": 45,
   "id": "f732e078-4b45-4b89-ad35-c040adf617b9",
   "metadata": {},
   "outputs": [
    {
     "data": {
      "text/plain": [
       "<method 'upper' of 'str' objects>"
      ]
     },
     "execution_count": 45,
     "metadata": {},
     "output_type": "execute_result"
    }
   ],
   "source": [
    "my_function"
   ]
  },
  {
   "cell_type": "code",
   "execution_count": 43,
   "id": "19b2338f",
   "metadata": {},
   "outputs": [
    {
     "data": {
      "text/plain": [
       "'HELLO'"
      ]
     },
     "execution_count": 43,
     "metadata": {},
     "output_type": "execute_result"
    }
   ],
   "source": [
    "my_function(\"hello\")"
   ]
  },
  {
   "cell_type": "markdown",
   "id": "1304d8e2-4778-4b39-9597-5fe4036a090a",
   "metadata": {},
   "source": [
    "> **ZADANIA**"
   ]
  },
  {
   "cell_type": "markdown",
   "id": "7b0be1c3",
   "metadata": {},
   "source": [
    "## Wiele dekoratorów – przykład 1"
   ]
  },
  {
   "cell_type": "code",
   "execution_count": 56,
   "id": "f45e2b27",
   "metadata": {},
   "outputs": [],
   "source": [
    "import time\n",
    "\n",
    "\n",
    "def validate_division(func):\n",
    "    def wrapper(*args, **kwargs):\n",
    "        if args[1] == 0:\n",
    "            return None\n",
    "        else:\n",
    "            return func(*args, **kwargs)\n",
    "    \n",
    "    return wrapper\n",
    "\n",
    "\n",
    "def measure_time(func):\n",
    "    def wrapper(*args, **kwargs):\n",
    "        start = time.perf_counter()\n",
    "        result = func(*args, **kwargs)\n",
    "        stop = time.perf_counter()\n",
    "        print(\"Czas: \", stop - start)\n",
    "\n",
    "        return result\n",
    "\n",
    "    return wrapper\n",
    "\n",
    "\n",
    "def pure_divide(a, b):\n",
    "    return a / b\n",
    "\n",
    "\n",
    "@measure_time\n",
    "@validate_division\n",
    "def divide(a, b):\n",
    "    return a / b"
   ]
  },
  {
   "cell_type": "code",
   "execution_count": 57,
   "id": "fec26e64-cdb8-4420-b250-259657356a87",
   "metadata": {},
   "outputs": [
    {
     "name": "stdout",
     "output_type": "stream",
     "text": [
      "Czas:  4.1679886635392904e-06\n"
     ]
    },
    {
     "data": {
      "text/plain": [
       "5.0"
      ]
     },
     "execution_count": 57,
     "metadata": {},
     "output_type": "execute_result"
    }
   ],
   "source": [
    "divide(10, 2) # is None"
   ]
  },
  {
   "cell_type": "code",
   "execution_count": 59,
   "id": "2dec83e5-e5bd-4f6a-a402-79479295944c",
   "metadata": {},
   "outputs": [
    {
     "name": "stdout",
     "output_type": "stream",
     "text": [
      "Czas:  2.7269998099654913e-06\n"
     ]
    },
    {
     "data": {
      "text/plain": [
       "0.5"
      ]
     },
     "execution_count": 59,
     "metadata": {},
     "output_type": "execute_result"
    }
   ],
   "source": [
    "measure_time(validate_division(pure_divide))(10, 20)"
   ]
  },
  {
   "cell_type": "markdown",
   "id": "a1d09d2d-89d4-4695-b1d9-6fc5709be341",
   "metadata": {},
   "source": [
    "---"
   ]
  },
  {
   "cell_type": "code",
   "execution_count": 60,
   "id": "2f82d625-1893-4f6f-90df-9dc6488594c2",
   "metadata": {},
   "outputs": [],
   "source": [
    "@validate_division\n",
    "@measure_time\n",
    "def divide(a, b):\n",
    "    return a / b"
   ]
  },
  {
   "cell_type": "code",
   "execution_count": 61,
   "id": "38122f66-fdb3-473b-b2f0-d74ee0871f92",
   "metadata": {},
   "outputs": [
    {
     "name": "stdout",
     "output_type": "stream",
     "text": [
      "Czas:  3.156979801133275e-06\n"
     ]
    },
    {
     "data": {
      "text/plain": [
       "5.0"
      ]
     },
     "execution_count": 61,
     "metadata": {},
     "output_type": "execute_result"
    }
   ],
   "source": [
    "divide(10, 2)"
   ]
  },
  {
   "cell_type": "code",
   "execution_count": 62,
   "id": "237d34e5-e674-432b-8183-2e73ad03340d",
   "metadata": {},
   "outputs": [
    {
     "name": "stdout",
     "output_type": "stream",
     "text": [
      "Czas:  2.3139873519539833e-06\n"
     ]
    },
    {
     "data": {
      "text/plain": [
       "0.5"
      ]
     },
     "execution_count": 62,
     "metadata": {},
     "output_type": "execute_result"
    }
   ],
   "source": [
    "validate_division(measure_time(pure_divide))(10, 20)"
   ]
  },
  {
   "cell_type": "markdown",
   "id": "18b57ab3-f3a7-437a-94b7-86764aaefb28",
   "metadata": {},
   "source": [
    "Nie ma printowania czasu, ponieważ tutaj najpierw wywołujemy funkcję walidującą, a ona po sprawdzeniu czy b==0 od razu zwraca None zamiast wywoływać kolejne funkcje.\n",
    "\n",
    "Kiedy b!=0, czas będzie printowany."
   ]
  },
  {
   "cell_type": "code",
   "execution_count": null,
   "id": "4fe310c1-57ad-44d7-8bfc-3932622596c2",
   "metadata": {},
   "outputs": [],
   "source": [
    "divide(10, 1)"
   ]
  },
  {
   "cell_type": "markdown",
   "id": "e3ecdd81",
   "metadata": {},
   "source": [
    "## Wiele dekoratorów – przykład 2"
   ]
  },
  {
   "cell_type": "code",
   "execution_count": 63,
   "id": "81360d32",
   "metadata": {},
   "outputs": [],
   "source": [
    "def add_exclamation(func):\n",
    "    def wrapper(*args, **kwargs):\n",
    "        result = func(*args, **kwargs)\n",
    "        result += \"!\"\n",
    "        return result\n",
    "    return wrapper\n",
    "\n",
    "\n",
    "def add_quotation(func):\n",
    "    def wrapper(*args, **kwargs):\n",
    "        result = func(*args, **kwargs)\n",
    "        result += \"?\"\n",
    "        return result\n",
    "    return wrapper\n",
    "\n",
    "\n",
    "@add_exclamation\n",
    "@add_quotation\n",
    "def make_upper(text):\n",
    "    return text.upper()"
   ]
  },
  {
   "cell_type": "code",
   "execution_count": 64,
   "id": "856d35b1",
   "metadata": {},
   "outputs": [
    {
     "data": {
      "text/plain": [
       "'HELLO?!'"
      ]
     },
     "execution_count": 64,
     "metadata": {},
     "output_type": "execute_result"
    }
   ],
   "source": [
    "make_upper(\"hello\")"
   ]
  },
  {
   "cell_type": "markdown",
   "id": "5e8e092a",
   "metadata": {},
   "source": [
    "Wołamy add_exclamation, które woła add_quotation, które woła make_upper"
   ]
  },
  {
   "cell_type": "markdown",
   "id": "291c5b6c-2b8b-44fe-b868-b3e32f6a547d",
   "metadata": {},
   "source": [
    "> **ZADANIA**"
   ]
  },
  {
   "cell_type": "markdown",
   "id": "7acd7167",
   "metadata": {},
   "source": [
    "## Parametryzacja dekoratora"
   ]
  },
  {
   "cell_type": "code",
   "execution_count": 66,
   "id": "2e3a36cf-a12e-4b0b-ae99-b6ac218dde59",
   "metadata": {},
   "outputs": [
    {
     "data": {
      "text/plain": [
       "1.42"
      ]
     },
     "execution_count": 66,
     "metadata": {},
     "output_type": "execute_result"
    }
   ],
   "source": [
    "round(1.4232, 2)"
   ]
  },
  {
   "cell_type": "code",
   "execution_count": 69,
   "id": "4d9369e1-b8a1-4ab7-b9ae-89380156797f",
   "metadata": {},
   "outputs": [
    {
     "data": {
      "text/plain": [
       "2"
      ]
     },
     "execution_count": 69,
     "metadata": {},
     "output_type": "execute_result"
    }
   ],
   "source": [
    "def round_result(func):\n",
    "    def wrapper(*args, **kwargs):\n",
    "        result = func(*args, **kwargs)\n",
    "        rounded_result = round(result)\n",
    "        return rounded_result\n",
    "\n",
    "    return wrapper\n",
    "\n",
    "\n",
    "\n",
    "@round_result\n",
    "def calculate_average(a, b):\n",
    "    return (a + b) / 2\n",
    "\n",
    "\n",
    "calculate_average(1.242342, 2.23)"
   ]
  },
  {
   "cell_type": "markdown",
   "id": "09eef7a2-16ef-457b-b53c-ba97275d8af6",
   "metadata": {},
   "source": [
    "---"
   ]
  },
  {
   "cell_type": "code",
   "execution_count": 71,
   "id": "e4bdf948",
   "metadata": {},
   "outputs": [
    {
     "data": {
      "text/plain": [
       "1.74"
      ]
     },
     "execution_count": 71,
     "metadata": {},
     "output_type": "execute_result"
    }
   ],
   "source": [
    "def actual_rounding_decorator(param):\n",
    "    def round_result(func):\n",
    "        def wrapper(*args, **kwargs):\n",
    "            result = func(*args, **kwargs)\n",
    "            rounded_result = round(result, param)\n",
    "            return rounded_result\n",
    "\n",
    "        return wrapper\n",
    "    return round_result\n",
    "\n",
    "\n",
    "@actual_rounding_decorator(2)\n",
    "def calculate_average(a, b):\n",
    "    return (a + b) / 2\n",
    "\n",
    "\n",
    "calculate_average(1.242342, 2.23)"
   ]
  },
  {
   "cell_type": "code",
   "execution_count": null,
   "id": "a760afe9-e156-43f2-86db-ea644a61c824",
   "metadata": {},
   "outputs": [],
   "source": [
    "actual_rounding_decorator(round_result(calculate_average))"
   ]
  }
 ],
 "metadata": {
  "kernelspec": {
   "display_name": "Python 3 (ipykernel)",
   "language": "python",
   "name": "python3"
  },
  "language_info": {
   "codemirror_mode": {
    "name": "ipython",
    "version": 3
   },
   "file_extension": ".py",
   "mimetype": "text/x-python",
   "name": "python",
   "nbconvert_exporter": "python",
   "pygments_lexer": "ipython3",
   "version": "3.11.5"
  },
  "toc": {
   "base_numbering": 1,
   "nav_menu": {},
   "number_sections": true,
   "sideBar": true,
   "skip_h1_title": true,
   "title_cell": "Table of Contents",
   "title_sidebar": "Contents",
   "toc_cell": false,
   "toc_position": {},
   "toc_section_display": true,
   "toc_window_display": false
  },
  "varInspector": {
   "cols": {
    "lenName": 16,
    "lenType": 16,
    "lenVar": 40
   },
   "kernels_config": {
    "python": {
     "delete_cmd_postfix": "",
     "delete_cmd_prefix": "del ",
     "library": "var_list.py",
     "varRefreshCmd": "print(var_dic_list())"
    },
    "r": {
     "delete_cmd_postfix": ") ",
     "delete_cmd_prefix": "rm(",
     "library": "var_list.r",
     "varRefreshCmd": "cat(var_dic_list()) "
    }
   },
   "types_to_exclude": [
    "module",
    "function",
    "builtin_function_or_method",
    "instance",
    "_Feature"
   ],
   "window_display": false
  }
 },
 "nbformat": 4,
 "nbformat_minor": 5
}
