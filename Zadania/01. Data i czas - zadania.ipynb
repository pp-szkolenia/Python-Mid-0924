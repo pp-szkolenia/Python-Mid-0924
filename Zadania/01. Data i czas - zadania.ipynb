{
 "cells": [
  {
   "cell_type": "markdown",
   "id": "f9387eb5",
   "metadata": {},
   "source": [
    "# Data i czas - zadania\n",
    "## Typy danych, zamiana daty na tekst i tekstu na datę"
   ]
  },
  {
   "cell_type": "markdown",
   "id": "15b004b5",
   "metadata": {},
   "source": [
    "1. Stwórz obiekty reprezentujące poniższe daty i czasy oraz przypisz je do zmiennych:\n",
    "- 2016-11-08\n",
    "- 2013/12/22\n",
    "- 08:34\n",
    "- 1:50 PM\n",
    "- dzień dzisiejszy\n",
    "- 2011-05-03 14:45:00\n",
    "- obecny moment\n",
    "\n",
    "---\n",
    "(czas: 6 min.)"
   ]
  },
  {
   "cell_type": "code",
   "execution_count": 1,
   "id": "01140cc5",
   "metadata": {},
   "outputs": [],
   "source": [
    "from datetime import date, time, datetime, timedelta"
   ]
  },
  {
   "cell_type": "code",
   "execution_count": 2,
   "id": "c40db54c-2bfa-4704-b6d6-ef14183773f5",
   "metadata": {},
   "outputs": [],
   "source": [
    "dt1 = date(2016, 11, 8)\n",
    "dt2 = date(2013, 12, 22)\n",
    "dt3 = time(8, 34)\n",
    "dt4 = time(13, 50)\n",
    "dt5 = date.today()\n",
    "dt6 = datetime(2011, 5, 3, 14, 45)\n",
    "dt7 = datetime.now()"
   ]
  },
  {
   "cell_type": "markdown",
   "id": "08a59e1f",
   "metadata": {},
   "source": [
    "2. Zamień obiekty z powyższego zadania na wersję typu string w różnych formatach. Zapisz je do zmiennych.\n",
    "\n",
    "---\n",
    "(czas: 8 min.)"
   ]
  },
  {
   "cell_type": "code",
   "execution_count": 3,
   "id": "3c001d09",
   "metadata": {},
   "outputs": [],
   "source": [
    "dt1_string = dt1.strftime('%Y/%m/%d')\n",
    "dt2_string = dt2.strftime('%d-%m-%Y')\n",
    "dt3_string = dt3.strftime('%H:%M')\n",
    "dt4_string = dt4.strftime('%H %M')\n",
    "dt5_string = dt5.strftime('%Y-%m-%d')\n",
    "dt6_string = dt6.strftime('%y-%m-%d %H:%M:%S')\n",
    "dt7_string = dt7.strftime('%d-%m-%y %H:%M:%S')"
   ]
  },
  {
   "cell_type": "code",
   "execution_count": 5,
   "id": "79a617c0-f0c8-48ff-b640-278ad7c80bc1",
   "metadata": {},
   "outputs": [
    {
     "data": {
      "text/plain": [
       "('2016/11/08',\n",
       " '22-12-2013',\n",
       " '08:34',\n",
       " '13 50',\n",
       " '2024-09-10',\n",
       " '11-05-03 14:45:00',\n",
       " '10-09-24 09:02:55')"
      ]
     },
     "execution_count": 5,
     "metadata": {},
     "output_type": "execute_result"
    }
   ],
   "source": [
    "(dt1_string,\n",
    "dt2_string,\n",
    "dt3_string,\n",
    "dt4_string,\n",
    "dt5_string,\n",
    "dt6_string,\n",
    "dt7_string)"
   ]
  },
  {
   "cell_type": "markdown",
   "id": "87fdab3b",
   "metadata": {},
   "source": [
    "3. Zamień stringi z poprzedniego zadania z powrotem na datę/czas.\n",
    "\n",
    "---\n",
    "(czas: 6 min.)"
   ]
  },
  {
   "cell_type": "code",
   "execution_count": 8,
   "id": "b7f2b040",
   "metadata": {},
   "outputs": [],
   "source": [
    "dt1_ = datetime.strptime(dt1_string, '%Y/%m/%d')\n",
    "dt2_ = datetime.strptime(dt2_string, '%d-%m-%Y')\n",
    "dt3_ = datetime.strptime(dt3_string, '%H:%M').time()\n",
    "dt4_ = datetime.strptime(dt4_string, '%H %M')\n",
    "dt5_ = datetime.strptime(dt5_string, '%Y-%m-%d').date()\n",
    "dt6_ = datetime.strptime(dt6_string, '%y-%m-%d %H:%M:%S')\n",
    "dt7_ = datetime.strptime(dt7_string, '%d-%m-%y %H:%M:%S')"
   ]
  },
  {
   "cell_type": "code",
   "execution_count": 9,
   "id": "26ce78f1-130e-4bab-8369-5f1d0e0063e6",
   "metadata": {},
   "outputs": [
    {
     "data": {
      "text/plain": [
       "(datetime.datetime(2016, 11, 8, 0, 0),\n",
       " datetime.datetime(2013, 12, 22, 0, 0),\n",
       " datetime.time(8, 34),\n",
       " datetime.datetime(1900, 1, 1, 13, 50),\n",
       " datetime.date(2024, 9, 10),\n",
       " datetime.datetime(2011, 5, 3, 14, 45),\n",
       " datetime.datetime(2024, 9, 10, 9, 2, 55))"
      ]
     },
     "execution_count": 9,
     "metadata": {},
     "output_type": "execute_result"
    }
   ],
   "source": [
    "(dt1_,\n",
    "dt2_,\n",
    "dt3_,\n",
    "dt4_,\n",
    "dt5_,\n",
    "dt6_,\n",
    "dt7_)"
   ]
  },
  {
   "cell_type": "markdown",
   "id": "f95347c0",
   "metadata": {},
   "source": [
    "## Różnica czasu, strefy czasowe"
   ]
  },
  {
   "cell_type": "markdown",
   "id": "976809e2",
   "metadata": {},
   "source": [
    "1. Policz różnicę czasu między dniem dzisiejszym a datą 2006-03-15. Sprawdź ile godzin minęło przez ten czas.\n",
    "\n",
    "---\n",
    "(czas: 4 min.)"
   ]
  },
  {
   "cell_type": "code",
   "execution_count": 13,
   "id": "76c942fa",
   "metadata": {},
   "outputs": [
    {
     "data": {
      "text/plain": [
       "162096"
      ]
     },
     "execution_count": 13,
     "metadata": {},
     "output_type": "execute_result"
    }
   ],
   "source": [
    "(date.today() - date(2006, 3, 15)).days * 24"
   ]
  },
  {
   "cell_type": "markdown",
   "id": "911fe175",
   "metadata": {},
   "source": [
    "2. Przypisz do zmiennej obiekt reprezentujący obecny czas minus 2 dni i 4 godziny. Sprawdź która godzina była wtedy w strefie czasowej 'Canada/Pacific' oraz jaki był to dzień tygodnia.\n",
    "\n",
    "---\n",
    "(czas: 6 min.)"
   ]
  },
  {
   "cell_type": "code",
   "execution_count": 14,
   "id": "e3436e8b",
   "metadata": {},
   "outputs": [
    {
     "data": {
      "text/plain": [
       "datetime.datetime(2024, 9, 8, 5, 6, 48, 116664)"
      ]
     },
     "execution_count": 14,
     "metadata": {},
     "output_type": "execute_result"
    }
   ],
   "source": [
    "delta = datetime.now() - timedelta(days=2, hours=4)\n",
    "delta"
   ]
  },
  {
   "cell_type": "code",
   "execution_count": 15,
   "id": "63b084b7-537c-4145-9ab6-5f77cc80d5c7",
   "metadata": {},
   "outputs": [],
   "source": [
    "from zoneinfo import ZoneInfo"
   ]
  },
  {
   "cell_type": "code",
   "execution_count": 16,
   "id": "66003285-e270-4b88-bf4d-1536b1d09dfd",
   "metadata": {},
   "outputs": [
    {
     "data": {
      "text/plain": [
       "datetime.datetime(2024, 9, 7, 20, 6, 48, 116664, tzinfo=zoneinfo.ZoneInfo(key='Canada/Pacific'))"
      ]
     },
     "execution_count": 16,
     "metadata": {},
     "output_type": "execute_result"
    }
   ],
   "source": [
    "delta.astimezone(ZoneInfo(\"Canada/Pacific\"))"
   ]
  },
  {
   "cell_type": "code",
   "execution_count": 18,
   "id": "7f08022e-2e43-44a0-9646-4f1e330efe18",
   "metadata": {},
   "outputs": [
    {
     "data": {
      "text/plain": [
       "5"
      ]
     },
     "execution_count": 18,
     "metadata": {},
     "output_type": "execute_result"
    }
   ],
   "source": [
    "datetime.weekday(delta.astimezone(ZoneInfo(\"Canada/Pacific\")))"
   ]
  }
 ],
 "metadata": {
  "kernelspec": {
   "display_name": "Python 3 (ipykernel)",
   "language": "python",
   "name": "python3"
  },
  "language_info": {
   "codemirror_mode": {
    "name": "ipython",
    "version": 3
   },
   "file_extension": ".py",
   "mimetype": "text/x-python",
   "name": "python",
   "nbconvert_exporter": "python",
   "pygments_lexer": "ipython3",
   "version": "3.11.5"
  },
  "toc": {
   "base_numbering": 1,
   "nav_menu": {},
   "number_sections": true,
   "sideBar": true,
   "skip_h1_title": true,
   "title_cell": "Table of Contents",
   "title_sidebar": "Contents",
   "toc_cell": false,
   "toc_position": {},
   "toc_section_display": true,
   "toc_window_display": false
  },
  "varInspector": {
   "cols": {
    "lenName": 16,
    "lenType": 16,
    "lenVar": 40
   },
   "kernels_config": {
    "python": {
     "delete_cmd_postfix": "",
     "delete_cmd_prefix": "del ",
     "library": "var_list.py",
     "varRefreshCmd": "print(var_dic_list())"
    },
    "r": {
     "delete_cmd_postfix": ") ",
     "delete_cmd_prefix": "rm(",
     "library": "var_list.r",
     "varRefreshCmd": "cat(var_dic_list()) "
    }
   },
   "types_to_exclude": [
    "module",
    "function",
    "builtin_function_or_method",
    "instance",
    "_Feature"
   ],
   "window_display": false
  }
 },
 "nbformat": 4,
 "nbformat_minor": 5
}
