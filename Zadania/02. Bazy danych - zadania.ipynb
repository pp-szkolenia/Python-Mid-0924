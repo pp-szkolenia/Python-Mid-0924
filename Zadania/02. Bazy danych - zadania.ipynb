{
 "cells": [
  {
   "cell_type": "markdown",
   "id": "5c0c0a8d",
   "metadata": {},
   "source": [
    "# Bazy danych - zadania"
   ]
  },
  {
   "cell_type": "markdown",
   "id": "1a16db5c",
   "metadata": {},
   "source": [
    "## Zapytanie SELECT"
   ]
  },
  {
   "cell_type": "markdown",
   "id": "1910ccb0",
   "metadata": {},
   "source": [
    "1. Stwórzy tabelę `cars` i dodaj do niej wiersze. Wykonaj poniższe polecenia:\n",
    "\n",
    "- Wyciągnij wszystkie wiersze gdzie przebieg jest w zakresie 180tys - 200tys km\n",
    "- Wyciągnij id i datę produkcji wszystkich samochodów marki Audi\n",
    "- Wyciągnij wszystkie kolumny dla wierszy gdzie cena jest większa niż 40 000 lub samochód jest nowy. Uszereguj wyniki malejąco według przebiegu\n",
    "\n",
    "---\n",
    "(czas: 6 min.)"
   ]
  },
  {
   "cell_type": "code",
   "execution_count": 1,
   "id": "36f45bb6",
   "metadata": {},
   "outputs": [],
   "source": [
    "# ..."
   ]
  },
  {
   "cell_type": "markdown",
   "id": "c6494894",
   "metadata": {},
   "source": [
    "## Projektowanie bazy danych"
   ]
  },
  {
   "cell_type": "markdown",
   "id": "0eec8621",
   "metadata": {},
   "source": [
    "1. Zaprojektuj i utwórz za pomocą zapytania CREATE tabelę, która będzie przechowywać dowolne obiekty, np. studentów uczelni, transakcje w sklepie, informacje o pogodzie w kolejnych dniach etc. Wystarczy żeby tabela miała 3-4 kolumny, im prościej tym lepiej. Uruchom zapytanie w pgAdminie\n",
    "\n",
    "- Dobierz odpowiednie typy danych. Ich dokładny opis możesz znaleźć np. tutaj -> https://www.postgresqltutorial.com/postgresql-data-types/\n",
    "- Wykorzystaj m.in. typ SERIAL oraz constrainty NOT NULL i UNIQUE jeśli będą potrzebne\n",
    "\n",
    "Następnie napisz kod w Pythonie, który wygeneruje zapytania typu INSERT i wyprintuje je lub zapisze w pliku. Skopiuj treść tych zapytań do pgAdmina i uruchom. \n",
    "\n",
    "\n",
    "Wykonaj również kilka zapytań typu SELECT, UPDATE i DELETE tak aby zaznajomić się z nimi w praktyce. Na koniec całkowicie usuń tabelę.\n",
    "\n",
    "*Zachowaj treści zapytań. Będą one potrzebne w kolejnym zadaniu*\n",
    "\n",
    "---\n",
    "(czas: 50 min.)"
   ]
  },
  {
   "cell_type": "code",
   "execution_count": 2,
   "id": "1e080242",
   "metadata": {},
   "outputs": [],
   "source": [
    "# ..."
   ]
  },
  {
   "cell_type": "markdown",
   "id": "f9b0f7a3",
   "metadata": {},
   "source": [
    "## PostgreSQL + Python"
   ]
  },
  {
   "cell_type": "markdown",
   "id": "7b5753c7",
   "metadata": {},
   "source": [
    "1. Wykonaj poprzednie zadanie, tym razem w pełni z poziomu Pythona. Treści zapytań możesz kopiować z poprzedniego zadania. Korzystaj z pgAdmina jedynie w celu sprawdzenia czy zapytania przynoszą oczekiwany wynik.\n",
    "\n",
    "W razie nadmiaru czasu wykorzystaj go na eksperymenty z SQLem\n",
    "\n",
    "---\n",
    "\n",
    "(czas: 20 min.)"
   ]
  },
  {
   "cell_type": "code",
   "execution_count": 3,
   "id": "3676634a",
   "metadata": {},
   "outputs": [],
   "source": [
    "# ..."
   ]
  },
  {
   "cell_type": "markdown",
   "id": "78283848",
   "metadata": {},
   "source": [
    "## SQLAlchemy\n",
    "\n",
    "1. Zaprojektuj klasę odpowiadającą tabeli `cars` z poprzednich przykładów. Utwórz tabelę używając `SQLAlchemy`.\n",
    "\n",
    "---\n",
    "(czas: 18 min.)"
   ]
  },
  {
   "cell_type": "code",
   "execution_count": null,
   "id": "d2bc9cbf",
   "metadata": {},
   "outputs": [],
   "source": [
    "# ..."
   ]
  },
  {
   "cell_type": "markdown",
   "id": "fa5dd1f7",
   "metadata": {},
   "source": [
    "---\n",
    "---\n",
    "---"
   ]
  },
  {
   "cell_type": "markdown",
   "id": "d3a565e4",
   "metadata": {},
   "source": [
    "2. Napisz funkcję, która wykorzystując `input()` pobierze od użytkownika parametry samochodu oraz zwróci słownik, który jako klucze będzie miał nazwy tych parametrów a jako wartości dane podane przez użytkownika. Przetestuj ją przechwytując zwracany słownik.\n",
    "\n",
    "---\n",
    "(czas: 12 min.)"
   ]
  },
  {
   "cell_type": "code",
   "execution_count": null,
   "id": "300147b7",
   "metadata": {},
   "outputs": [],
   "source": [
    "# ..."
   ]
  },
  {
   "cell_type": "markdown",
   "id": "12feae85",
   "metadata": {},
   "source": [
    "3. Napisz funkcję, która przyjmie jako argumenty słownik stworzony w poprzednim zadaniu oraz sesję SQLAlchemy a następnie doda ten słownik do tabeli jako nowy rekord.\n",
    "\n",
    "---\n",
    "(czas: 12 min.)"
   ]
  },
  {
   "cell_type": "code",
   "execution_count": null,
   "id": "64073d98",
   "metadata": {},
   "outputs": [],
   "source": [
    "# ..."
   ]
  },
  {
   "cell_type": "markdown",
   "id": "489378bf",
   "metadata": {},
   "source": [
    "---\n",
    "---\n",
    "---"
   ]
  },
  {
   "cell_type": "markdown",
   "id": "bd919875",
   "metadata": {},
   "source": [
    "4. Napisz funkcję, która przyjmie jako argumenty nazwę klasy oraz sesję SQLAlchemy a następnie wyciągnie z tabeli odpowiadającej tej klasie całą zawartość. Otrzymana lista obiektów powinna zostać zamieniona na listę słowników za pomocą poniższej notacji:\n",
    "\n",
    "```python\n",
    "list_of_objects[0].__dict__  # <--- zamiana obiektu na słownik\n",
    "```\n",
    "\n",
    "Zwróć otrzymaną listę słowników.\n",
    "\n",
    "---\n",
    "(czas: 8 min.)"
   ]
  },
  {
   "cell_type": "code",
   "execution_count": null,
   "id": "320b9a00",
   "metadata": {},
   "outputs": [],
   "source": [
    "# ..."
   ]
  }
 ],
 "metadata": {
  "kernelspec": {
   "display_name": "Python 3 (ipykernel)",
   "language": "python",
   "name": "python3"
  },
  "language_info": {
   "codemirror_mode": {
    "name": "ipython",
    "version": 3
   },
   "file_extension": ".py",
   "mimetype": "text/x-python",
   "name": "python",
   "nbconvert_exporter": "python",
   "pygments_lexer": "ipython3",
   "version": "3.11.5"
  },
  "toc": {
   "base_numbering": 1,
   "nav_menu": {},
   "number_sections": true,
   "sideBar": true,
   "skip_h1_title": true,
   "title_cell": "Table of Contents",
   "title_sidebar": "Contents",
   "toc_cell": false,
   "toc_position": {},
   "toc_section_display": true,
   "toc_window_display": false
  },
  "varInspector": {
   "cols": {
    "lenName": 16,
    "lenType": 16,
    "lenVar": 40
   },
   "kernels_config": {
    "python": {
     "delete_cmd_postfix": "",
     "delete_cmd_prefix": "del ",
     "library": "var_list.py",
     "varRefreshCmd": "print(var_dic_list())"
    },
    "r": {
     "delete_cmd_postfix": ") ",
     "delete_cmd_prefix": "rm(",
     "library": "var_list.r",
     "varRefreshCmd": "cat(var_dic_list()) "
    }
   },
   "types_to_exclude": [
    "module",
    "function",
    "builtin_function_or_method",
    "instance",
    "_Feature"
   ],
   "window_display": false
  }
 },
 "nbformat": 4,
 "nbformat_minor": 5
}
