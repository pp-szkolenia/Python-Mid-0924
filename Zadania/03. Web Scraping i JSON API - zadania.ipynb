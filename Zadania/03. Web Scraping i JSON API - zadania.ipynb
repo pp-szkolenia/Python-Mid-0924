{
 "cells": [
  {
   "cell_type": "markdown",
   "id": "34e97ad7",
   "metadata": {},
   "source": [
    "# Web scraping i JSON API – zadania\n",
    "\n",
    "## Web scraping\n",
    "1. Ze strony https://books.toscrape.com/ pobierz dane o książkach z kategorii \"Philosophy\", \"Music\" oraz \"Humor\". Utwórz strukturę danych wyglądającą w następujący sposób:\n",
    "\n",
    "``` json\n",
    "{\n",
    "\"Philosophy\": [{\"title\": \"Sophie's World\", \"price\": 15.94, \"rating\": 5, \"UPC\": \"6be3beb0793a53e7\"},\n",
    "                {...},\n",
    "                 ...\n",
    "                {...}\n",
    "              ],              \n",
    "\"Music\": [ ...... ],\n",
    "\"Humor\": [ ..... ]\n",
    "}\n",
    "```\n",
    "---\n",
    "(czas: 35 min.)"
   ]
  },
  {
   "cell_type": "code",
   "execution_count": null,
   "id": "069e2bce",
   "metadata": {},
   "outputs": [],
   "source": [
    "# ..."
   ]
  },
  {
   "cell_type": "markdown",
   "id": "96acdb63",
   "metadata": {},
   "source": [
    "2. Zescrapuj powyższą stronę w taki sposób, aby uzyskać słownik którego klucze to nazwy kategorii książek a wartości to średnia ocena książki w danej kategorii.\n",
    "\n",
    "Przykładowe rozwiązanie:\n",
    "\n",
    "``` json\n",
    "{\n",
    "    \"Travel\": 4.5,\n",
    "    \"Mystery\": 3.9,\n",
    "    ...\n",
    "    \"Crime\": 4.1\n",
    "\n",
    "}\n",
    "```\n",
    "\n",
    "---\n",
    "(czas: 35 min.)"
   ]
  },
  {
   "cell_type": "code",
   "execution_count": null,
   "id": "dc3c124f",
   "metadata": {},
   "outputs": [],
   "source": [
    "# ..."
   ]
  },
  {
   "cell_type": "markdown",
   "id": "998ac5c5",
   "metadata": {},
   "source": [
    "3. Napisz scraper który pobierze oferty samochodów z portalu https://www.otomoto.pl/. Pobierz dla każdego samochodu dowolne informacje jakie Cię interesują, np. cenę, markę samochodu, rodzaj paliwa itp. Wynik powinien byc listą słowników.\n",
    "\n",
    "Uwaga:\n",
    "\n",
    "przy dużej liczbie requestów w krótkim czasie Twój adres IP może zostać tymczasowo zablokowany. Warto rozważyć stopowanie kodu na ułamek sekundy co jakiś czas i oszczędne requestowanie podczas testów\n",
    "\n",
    "Przykładowy wynik:\n",
    "```json\n",
    "[\n",
    "    {\"title\": \"Używany VW Golf\", \"brand\": \"Volkswagen\", \"price\": 18000, \"fuel\": \"diesel\"},\n",
    "    ...,\n",
    "    {\"title\": \"Kia Ceed z salonu\", \"brand\": \"Kia\", \"price\": 85000, \"fuel\": \"benzyna\"}\n",
    "]\n",
    "```\n",
    "\n",
    "Zadanie składa się z dwóch części:\n",
    "\n",
    "- Napisz funkcję, która przyjmuje link do pojedynczej oferty oraz zwraca informacje o samochodzie w postaci słownika (25 minut)\n",
    "- Napisz skrypt, który (korzystając z powyższej funkcji) pobiera wyniki wyszukiwania z kilku podstron i generuje jako wynik listę słowników (25 minut)\n",
    "\n",
    "\n",
    "---\n",
    "(czas: 50 min.)"
   ]
  },
  {
   "cell_type": "code",
   "execution_count": null,
   "id": "91b97e44",
   "metadata": {},
   "outputs": [],
   "source": [
    "# ..."
   ]
  },
  {
   "cell_type": "markdown",
   "id": "9a692f0e",
   "metadata": {},
   "source": [
    "## JSON API"
   ]
  },
  {
   "cell_type": "markdown",
   "id": "0fb4daed",
   "metadata": {},
   "source": [
    "1. Pozyskaj z OpenWeatherMap prognozę pogody na 5 dni do przodu z 3 godzinną dokładnością. Następnie z pozyskanych danych wyciągnij:\n",
    "- listę timestampów (data i czas), na które prognoza została przygotowana\n",
    "- listę temperatur, ciśnień oraz prędkości wiatru jakie są przewidywane w tym czasie\n",
    "\n",
    "Możesz wykorzystać:\n",
    "- dokumentację API: https://openweathermap.org/forecast5\n",
    "- narzędzie do podglądu struktury JSONa: http://jsonviewer.stack.hu/\n",
    "- klucz API: 7d0c48134ae346811fa50cf99109251f\n",
    "\n",
    "---\n",
    "(czas: 16 min.)"
   ]
  },
  {
   "cell_type": "code",
   "execution_count": null,
   "id": "01151cff",
   "metadata": {},
   "outputs": [],
   "source": [
    "# ..."
   ]
  }
 ],
 "metadata": {
  "kernelspec": {
   "display_name": "Python 3 (ipykernel)",
   "language": "python",
   "name": "python3"
  },
  "language_info": {
   "codemirror_mode": {
    "name": "ipython",
    "version": 3
   },
   "file_extension": ".py",
   "mimetype": "text/x-python",
   "name": "python",
   "nbconvert_exporter": "python",
   "pygments_lexer": "ipython3",
   "version": "3.11.5"
  },
  "toc": {
   "base_numbering": 1,
   "nav_menu": {},
   "number_sections": true,
   "sideBar": true,
   "skip_h1_title": true,
   "title_cell": "Table of Contents",
   "title_sidebar": "Contents",
   "toc_cell": false,
   "toc_position": {},
   "toc_section_display": true,
   "toc_window_display": false
  },
  "varInspector": {
   "cols": {
    "lenName": 16,
    "lenType": 16,
    "lenVar": 40
   },
   "kernels_config": {
    "python": {
     "delete_cmd_postfix": "",
     "delete_cmd_prefix": "del ",
     "library": "var_list.py",
     "varRefreshCmd": "print(var_dic_list())"
    },
    "r": {
     "delete_cmd_postfix": ") ",
     "delete_cmd_prefix": "rm(",
     "library": "var_list.r",
     "varRefreshCmd": "cat(var_dic_list()) "
    }
   },
   "types_to_exclude": [
    "module",
    "function",
    "builtin_function_or_method",
    "instance",
    "_Feature"
   ],
   "window_display": false
  }
 },
 "nbformat": 4,
 "nbformat_minor": 5
}
