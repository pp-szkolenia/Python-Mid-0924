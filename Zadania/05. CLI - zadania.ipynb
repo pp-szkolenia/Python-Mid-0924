{
 "cells": [
  {
   "cell_type": "markdown",
   "id": "8327fefe",
   "metadata": {},
   "source": [
    "# CLI"
   ]
  },
  {
   "cell_type": "markdown",
   "id": "feb81b2f",
   "metadata": {},
   "source": [
    "1. Stwórz aplikację CLI o nazwie `quotes`, która będzie posiadała następujące komendy:\n",
    "- `random`\n",
    "- `tag`\n",
    "\n",
    "Dla komendy `random` aplikacja powinna zwracać treść losowego cytatu, natomiast dla komendy `tag` (będącej grupą) należy stworzyć 4 komendy podrzędne:\n",
    "- love\n",
    "- inspirational\n",
    "- life\n",
    "- humor\n",
    "\n",
    "z których każda będzie posiadała jeden parametr - `n`. Oznacza on ile cytatów o danym tagu ma zostać zwróconych. Wartością domyślną tego parametru powinno być 1. Jeżeli użytkownik poda większą liczbę, niż istnieje cytatów o tym tagu, wówczas należy zwrócić maksymalną możliwą liczbę cytatów.\n",
    "\n",
    "W celu generowania cytatów należy zescrapować 5 pierwszych stron.\n",
    "\n",
    "---\n",
    "(czas: 30 min.)"
   ]
  },
  {
   "cell_type": "markdown",
   "id": "7b29d736",
   "metadata": {},
   "source": [
    "<details>\n",
    "<summary style=\"color: #993333\">Podpowiedź (kliknij)</summary>\n",
    "\n",
    "1. Stwórz osobną funkcję, która będzie scrapować cytaty. Nie załączaj jej do Pipeline'u\n",
    "\n",
    "2. Komenda tag będzie wymagać stworzenia klasy, ponieważ jest grupą, ale komenda random może być obsłużona przez osobną funkcję. Załącz tę funkcję do Pipeline'u analogicznie\n",
    "\n",
    "3. Zarówno funkcja random() jak i konstruktor klasy Tag będą przyjmować jako argument zescrapowaną listę cytatów, która powinna zostać utworzona w konstruktorze klasy Pipeline\n",
    "    \n",
    "4. Do losowania możesz użyć np. funkcji choice() z biblioteki random. Uważaj na kolizję oznaczeń\n",
    "</details>"
   ]
  },
  {
   "cell_type": "code",
   "execution_count": null,
   "id": "2e84140f",
   "metadata": {},
   "outputs": [],
   "source": [
    "# ..."
   ]
  },
  {
   "cell_type": "markdown",
   "id": "d7130625",
   "metadata": {},
   "source": [
    "w plikach"
   ]
  },
  {
   "cell_type": "markdown",
   "id": "185daed1",
   "metadata": {},
   "source": [
    "2. Powyższe CLI opakuj w moduł, który można będzie zainstalować lokalnie i używać w terminalu. Moduł powinien nazywać się `quotes-generator` (instalacja) oraz być wywoływany w terminalu pod nazwą `quotes`.\n",
    "\n",
    "---\n",
    "(czas: 12 min.)"
   ]
  },
  {
   "cell_type": "markdown",
   "id": "855d3333",
   "metadata": {},
   "source": [
    "3. Stwórz bibliotekę, którą można będzie zaimportować i używać zgodnie z poniższym schematem:\n",
    "\n",
    "```python\n",
    "from quotes import Quotes\n",
    "\n",
    "quotes_generator = Quotes()\n",
    "\n",
    "quotes_generator.random()\n",
    "# \"<random quote>\"\n",
    "\n",
    "quotes_generator.tag.love(3)\n",
    "# [\"<love_quote_1>\", \"<love_quote_2>\", \"<love_quote_3>\"]\n",
    "```\n",
    "\n",
    "Nazwa biblioteki (to, co importujemy) powinna odpowiadać nazwie folderu, który znajduje się w paczce.\n",
    "\n",
    "---\n",
    "(czas: 18 min.)"
   ]
  },
  {
   "cell_type": "markdown",
   "id": "ecf73216",
   "metadata": {},
   "source": [
    "<details>\n",
    "<summary style=\"color: #993333\">Podpowiedź (kliknij)</summary>\n",
    "Logika poszczególnych funkcji i klas pozostaje ta sama, ale niezbędne będzie przeorganizowanie kodu. Utwórz klasę Quotes, która będzie posiadała metodę random(). Oprócz tego, w konstruktorze klasy Quotes stwórz atrybut tag, do którego przypiszesz instancję klasy Tag\n",
    "</details>"
   ]
  }
 ],
 "metadata": {
  "kernelspec": {
   "display_name": "Python 3 (ipykernel)",
   "language": "python",
   "name": "python3"
  },
  "language_info": {
   "codemirror_mode": {
    "name": "ipython",
    "version": 3
   },
   "file_extension": ".py",
   "mimetype": "text/x-python",
   "name": "python",
   "nbconvert_exporter": "python",
   "pygments_lexer": "ipython3",
   "version": "3.11.5"
  },
  "toc": {
   "base_numbering": 1,
   "nav_menu": {},
   "number_sections": true,
   "sideBar": true,
   "skip_h1_title": true,
   "title_cell": "Table of Contents",
   "title_sidebar": "Contents",
   "toc_cell": false,
   "toc_position": {},
   "toc_section_display": true,
   "toc_window_display": false
  },
  "varInspector": {
   "cols": {
    "lenName": 16,
    "lenType": 16,
    "lenVar": 40
   },
   "kernels_config": {
    "python": {
     "delete_cmd_postfix": "",
     "delete_cmd_prefix": "del ",
     "library": "var_list.py",
     "varRefreshCmd": "print(var_dic_list())"
    },
    "r": {
     "delete_cmd_postfix": ") ",
     "delete_cmd_prefix": "rm(",
     "library": "var_list.r",
     "varRefreshCmd": "cat(var_dic_list()) "
    }
   },
   "types_to_exclude": [
    "module",
    "function",
    "builtin_function_or_method",
    "instance",
    "_Feature"
   ],
   "window_display": false
  }
 },
 "nbformat": 4,
 "nbformat_minor": 5
}
