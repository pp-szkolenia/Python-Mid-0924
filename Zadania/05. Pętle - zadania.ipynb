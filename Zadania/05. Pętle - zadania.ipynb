{
 "cells": [
  {
   "cell_type": "markdown",
   "id": "76e9a75f",
   "metadata": {},
   "source": [
    "# 5. Pętle\n",
    "## Pętla `for`"
   ]
  },
  {
   "cell_type": "markdown",
   "id": "b6c9c198",
   "metadata": {},
   "source": [
    "1. Pobierz od użytkownika liczbę składającą się z kilku cyfr. Funkcja `input()` zwróci obiekt typu `str`. Przeiteruj po nim i wypisz na ekranie każdy element wraz z informacją czy liczba jest parzysta, czy też nie. \n",
    "---\n",
    "Przykład:\n",
    "\n",
    "5678\n",
    "\n",
    "Liczba 5 - nieparzysta\n",
    "\n",
    "Liczba 6 - parzysta\n",
    "\n",
    "Liczba 7 - nieparzysta\n",
    "\n",
    "Liczba 8 - parzysta\n",
    "\n",
    "---\n",
    "Podpowiedź: do oceny parzystości użyj operatora dzielenia z resztą\n",
    "\n",
    "(czas: 7 min.)"
   ]
  },
  {
   "cell_type": "code",
   "execution_count": null,
   "id": "4ace1eca",
   "metadata": {
    "scrolled": true
   },
   "outputs": [],
   "source": [
    "# ..."
   ]
  },
  {
   "cell_type": "markdown",
   "id": "843f71bc",
   "metadata": {},
   "source": [
    "2. Stwórz słownik reprezentujący zadanie, który będzie posiadał kilka kluczy, m.in. `priority`. Następnie stwórz listę kilku innych, podobnych zadań.\n",
    "\n",
    "Przeiteruj po tej liście i dla każdego jej elementu wyświetl informację, czy priorytet danego zadania jest większy, mniejszy, czy równy temu, który jest w pierwszym utworzonym zadaniu. Możesz odnieść się do opisów poszczególnych zadań lub wprowadzić klucz \"id\", który będzie identyfikatorem zadania.\n",
    "\n",
    "---\n",
    "\n",
    "(czas: 12 min.)"
   ]
  },
  {
   "cell_type": "code",
   "execution_count": null,
   "id": "062792ab",
   "metadata": {},
   "outputs": [],
   "source": [
    "# ..."
   ]
  },
  {
   "cell_type": "markdown",
   "id": "e39ad324",
   "metadata": {},
   "source": [
    "## Pętla `while` oraz instrukcje `continue` i `break`"
   ]
  },
  {
   "cell_type": "markdown",
   "id": "f1a6b846",
   "metadata": {},
   "source": [
    "1. Napisz pętlę while, ktora wykona sie 10 razy. Wprowadź w tym celu zmienną, której wartość będzie inkrementowana co iterację. Policz w każdej iteracji i wyprintuj drugą potęgę tej zmiennej.\n",
    "\n",
    "---\n",
    "(czas: 5 min.)"
   ]
  },
  {
   "cell_type": "code",
   "execution_count": null,
   "id": "b04bb865",
   "metadata": {},
   "outputs": [],
   "source": [
    "# ..."
   ]
  },
  {
   "cell_type": "markdown",
   "id": "18ce1d11",
   "metadata": {},
   "source": [
    "2. Powtórz zadanie 1. z zadań o pętli `for` (poprzednia sekcja), ale jeśli pętla trafi na liczbę parzystą to niech ta iteracja zostanie pominięta a jeśli liczbą tą będzie 0 to wyjdź z pętli\n",
    "\n",
    "---\n",
    "(czas: 7 min.)"
   ]
  },
  {
   "cell_type": "code",
   "execution_count": null,
   "id": "3619966c",
   "metadata": {},
   "outputs": [],
   "source": [
    "# ..."
   ]
  },
  {
   "cell_type": "markdown",
   "id": "dfa67751",
   "metadata": {},
   "source": [
    "## Zagnieżdżone pętle, `zip` i `enumerate`"
   ]
  },
  {
   "cell_type": "markdown",
   "id": "3d0c85cd",
   "metadata": {},
   "source": [
    "1. Stwórz listę zadań (słowników), o strukturze takiej jak w poniższym przykładzie.Każde zadanie niech posiada listę komentarzy. Następnie przeiteruj po liście zadań i w ramach każdego z nich przeiteruj po wszystkich komentarzach. Wewnątrz pętli dodaj printy tak, żeby dla poniższej listy:\n",
    "\n",
    "```python\n",
    "tasks = [\n",
    " {\"description\": \"Learn Python\", \"comments\": [\"Good luck!\", \"Don't forget\"]},\n",
    " {\"description\": \"Finish my work\", \"comments\": [\"Finally\", \"Do it today\"]}\n",
    "]\n",
    "```\n",
    "\n",
    "kod printował następujący tekst:\n",
    "\n",
    "```\n",
    "Task: Learn Python\n",
    "Comment: Good luck!\n",
    "Comment: Don't forget\n",
    "\n",
    "Task: Finish my work\n",
    "Comment: Finally\n",
    "Comment: Do it today\n",
    "```\n",
    "\n",
    "---\n",
    "\n",
    "(czas: 9 min.)"
   ]
  },
  {
   "cell_type": "code",
   "execution_count": 8,
   "id": "c10fbfb6",
   "metadata": {},
   "outputs": [],
   "source": [
    "tasks = [\n",
    " {\"description\": \"Learn Python\", \"comments\": [\"Good luck!\", \"Don't forget\"]},\n",
    " {\"description\": \"Finish my work\", \"comments\": [\"Finally\", \"Do it today\"]}\n",
    "]"
   ]
  },
  {
   "cell_type": "code",
   "execution_count": 10,
   "id": "569a55f6-c292-44ce-9f0f-508bf6ddfd57",
   "metadata": {},
   "outputs": [
    {
     "name": "stdout",
     "output_type": "stream",
     "text": [
      "Task: Learn Python\n",
      "Comment: Good luck!\n",
      "Comment: Don't forget\n",
      "\n",
      "\n",
      "Task: Finish my work\n",
      "Comment: Finally\n",
      "Comment: Do it today\n",
      "\n",
      "\n"
     ]
    }
   ],
   "source": [
    "for task in tasks:\n",
    "    print(\"Task:\", task[\"description\"])\n",
    "    for comment in task[\"comments\"]:\n",
    "        print(\"Comment:\", comment)\n",
    "    print(\"\\n\")"
   ]
  },
  {
   "cell_type": "markdown",
   "id": "b79eccf0",
   "metadata": {},
   "source": [
    "2. Stwórz listę tekstów komentarzy, które mogłyby znaleźć się pod pewnym zadaniem oraz listę autorów tych komentarzy. Obie listy powinny mieć tyle samo elementów. Następnie zanicjuj pustą listę komentarzy, którą później wypełnisz. Każdy komentarz ma następującą strukturę:\n",
    "\n",
    "```python\n",
    "{\"text\": \"...\", \"author\": \"...\"}\n",
    "```\n",
    "\n",
    "Napisz pętlę, która przeiteruje **jednocześnie** po obu utworzonych (niepustych) listach. W każdej iteracji utwórz słownik reprezentujący komentarz, który będzie posiadał informację zarówno o tekście jak i o autorze. Słownik ten powinien zostać dodany do wcześniej zainicjowanej listy komentarzy.\n",
    "\n",
    "---\n",
    "\n",
    "(czas: 11 min.)"
   ]
  },
  {
   "cell_type": "code",
   "execution_count": 11,
   "id": "49f6e191",
   "metadata": {},
   "outputs": [
    {
     "data": {
      "text/plain": [
       "[{'text': 'Comment 1', 'author': 'Author 1'},\n",
       " {'text': 'Comment 2', 'author': 'Author 2'},\n",
       " {'text': 'Comment 3', 'author': 'Author 3'}]"
      ]
     },
     "execution_count": 11,
     "metadata": {},
     "output_type": "execute_result"
    }
   ],
   "source": [
    "comments_texts = [\"Comment 1\", \"Comment 2\", \"Comment 3\"]\n",
    "comments_authors = [\"Author 1\", \"Author 2\", \"Author 3\"]\n",
    "\n",
    "comments = []\n",
    "\n",
    "for text, author in zip(comments_texts, comments_authors):\n",
    "    comment = {\"text\": text, \"author\": author}\n",
    "    comments.append(comment)\n",
    "\n",
    "comments"
   ]
  },
  {
   "cell_type": "code",
   "execution_count": 14,
   "id": "756dfd6e-92d5-47d4-9cbc-030f520a8b5f",
   "metadata": {},
   "outputs": [
    {
     "data": {
      "text/plain": [
       "[{'text': 'Comment 1', 'author': 'Author 1'},\n",
       " {'text': 'Comment 2', 'author': 'Author 2'},\n",
       " {'text': 'Comment 3', 'author': 'Author 3'}]"
      ]
     },
     "execution_count": 14,
     "metadata": {},
     "output_type": "execute_result"
    }
   ],
   "source": [
    "[{\"text\": text, \"author\": author}\n",
    " for text, author in zip(comments_texts, comments_authors)]"
   ]
  },
  {
   "cell_type": "code",
   "execution_count": null,
   "id": "1e18b06d-8802-4d11-8476-6987c9a66109",
   "metadata": {},
   "outputs": [],
   "source": []
  },
  {
   "cell_type": "markdown",
   "id": "00360832",
   "metadata": {},
   "source": [
    "3. Przeiteruj po liście tekstów komentarzy z poprzedniego zadania. W każdej iteracji wyprintuj tekst komentarza oraz jego pozycję na liście. Całość tej informacji powinna być jednym zdaniem, stworzonym z wykorzystaniem f-stringa.\n",
    "\n",
    "---\n",
    "(czas: 6 min.)"
   ]
  },
  {
   "cell_type": "code",
   "execution_count": 19,
   "id": "1156a588",
   "metadata": {},
   "outputs": [
    {
     "name": "stdout",
     "output_type": "stream",
     "text": [
      "Komentarz nr 1: Comment 1\n",
      "Komentarz nr 2: Comment 2\n",
      "Komentarz nr 3: Comment 3\n"
     ]
    }
   ],
   "source": [
    "for t, text in enumerate(comments_texts, start=1):\n",
    "    print(f\"Komentarz nr {t}: {text}\")"
   ]
  },
  {
   "cell_type": "markdown",
   "id": "aab30146",
   "metadata": {},
   "source": [
    "## `list comprehension`"
   ]
  },
  {
   "cell_type": "markdown",
   "id": "558a3a9c",
   "metadata": {},
   "source": [
    "1. Stwórz listę liczb całkowitych o wartościach od 2 do 30 (nie rób tego ręcznie). Następnie napisz *list comprehension*, którego rezultatem będzie lista przemnożonych przez 3 elementów wyjściowej listy.\n",
    "\n",
    "---\n",
    "(czas: 5 min.)"
   ]
  },
  {
   "cell_type": "code",
   "execution_count": 3,
   "id": "8dc97ee5",
   "metadata": {
    "scrolled": true
   },
   "outputs": [
    {
     "data": {
      "text/plain": [
       "[3,\n",
       " 6,\n",
       " 9,\n",
       " 12,\n",
       " 15,\n",
       " 18,\n",
       " 21,\n",
       " 24,\n",
       " 27,\n",
       " 30,\n",
       " 33,\n",
       " 36,\n",
       " 39,\n",
       " 42,\n",
       " 45,\n",
       " 48,\n",
       " 51,\n",
       " 54,\n",
       " 57,\n",
       " 60,\n",
       " 63,\n",
       " 66,\n",
       " 69,\n",
       " 72,\n",
       " 75,\n",
       " 78,\n",
       " 81,\n",
       " 84,\n",
       " 87,\n",
       " 90]"
      ]
     },
     "execution_count": 3,
     "metadata": {},
     "output_type": "execute_result"
    }
   ],
   "source": [
    "[item*3 for item in list(range(1, 31))]"
   ]
  },
  {
   "cell_type": "markdown",
   "id": "be2f747d",
   "metadata": {},
   "source": [
    "2. Do wyniku z poprzedniego zadania dodaj modyfikację – niech mnożone przez 3 będą tylko te elementy, które dzielą się bez reszty przez 4.\n",
    "\n",
    "---\n",
    "(czas: 2 min.)"
   ]
  },
  {
   "cell_type": "code",
   "execution_count": 4,
   "id": "424868b6",
   "metadata": {},
   "outputs": [
    {
     "data": {
      "text/plain": [
       "[12, 24, 36, 48, 60, 72, 84]"
      ]
     },
     "execution_count": 4,
     "metadata": {},
     "output_type": "execute_result"
    }
   ],
   "source": [
    "[item*3 for item in list(range(1, 31)) if item % 4 == 0]"
   ]
  },
  {
   "cell_type": "markdown",
   "id": "c8905c35",
   "metadata": {},
   "source": [
    "3. Stwórz listę list, która będzie przechowywać komentarze do poszczególnych zadań. Na jej podstawie wygeneruj listę intów, która zawiera informację o tym, ile komentarzy mają poszczególne zadania. Wykorzystaj *list comprehension*.\n",
    "\n",
    "---\n",
    "\n",
    "Przykład:\n",
    "```python\n",
    "# input:\n",
    "[[\"Comment_1_1\", \"Comment_1_2\"],\n",
    " [\"Comment_2_1\"],\n",
    " [\"Comment_3_1\", \"Comment_3_2\", \"Comment_3_3\"]]\n",
    "\n",
    "# output:\n",
    "[2, 1, 3]\n",
    "```\n",
    "---\n",
    "(czas: 5 min.)"
   ]
  },
  {
   "cell_type": "code",
   "execution_count": 5,
   "id": "92b42965",
   "metadata": {},
   "outputs": [],
   "source": [
    "data = [[\"Comment_1_1\", \"Comment_1_2\"],\n",
    " [\"Comment_2_1\"],\n",
    " [\"Comment_3_1\", \"Comment_3_2\", \"Comment_3_3\"]]"
   ]
  },
  {
   "cell_type": "code",
   "execution_count": 6,
   "id": "d53ee060-5220-4dd4-9d0a-8181da79cf7a",
   "metadata": {},
   "outputs": [
    {
     "data": {
      "text/plain": [
       "[2, 1, 3]"
      ]
     },
     "execution_count": 6,
     "metadata": {},
     "output_type": "execute_result"
    }
   ],
   "source": [
    "[len(item) for item in data]"
   ]
  },
  {
   "cell_type": "code",
   "execution_count": 7,
   "id": "f00ed77b-55c8-40e7-8272-4ceb2e4402b9",
   "metadata": {},
   "outputs": [
    {
     "data": {
      "text/plain": [
       "[2, 1, 3]"
      ]
     },
     "execution_count": 7,
     "metadata": {},
     "output_type": "execute_result"
    }
   ],
   "source": [
    "list(map(len, data))"
   ]
  },
  {
   "cell_type": "markdown",
   "id": "8110d70b",
   "metadata": {},
   "source": [
    "## Iterowanie po zagnieżdżonych strukturach"
   ]
  },
  {
   "cell_type": "markdown",
   "id": "6eae420b",
   "metadata": {},
   "source": [
    "1. W pliku `nested.json` znajduje się struktura danych, która zawiera informacje o prognozie pogody. Skopiuj jego zawartość do odpowiedniego narzędzia (np. http://jsonviewer.stack.hu/), które ułatwi zrozumienie struktury JSONa. Prześledź kolejne poziomy zagnieżdżenia. Następnie zapisz dane do zmiennej i przeiteruj po niej wyciągając wartości prognozowanych temperatur (`temp`) oraz oznaczenia czasu (`dt_txt`) do osobnych zmiennych (list).\n",
    "\n",
    "---\n",
    "(czas: 12 min.)"
   ]
  },
  {
   "cell_type": "code",
   "execution_count": null,
   "id": "b4fbc356-ce5b-4bb7-a44a-c3110d7019c4",
   "metadata": {},
   "outputs": [],
   "source": [
    "[\"...\", \"...\", \"...\"]\n",
    "\n",
    "[12, 41, 12, 13]"
   ]
  },
  {
   "cell_type": "code",
   "execution_count": 20,
   "id": "1c0d8029",
   "metadata": {},
   "outputs": [],
   "source": [
    "import json"
   ]
  },
  {
   "cell_type": "code",
   "execution_count": 21,
   "id": "b503109d-0829-469e-89c9-1d8e10ddab06",
   "metadata": {},
   "outputs": [],
   "source": [
    "with open(\"nested.json\", \"r\") as f:\n",
    "    data = json.load(f)"
   ]
  },
  {
   "cell_type": "code",
   "execution_count": 31,
   "id": "09d49f48-ec92-49a0-ba70-788fe6454596",
   "metadata": {},
   "outputs": [
    {
     "data": {
      "text/plain": [
       "[1, 2, 3]"
      ]
     },
     "execution_count": 31,
     "metadata": {},
     "output_type": "execute_result"
    }
   ],
   "source": [
    "my_list = [1, 2, 3]\n",
    "my_list"
   ]
  },
  {
   "cell_type": "code",
   "execution_count": 32,
   "id": "81648d65-a224-492f-b28c-04b3100649a5",
   "metadata": {},
   "outputs": [],
   "source": [
    "my_list.append(4)"
   ]
  },
  {
   "cell_type": "code",
   "execution_count": 34,
   "id": "b579bd0d-9e58-4a19-9947-393680dda05c",
   "metadata": {},
   "outputs": [
    {
     "data": {
      "text/plain": [
       "(1, 2, 3)"
      ]
     },
     "execution_count": 34,
     "metadata": {},
     "output_type": "execute_result"
    }
   ],
   "source": [
    "my_tuple = (1, 2, 3)\n",
    "my_tuple"
   ]
  },
  {
   "cell_type": "code",
   "execution_count": 36,
   "id": "28bc9b4f-e0f2-4c3a-a0cf-35d5162e5003",
   "metadata": {},
   "outputs": [
    {
     "ename": "AttributeError",
     "evalue": "'tuple' object has no attribute 'append'",
     "output_type": "error",
     "traceback": [
      "\u001b[0;31m---------------------------------------------------------------------------\u001b[0m",
      "\u001b[0;31mAttributeError\u001b[0m                            Traceback (most recent call last)",
      "Cell \u001b[0;32mIn[36], line 1\u001b[0m\n\u001b[0;32m----> 1\u001b[0m my_tuple\u001b[38;5;241m.\u001b[39mappend(\u001b[38;5;241m4\u001b[39m)\n",
      "\u001b[0;31mAttributeError\u001b[0m: 'tuple' object has no attribute 'append'"
     ]
    }
   ],
   "source": [
    "my_tuple.append(4)"
   ]
  },
  {
   "cell_type": "code",
   "execution_count": 39,
   "id": "b3bc8200-9626-469b-b92e-82f6f69a1820",
   "metadata": {},
   "outputs": [
    {
     "data": {
      "text/plain": [
       "1"
      ]
     },
     "execution_count": 39,
     "metadata": {},
     "output_type": "execute_result"
    }
   ],
   "source": [
    "(1)"
   ]
  },
  {
   "cell_type": "code",
   "execution_count": 40,
   "id": "b19f1ae9-427e-4856-9971-d231bba80f0b",
   "metadata": {},
   "outputs": [],
   "source": [
    "temperatures = [item[\"main\"][\"temp\"] for item in data[\"list\"]]\n",
    "timestamps = [item[\"dt_txt\"] for item in data[\"list\"]]"
   ]
  },
  {
   "cell_type": "code",
   "execution_count": 41,
   "id": "348a2ff6-0d0c-41fc-aaa8-ce250f049312",
   "metadata": {},
   "outputs": [
    {
     "data": {
      "text/plain": [
       "['2022-11-11 12:00:00',\n",
       " '2022-11-11 15:00:00',\n",
       " '2022-11-11 18:00:00',\n",
       " '2022-11-11 21:00:00',\n",
       " '2022-11-12 00:00:00',\n",
       " '2022-11-12 03:00:00',\n",
       " '2022-11-12 06:00:00']"
      ]
     },
     "execution_count": 41,
     "metadata": {},
     "output_type": "execute_result"
    }
   ],
   "source": [
    "timestamps"
   ]
  },
  {
   "cell_type": "code",
   "execution_count": 25,
   "id": "c6dbbe55-c4f5-4309-b44b-e56e5f0cfb0d",
   "metadata": {},
   "outputs": [
    {
     "data": {
      "text/plain": [
       "([12.16, 11.55, 9.9, 8.36, 7.78, 7.31, 6.79],\n",
       " ['2022-11-11 12:00:00',\n",
       "  '2022-11-11 15:00:00',\n",
       "  '2022-11-11 18:00:00',\n",
       "  '2022-11-11 21:00:00',\n",
       "  '2022-11-12 00:00:00',\n",
       "  '2022-11-12 03:00:00',\n",
       "  '2022-11-12 06:00:00'])"
      ]
     },
     "execution_count": 25,
     "metadata": {},
     "output_type": "execute_result"
    }
   ],
   "source": [
    "temperatures = []\n",
    "timestamps = []\n",
    "\n",
    "for item in data[\"list\"]:\n",
    "    temperatures.append(item[\"main\"][\"temp\"])\n",
    "    timestamps.append(item[\"dt_txt\"])\n",
    "\n",
    "\n",
    "temperatures, timestamps"
   ]
  },
  {
   "cell_type": "code",
   "execution_count": 22,
   "id": "410c2f09-cbd5-4f32-8711-143f5d8f42fe",
   "metadata": {},
   "outputs": [
    {
     "data": {
      "text/plain": [
       "{'cod': '200',\n",
       " 'message': 0,\n",
       " 'cnt': 40,\n",
       " 'list': [{'dt': 1668168000,\n",
       "   'main': {'temp': 12.16,\n",
       "    'feels_like': 11.31,\n",
       "    'temp_min': 12.16,\n",
       "    'temp_max': 13.03,\n",
       "    'pressure': 1031,\n",
       "    'sea_level': 1031,\n",
       "    'grnd_level': 1005,\n",
       "    'humidity': 72,\n",
       "    'temp_kf': -0.87},\n",
       "   'weather': [{'id': 800,\n",
       "     'main': 'Clear',\n",
       "     'description': 'clear sky',\n",
       "     'icon': '01d'}],\n",
       "   'clouds': {'all': 0},\n",
       "   'wind': {'speed': 4.1, 'deg': 262, 'gust': 6.55},\n",
       "   'visibility': 10000,\n",
       "   'pop': 0,\n",
       "   'sys': {'pod': 'd'},\n",
       "   'dt_txt': '2022-11-11 12:00:00'},\n",
       "  {'dt': 1668178800,\n",
       "   'main': {'temp': 11.55,\n",
       "    'feels_like': 10.61,\n",
       "    'temp_min': 10.34,\n",
       "    'temp_max': 11.55,\n",
       "    'pressure': 1031,\n",
       "    'sea_level': 1031,\n",
       "    'grnd_level': 1005,\n",
       "    'humidity': 71,\n",
       "    'temp_kf': 1.21},\n",
       "   'weather': [{'id': 802,\n",
       "     'main': 'Clouds',\n",
       "     'description': 'scattered clouds',\n",
       "     'icon': '03d'}],\n",
       "   'clouds': {'all': 33},\n",
       "   'wind': {'speed': 3.02, 'deg': 261, 'gust': 5.77},\n",
       "   'visibility': 10000,\n",
       "   'pop': 0,\n",
       "   'sys': {'pod': 'd'},\n",
       "   'dt_txt': '2022-11-11 15:00:00'},\n",
       "  {'dt': 1668189600,\n",
       "   'main': {'temp': 9.9,\n",
       "    'feels_like': 8.22,\n",
       "    'temp_min': 8.77,\n",
       "    'temp_max': 9.9,\n",
       "    'pressure': 1032,\n",
       "    'sea_level': 1032,\n",
       "    'grnd_level': 1005,\n",
       "    'humidity': 76,\n",
       "    'temp_kf': 1.13},\n",
       "   'weather': [{'id': 803,\n",
       "     'main': 'Clouds',\n",
       "     'description': 'broken clouds',\n",
       "     'icon': '04n'}],\n",
       "   'clouds': {'all': 67},\n",
       "   'wind': {'speed': 3.31, 'deg': 255, 'gust': 6.83},\n",
       "   'visibility': 10000,\n",
       "   'pop': 0,\n",
       "   'sys': {'pod': 'n'},\n",
       "   'dt_txt': '2022-11-11 18:00:00'},\n",
       "  {'dt': 1668200400,\n",
       "   'main': {'temp': 8.36,\n",
       "    'feels_like': 6.45,\n",
       "    'temp_min': 8.36,\n",
       "    'temp_max': 8.36,\n",
       "    'pressure': 1033,\n",
       "    'sea_level': 1033,\n",
       "    'grnd_level': 1006,\n",
       "    'humidity': 77,\n",
       "    'temp_kf': 0},\n",
       "   'weather': [{'id': 804,\n",
       "     'main': 'Clouds',\n",
       "     'description': 'overcast clouds',\n",
       "     'icon': '04n'}],\n",
       "   'clouds': {'all': 100},\n",
       "   'wind': {'speed': 3.15, 'deg': 258, 'gust': 5.86},\n",
       "   'visibility': 10000,\n",
       "   'pop': 0,\n",
       "   'sys': {'pod': 'n'},\n",
       "   'dt_txt': '2022-11-11 21:00:00'},\n",
       "  {'dt': 1668211200,\n",
       "   'main': {'temp': 7.78,\n",
       "    'feels_like': 6.02,\n",
       "    'temp_min': 7.78,\n",
       "    'temp_max': 7.78,\n",
       "    'pressure': 1033,\n",
       "    'sea_level': 1033,\n",
       "    'grnd_level': 1006,\n",
       "    'humidity': 77,\n",
       "    'temp_kf': 0},\n",
       "   'weather': [{'id': 804,\n",
       "     'main': 'Clouds',\n",
       "     'description': 'overcast clouds',\n",
       "     'icon': '04n'}],\n",
       "   'clouds': {'all': 100},\n",
       "   'wind': {'speed': 2.74, 'deg': 262, 'gust': 4.59},\n",
       "   'visibility': 10000,\n",
       "   'pop': 0,\n",
       "   'sys': {'pod': 'n'},\n",
       "   'dt_txt': '2022-11-12 00:00:00'},\n",
       "  {'dt': 1668222000,\n",
       "   'main': {'temp': 7.31,\n",
       "    'feels_like': 5.55,\n",
       "    'temp_min': 7.31,\n",
       "    'temp_max': 7.31,\n",
       "    'pressure': 1033,\n",
       "    'sea_level': 1033,\n",
       "    'grnd_level': 1006,\n",
       "    'humidity': 77,\n",
       "    'temp_kf': 0},\n",
       "   'weather': [{'id': 804,\n",
       "     'main': 'Clouds',\n",
       "     'description': 'overcast clouds',\n",
       "     'icon': '04n'}],\n",
       "   'clouds': {'all': 100},\n",
       "   'wind': {'speed': 2.61, 'deg': 261, 'gust': 3.57},\n",
       "   'visibility': 10000,\n",
       "   'pop': 0,\n",
       "   'sys': {'pod': 'n'},\n",
       "   'dt_txt': '2022-11-12 03:00:00'},\n",
       "  {'dt': 1668232800,\n",
       "   'main': {'temp': 6.79,\n",
       "    'feels_like': 5.14,\n",
       "    'temp_min': 6.79,\n",
       "    'temp_max': 6.79,\n",
       "    'pressure': 1033,\n",
       "    'sea_level': 1033,\n",
       "    'grnd_level': 1006,\n",
       "    'humidity': 77,\n",
       "    'temp_kf': 0},\n",
       "   'weather': [{'id': 804,\n",
       "     'main': 'Clouds',\n",
       "     'description': 'overcast clouds',\n",
       "     'icon': '04d'}],\n",
       "   'clouds': {'all': 100},\n",
       "   'wind': {'speed': 2.35, 'deg': 262, 'gust': 2.46},\n",
       "   'visibility': 10000,\n",
       "   'pop': 0,\n",
       "   'sys': {'pod': 'd'},\n",
       "   'dt_txt': '2022-11-12 06:00:00'}],\n",
       " 'city': {'id': 3094802,\n",
       "  'name': 'Krakow',\n",
       "  'coord': {'lat': 50.0833, 'lon': 19.9167},\n",
       "  'country': 'PL',\n",
       "  'population': 755050,\n",
       "  'timezone': 3600,\n",
       "  'sunrise': 1668145590,\n",
       "  'sunset': 1668178938}}"
      ]
     },
     "execution_count": 22,
     "metadata": {},
     "output_type": "execute_result"
    }
   ],
   "source": [
    "data"
   ]
  }
 ],
 "metadata": {
  "kernelspec": {
   "display_name": "Python 3 (ipykernel)",
   "language": "python",
   "name": "python3"
  },
  "language_info": {
   "codemirror_mode": {
    "name": "ipython",
    "version": 3
   },
   "file_extension": ".py",
   "mimetype": "text/x-python",
   "name": "python",
   "nbconvert_exporter": "python",
   "pygments_lexer": "ipython3",
   "version": "3.11.5"
  },
  "toc": {
   "base_numbering": 1,
   "nav_menu": {},
   "number_sections": true,
   "sideBar": true,
   "skip_h1_title": true,
   "title_cell": "Table of Contents",
   "title_sidebar": "Contents",
   "toc_cell": false,
   "toc_position": {},
   "toc_section_display": true,
   "toc_window_display": false
  },
  "varInspector": {
   "cols": {
    "lenName": 16,
    "lenType": 16,
    "lenVar": 40
   },
   "kernels_config": {
    "python": {
     "delete_cmd_postfix": "",
     "delete_cmd_prefix": "del ",
     "library": "var_list.py",
     "varRefreshCmd": "print(var_dic_list())"
    },
    "r": {
     "delete_cmd_postfix": ") ",
     "delete_cmd_prefix": "rm(",
     "library": "var_list.r",
     "varRefreshCmd": "cat(var_dic_list()) "
    }
   },
   "types_to_exclude": [
    "module",
    "function",
    "builtin_function_or_method",
    "instance",
    "_Feature"
   ],
   "window_display": false
  }
 },
 "nbformat": 4,
 "nbformat_minor": 5
}
