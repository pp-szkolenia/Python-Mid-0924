{
 "cells": [
  {
   "cell_type": "markdown",
   "id": "bc8a551f",
   "metadata": {},
   "source": [
    "# 6. Funkcje\n",
    "## Funkcje, parametry, `return`"
   ]
  },
  {
   "cell_type": "markdown",
   "id": "84fbac88",
   "metadata": {},
   "source": [
    "1. Zaimplementuj funkcjonalność funkcji `len()` w stworzonej przez siebie funkcji `my_len()`.\n",
    "\n",
    "---\n",
    "(czas: 5 min.)"
   ]
  },
  {
   "cell_type": "code",
   "execution_count": null,
   "id": "1d068b39",
   "metadata": {},
   "outputs": [],
   "source": [
    "# ..."
   ]
  },
  {
   "cell_type": "markdown",
   "id": "9400edd0",
   "metadata": {},
   "source": [
    "2. Napisz funkcję `mark_task_as_complete()`, która przyjmie jako argument słownik reprezentujący zadanie. Niech ten słownik posiada m.in. klucz `\"is_complete\"`, pod którym znajdzie się wartość logiczna. Funkcja powinna:\n",
    "- sprawdzić, czy zadanie jest już ukończone\n",
    "- oznaczyć je jako gotowe, jeżeli jeszcze nie jest\n",
    "- zwrócić słownik\n",
    "\n",
    "---\n",
    "(czas: 6 min.)"
   ]
  },
  {
   "cell_type": "code",
   "execution_count": null,
   "id": "d7324c0d",
   "metadata": {},
   "outputs": [],
   "source": [
    "# ..."
   ]
  },
  {
   "cell_type": "markdown",
   "id": "f58958c1",
   "metadata": {},
   "source": [
    "3. Do słownika z poprzedniego zadania dodaj klucz `\"comments\"`, pod którym znajdzie się lista komentarzy (może być pusta). Następnie napisz funkcję `add_comment()`, która przyjmie jako argumenty zadanie oraz komentarz i doda ten komentarz do listy pod kluczem `\"comments\"` a następnie zwróci zadanie.\n",
    "\n",
    "Komentarz powinien być słownikiem o kluczach `\"author\"` oraz `\"text\"`.\n",
    "\n",
    "---\n",
    "(czas: 8 min.)"
   ]
  },
  {
   "cell_type": "code",
   "execution_count": null,
   "id": "2d9ef79d",
   "metadata": {},
   "outputs": [],
   "source": [
    "# ..."
   ]
  },
  {
   "cell_type": "markdown",
   "id": "ecfb4003",
   "metadata": {},
   "source": [
    "4. Do poprzedniego zadania dodaj mechanizm walidacji. Będzie on polegał na tym, że zanim dodasz komentarz do listy, przekażesz go do nowej funkcji o nazwie `validate_comment()`. Funkcja ta powinna zostać wywołana wewnątrz `add_comment()` i ma sprawdzić, czy komentarz:\n",
    "- jest słownikiem\n",
    "- posiada odpowiednie klucze\n",
    "- pod każdym kluczem znajduje się obiekt typu `str`\n",
    "\n",
    "W zależności od tego, czy walidacja przebiegła poprawnie, funkcja ta powinna zwrócić odpowiednia wartość logiczną. Zmodyfikuj działanie funkcji z poprzedniego zadania tak, żeby komentarz został dodany wyłącznie po poprawnej walidacji.\n",
    "\n",
    "---\n",
    "(czas: 12 min.)"
   ]
  },
  {
   "cell_type": "code",
   "execution_count": null,
   "id": "60dbe016",
   "metadata": {},
   "outputs": [],
   "source": [
    "# ..."
   ]
  },
  {
   "cell_type": "markdown",
   "id": "51f669bf",
   "metadata": {},
   "source": [
    "## `map`, `filter` i `lambda`"
   ]
  },
  {
   "cell_type": "markdown",
   "id": "06e01534",
   "metadata": {},
   "source": [
    "1. Stwórz listę userów (słowników), którzy pod odpowiednim kluczem będą posiadać informację o liczbie przypisanych im zadań. Następnie przefiltruj tę listę zostawiając w niej wyłącznie tych userów, którzy mają przypisane więcej niż jedno zadanie.\n",
    "\n",
    "Możesz użyć listy z poniższego przykładu.\n",
    "\n",
    "Przykład:\n",
    "```python\n",
    "users = [{\"username\": \"Andrzej\", \"assigned_tasks\": 2}, {\"username\": \"Andżela\", \"assigned_tasks\": 1}]\n",
    "\n",
    "result = [{\"username\": \"Andrzej\", \"assigned_tasks\": 2}]\n",
    "```\n",
    "\n",
    "---\n",
    "(czas: 6 min.)"
   ]
  },
  {
   "cell_type": "code",
   "execution_count": 1,
   "id": "b0d0f4d9",
   "metadata": {},
   "outputs": [
    {
     "data": {
      "text/plain": [
       "[{'username': 'Andrzej', 'assigned_tasks': 2},\n",
       " {'username': 'Andżela', 'assigned_tasks': 1}]"
      ]
     },
     "execution_count": 1,
     "metadata": {},
     "output_type": "execute_result"
    }
   ],
   "source": [
    "users = users = [{\"username\": \"Andrzej\", \"assigned_tasks\": 2}, {\"username\": \"Andżela\", \"assigned_tasks\": 1}]\n",
    "users"
   ]
  },
  {
   "cell_type": "code",
   "execution_count": 2,
   "id": "407c84c5-a30e-4406-b832-2fcb5d12fe4e",
   "metadata": {},
   "outputs": [
    {
     "data": {
      "text/plain": [
       "[{'username': 'Andrzej', 'assigned_tasks': 2}]"
      ]
     },
     "execution_count": 2,
     "metadata": {},
     "output_type": "execute_result"
    }
   ],
   "source": [
    "list(filter(lambda user: user[\"assigned_tasks\"] > 1, users))"
   ]
  },
  {
   "cell_type": "markdown",
   "id": "41f1ec79",
   "metadata": {},
   "source": [
    "2. Na podstawie powyższej listy stwórz nową, zawierającą informacje wyłącznie o liczbie zadań przypisanych do poszczególnych użytkowników.\n",
    "\n",
    "Przykład:\n",
    "```python\n",
    "users = [{\"username\": \"Andrzej\", \"assigned_tasks\": 2}, {\"username\": \"Andżela\", \"assigned_tasks\": 1}]\n",
    "\n",
    "assigned_tasks_list = [2, 1]\n",
    "```\n",
    "\n",
    "---\n",
    "\n",
    "(czas: 6 min.)"
   ]
  },
  {
   "cell_type": "code",
   "execution_count": 3,
   "id": "50a9937a",
   "metadata": {},
   "outputs": [
    {
     "data": {
      "text/plain": [
       "[2, 1]"
      ]
     },
     "execution_count": 3,
     "metadata": {},
     "output_type": "execute_result"
    }
   ],
   "source": [
    "list(map(lambda user: user[\"assigned_tasks\"], users))"
   ]
  },
  {
   "cell_type": "markdown",
   "id": "3e4a85ce",
   "metadata": {},
   "source": [
    "## Arguments unpacking, `args`, `kwargs`"
   ]
  },
  {
   "cell_type": "code",
   "execution_count": 9,
   "id": "ab876fa8-6319-4055-99ab-7d3ef1991f6b",
   "metadata": {},
   "outputs": [
    {
     "name": "stdout",
     "output_type": "stream",
     "text": [
      "10\n"
     ]
    }
   ],
   "source": [
    "x = 123\n",
    "\n",
    "def function():\n",
    "    x = 10\n",
    "    print(x)\n",
    "    \n",
    "\n",
    "\n",
    "function()"
   ]
  },
  {
   "cell_type": "code",
   "execution_count": 10,
   "id": "5633ef80-ae82-4fb3-9d44-6c0276f7496d",
   "metadata": {},
   "outputs": [
    {
     "data": {
      "text/plain": [
       "123"
      ]
     },
     "execution_count": 10,
     "metadata": {},
     "output_type": "execute_result"
    }
   ],
   "source": [
    "x"
   ]
  },
  {
   "cell_type": "markdown",
   "id": "b1042eb1",
   "metadata": {},
   "source": [
    "1. Napisz funkcję, która przyjmuje dowolną liczbę argumentów pozycyjnych, które będą wartościami liczbowymi. Funkcja powinna zwracać ich iloczyn.\n",
    "\n",
    "---\n",
    "(czas: 5 min.)"
   ]
  },
  {
   "cell_type": "code",
   "execution_count": 7,
   "id": "6f971984",
   "metadata": {},
   "outputs": [
    {
     "data": {
      "text/plain": [
       "60"
      ]
     },
     "execution_count": 7,
     "metadata": {},
     "output_type": "execute_result"
    }
   ],
   "source": [
    "def calculate_product(*args):\n",
    "    product = 1\n",
    "    for arg in args:\n",
    "        product *= arg\n",
    "        \n",
    "    return product\n",
    "\n",
    "calculate_product(1, 2, 3, 10)"
   ]
  },
  {
   "cell_type": "markdown",
   "id": "871d79de",
   "metadata": {},
   "source": [
    "2. Przepisz funkcję `add_coment()` tak, żeby działała w oparciu o `kwargs`.\n",
    "\n",
    "---\n",
    "(czas: 5 min.)"
   ]
  },
  {
   "cell_type": "code",
   "execution_count": 5,
   "id": "9b7d3c2c",
   "metadata": {},
   "outputs": [
    {
     "data": {
      "text/plain": [
       "{'is_complete': False,\n",
       " 'comments': [{'author': 'Andrzej', 'text': 'Komentarz'}]}"
      ]
     },
     "execution_count": 5,
     "metadata": {},
     "output_type": "execute_result"
    }
   ],
   "source": [
    "task = {\"is_complete\": False, \"comments\": []}\n",
    "comment = {\"author\": \"Andrzej\", \"text\": \"Komentarz\"}\n",
    "\n",
    "\n",
    "def add_comment(**kwargs):\n",
    "    kwargs[\"task\"][\"comments\"].append(kwargs[\"comment\"])\n",
    "    return kwargs[\"task\"]\n",
    "\n",
    "\n",
    "add_comment(task=task, comment=comment)"
   ]
  },
  {
   "cell_type": "code",
   "execution_count": null,
   "id": "c9454a38-300a-4f4e-be2d-0d3e05eecc1e",
   "metadata": {},
   "outputs": [],
   "source": []
  },
  {
   "cell_type": "markdown",
   "id": "e5a7b34d",
   "metadata": {},
   "source": [
    "## Docstring, type annotations"
   ]
  },
  {
   "cell_type": "markdown",
   "id": "0628ded6",
   "metadata": {},
   "source": [
    "1. Napisz docstringi do funkcji:\n",
    "- `my_len()`\n",
    "- `mark_task_as_complete()`\n",
    "- `add_comment()`\n",
    "\n",
    "---\n",
    "(czas: 14 min.)"
   ]
  },
  {
   "cell_type": "code",
   "execution_count": null,
   "id": "91c1fd34",
   "metadata": {},
   "outputs": [],
   "source": [
    "# ..."
   ]
  },
  {
   "cell_type": "markdown",
   "id": "1f476e30",
   "metadata": {},
   "source": [
    "2. Dodaj *type annotations* do funkcji:\n",
    "- `my_len()`\n",
    "- `mark_task_as_complete()`\n",
    "- `add_comment()`\n",
    "\n",
    "---\n",
    "(czas: 10 min.)"
   ]
  },
  {
   "cell_type": "code",
   "execution_count": null,
   "id": "e1b0b9d5",
   "metadata": {},
   "outputs": [],
   "source": [
    "# ..."
   ]
  }
 ],
 "metadata": {
  "kernelspec": {
   "display_name": "Python 3 (ipykernel)",
   "language": "python",
   "name": "python3"
  },
  "language_info": {
   "codemirror_mode": {
    "name": "ipython",
    "version": 3
   },
   "file_extension": ".py",
   "mimetype": "text/x-python",
   "name": "python",
   "nbconvert_exporter": "python",
   "pygments_lexer": "ipython3",
   "version": "3.11.5"
  },
  "toc": {
   "base_numbering": 1,
   "nav_menu": {},
   "number_sections": true,
   "sideBar": true,
   "skip_h1_title": true,
   "title_cell": "Table of Contents",
   "title_sidebar": "Contents",
   "toc_cell": false,
   "toc_position": {},
   "toc_section_display": true,
   "toc_window_display": false
  },
  "varInspector": {
   "cols": {
    "lenName": 16,
    "lenType": 16,
    "lenVar": 40
   },
   "kernels_config": {
    "python": {
     "delete_cmd_postfix": "",
     "delete_cmd_prefix": "del ",
     "library": "var_list.py",
     "varRefreshCmd": "print(var_dic_list())"
    },
    "r": {
     "delete_cmd_postfix": ") ",
     "delete_cmd_prefix": "rm(",
     "library": "var_list.r",
     "varRefreshCmd": "cat(var_dic_list()) "
    }
   },
   "types_to_exclude": [
    "module",
    "function",
    "builtin_function_or_method",
    "instance",
    "_Feature"
   ],
   "window_display": false
  }
 },
 "nbformat": 4,
 "nbformat_minor": 5
}
