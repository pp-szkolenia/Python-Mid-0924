{
 "cells": [
  {
   "cell_type": "markdown",
   "id": "1a031e3e",
   "metadata": {},
   "source": [
    "# Logowanie"
   ]
  },
  {
   "cell_type": "markdown",
   "id": "a69a6261",
   "metadata": {},
   "source": [
    "1. Stwórz klasę `Calculator`, która będzie posiadała cztery metody:\n",
    "- `add`\n",
    "- `subtract`\n",
    "- `multiply`\n",
    "- `divide`\n",
    "\n",
    "Napisz krótki skrypt, w którym przetestujesz funkcjonalności tej klasy. Dodaj do tego logowanie z uwzględnieniem:\n",
    "- stworzenia własnego loggera\n",
    "- dodania dwóch handlerów - do pliku oraz stdout\n",
    "- każdy handler powinien mieć inne formatowanie\n",
    "- każdy handler powinien mieć ustawiony inny poziom logowania\n",
    "- w przypadku błędów chcemy zalogować traceback\n",
    "\n",
    "---\n",
    "(czas: 30 min.)"
   ]
  },
  {
   "cell_type": "code",
   "execution_count": 1,
   "id": "de25b967",
   "metadata": {},
   "outputs": [],
   "source": [
    "# ..."
   ]
  },
  {
   "cell_type": "markdown",
   "id": "562d9887",
   "metadata": {},
   "source": [
    "2. Dodaj logowanie do stworzonego wcześniej narzędzia CLI. Niech logowanie uwzględnia wyłącznie zapis do pliku (żeby nie wpływać na działanie CLI) i niech działa w trybie append a także zawiera informacje o dacie i godzinie. Poziom loggera niech wynosi DEBUG a poziom handlera - INFO.\n",
    "\n",
    "---\n",
    "(czas: 30 min.)"
   ]
  },
  {
   "cell_type": "code",
   "execution_count": 2,
   "id": "6029f2c6",
   "metadata": {},
   "outputs": [],
   "source": [
    "# ..."
   ]
  }
 ],
 "metadata": {
  "kernelspec": {
   "display_name": "Python 3 (ipykernel)",
   "language": "python",
   "name": "python3"
  },
  "language_info": {
   "codemirror_mode": {
    "name": "ipython",
    "version": 3
   },
   "file_extension": ".py",
   "mimetype": "text/x-python",
   "name": "python",
   "nbconvert_exporter": "python",
   "pygments_lexer": "ipython3",
   "version": "3.11.5"
  },
  "toc": {
   "base_numbering": 1,
   "nav_menu": {},
   "number_sections": true,
   "sideBar": true,
   "skip_h1_title": true,
   "title_cell": "Table of Contents",
   "title_sidebar": "Contents",
   "toc_cell": false,
   "toc_position": {},
   "toc_section_display": true,
   "toc_window_display": false
  },
  "varInspector": {
   "cols": {
    "lenName": 16,
    "lenType": 16,
    "lenVar": 40
   },
   "kernels_config": {
    "python": {
     "delete_cmd_postfix": "",
     "delete_cmd_prefix": "del ",
     "library": "var_list.py",
     "varRefreshCmd": "print(var_dic_list())"
    },
    "r": {
     "delete_cmd_postfix": ") ",
     "delete_cmd_prefix": "rm(",
     "library": "var_list.r",
     "varRefreshCmd": "cat(var_dic_list()) "
    }
   },
   "types_to_exclude": [
    "module",
    "function",
    "builtin_function_or_method",
    "instance",
    "_Feature"
   ],
   "window_display": false
  }
 },
 "nbformat": 4,
 "nbformat_minor": 5
}
