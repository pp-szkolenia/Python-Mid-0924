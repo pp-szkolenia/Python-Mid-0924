{
 "cells": [
  {
   "cell_type": "markdown",
   "id": "7c4950ec",
   "metadata": {},
   "source": [
    "# Testy"
   ]
  },
  {
   "cell_type": "markdown",
   "id": "2851b2c0",
   "metadata": {},
   "source": [
    "1. Napisz klasę testową, która przetestuje poniższe funkcje. Użyj mockowania funkcji generującej liczby pseudolosowe, tak żeby mieć pewność co do wylosowanej wartości.\n",
    "\n",
    "---\n",
    "(czas: 30 min.)"
   ]
  },
  {
   "cell_type": "code",
   "execution_count": 42,
   "id": "a83bd130",
   "metadata": {},
   "outputs": [],
   "source": [
    "import random\n",
    "\n",
    "\n",
    "def kelvin_to_celsius(temp_k):\n",
    "    if temp_k < 0:\n",
    "        raise ValueError(\"Negative temperature in Kelvin\")\n",
    "    \n",
    "    if not isinstance(temp_k, (int, float)):\n",
    "        raise TypeError(\"Invalid type\")\n",
    "        \n",
    "    return temp_k - 273.15\n",
    "\n",
    "\n",
    "def check_if_greater(x):\n",
    "    if not isinstance(x, (int, float)):\n",
    "        raise TypeError(\"Invalid type\")\n",
    "        \n",
    "    random_number = random.random()\n",
    "    if x > random_number:\n",
    "        return \"Number is greater than random\"\n",
    "    elif x < random_number:\n",
    "        return \"Number is less than random\"\n",
    "    else:\n",
    "        return \"Number is equal to random\"\n",
    "    \n",
    "    \n",
    "def calculate_rectangle_area(a, b):\n",
    "    if not isinstance(a, (int, float)):\n",
    "        raise TypeError(\"Invalid type of a\")\n",
    "        \n",
    "    if not isinstance(b, (int, float)):\n",
    "        raise TypeError(\"Invalid type of b\")\n",
    "        \n",
    "    if a <= 0 or b <= 0:\n",
    "        return None\n",
    "    \n",
    "    return a*b"
   ]
  },
  {
   "cell_type": "code",
   "execution_count": null,
   "id": "05573e2d",
   "metadata": {},
   "outputs": [],
   "source": []
  }
 ],
 "metadata": {
  "kernelspec": {
   "display_name": "Python 3 (ipykernel)",
   "language": "python",
   "name": "python3"
  },
  "language_info": {
   "codemirror_mode": {
    "name": "ipython",
    "version": 3
   },
   "file_extension": ".py",
   "mimetype": "text/x-python",
   "name": "python",
   "nbconvert_exporter": "python",
   "pygments_lexer": "ipython3",
   "version": "3.11.5"
  },
  "toc": {
   "base_numbering": 1,
   "nav_menu": {},
   "number_sections": true,
   "sideBar": true,
   "skip_h1_title": true,
   "title_cell": "Table of Contents",
   "title_sidebar": "Contents",
   "toc_cell": false,
   "toc_position": {},
   "toc_section_display": true,
   "toc_window_display": false
  },
  "varInspector": {
   "cols": {
    "lenName": 16,
    "lenType": 16,
    "lenVar": 40
   },
   "kernels_config": {
    "python": {
     "delete_cmd_postfix": "",
     "delete_cmd_prefix": "del ",
     "library": "var_list.py",
     "varRefreshCmd": "print(var_dic_list())"
    },
    "r": {
     "delete_cmd_postfix": ") ",
     "delete_cmd_prefix": "rm(",
     "library": "var_list.r",
     "varRefreshCmd": "cat(var_dic_list()) "
    }
   },
   "types_to_exclude": [
    "module",
    "function",
    "builtin_function_or_method",
    "instance",
    "_Feature"
   ],
   "window_display": false
  }
 },
 "nbformat": 4,
 "nbformat_minor": 5
}
