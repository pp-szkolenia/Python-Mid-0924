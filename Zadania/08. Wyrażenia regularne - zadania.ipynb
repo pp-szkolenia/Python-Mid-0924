{
 "cells": [
  {
   "cell_type": "markdown",
   "id": "263ec739",
   "metadata": {},
   "source": [
    "# Wyrażenia regularne\n",
    "\n",
    "```\n",
    "To jest przykładowy tekst do ćwiczeń z wyrażeń regularnych! #regex\n",
    "\n",
    "Email: user@example.com\n",
    "Telefon: 123-456-789\n",
    "\n",
    "Lorem ipsum dolor sit amet, consectetur adipiscing elit. 42 In hac habitasse platea dictumst. @SpecialChar\n",
    "\n",
    "Data: 2023-11-04\n",
    "https://www.example.com\n",
    "\n",
    "Znaki specjalne: !@#$%^&*()\n",
    "\n",
    "(123) 456-7890\n",
    "\n",
    "#regex #python #learningRegex\n",
    "```"
   ]
  },
  {
   "cell_type": "markdown",
   "id": "b53e49f2",
   "metadata": {},
   "source": [
    "## Proste patterny, znaki specjalne\n",
    "\n",
    "1. Skopiuj treść powyższego tekstu i przypisz go do zmiennej. Następnie wyszukaj w tekście wszystkie:\n",
    "- cyfry\n",
    "- ciągi cyfr o długości od 2 do 4 włącznie (użyj odpowiednich quantifierów)\n",
    "- hashtagi (czyli sekwencje znaków, które zaczynają się od hasha, po którym następuje pewna liczba 'word charachters')\n",
    "- daty (4 cyfry, myślnik, 2 cyfry, myślnik, 2 cyfry)\n",
    "\n",
    "\n",
    "---\n",
    "(czas: 14 min.)"
   ]
  },
  {
   "cell_type": "code",
   "execution_count": null,
   "id": "e928d38c",
   "metadata": {},
   "outputs": [],
   "source": [
    "# ..."
   ]
  },
  {
   "cell_type": "markdown",
   "id": "2acf1d81",
   "metadata": {},
   "source": [
    "2. Poświęć kilka minut na samodzielne eksperymenty z regexami.\n",
    "\n",
    "---\n",
    "(czas: 6 min.)"
   ]
  },
  {
   "cell_type": "code",
   "execution_count": null,
   "id": "444d7e32",
   "metadata": {},
   "outputs": [],
   "source": [
    "# ..."
   ]
  },
  {
   "cell_type": "markdown",
   "id": "e7444a9a",
   "metadata": {},
   "source": [
    "## Złożone patterny, biblioteka `re`"
   ]
  },
  {
   "cell_type": "markdown",
   "id": "9d88f808",
   "metadata": {},
   "source": [
    "1. Napisz funkcję, która przyjmie dowolnego stringa a następnie oceni czy jest to numer telefonu zwracając wartość logiczną.\n",
    "\n",
    "Podejmij decyzję, jaki format powinien mieć taki numer. Możesz przyjąć, że pomiędzy każdą trójką cyfr może (ale nie musi) znajdować się myślnik.\n",
    "\n",
    "---\n",
    "(czas: 10 min.)"
   ]
  },
  {
   "cell_type": "code",
   "execution_count": null,
   "id": "822d722c",
   "metadata": {},
   "outputs": [],
   "source": [
    "# ..."
   ]
  },
  {
   "cell_type": "markdown",
   "id": "232c2d04",
   "metadata": {},
   "source": [
    "2. Wynik funkcji hashującej SHA-256 to ciąg 64 znaków, z czego każdy jest cyfrą w systemie szesnastkowym z zakresu [0-f] (a - 10, b - 11, ..., f - 15).\n",
    "\n",
    "Napisz funkcję, która za pomocą wyrażenia regularnego sprawdzi, czy dowolny string jest wynikiem działania takiej funkcji.\n",
    "\n",
    "---\n",
    "(czas: 8 min.)"
   ]
  },
  {
   "cell_type": "code",
   "execution_count": null,
   "id": "be27455b",
   "metadata": {},
   "outputs": [],
   "source": [
    "# ..."
   ]
  },
  {
   "cell_type": "markdown",
   "id": "7d4a984e",
   "metadata": {},
   "source": [
    "3. Napisz funkcję, która w tekście znajdzie wszystkie wystąpienia kodów pocztowych i zwróci jest w postaci listy stringów. Przyjmij, że na każdej pozycji kodu może być dowolna cyfra oraz że kod musi zawierać myślnik.\n",
    "\n",
    "---\n",
    "(czas: 7 min.)"
   ]
  },
  {
   "cell_type": "code",
   "execution_count": null,
   "id": "ec63bf97",
   "metadata": {},
   "outputs": [],
   "source": [
    "# ..."
   ]
  }
 ],
 "metadata": {
  "kernelspec": {
   "display_name": "Python 3 (ipykernel)",
   "language": "python",
   "name": "python3"
  },
  "language_info": {
   "codemirror_mode": {
    "name": "ipython",
    "version": 3
   },
   "file_extension": ".py",
   "mimetype": "text/x-python",
   "name": "python",
   "nbconvert_exporter": "python",
   "pygments_lexer": "ipython3",
   "version": "3.11.5"
  },
  "toc": {
   "base_numbering": 1,
   "nav_menu": {},
   "number_sections": true,
   "sideBar": true,
   "skip_h1_title": true,
   "title_cell": "Table of Contents",
   "title_sidebar": "Contents",
   "toc_cell": false,
   "toc_position": {},
   "toc_section_display": true,
   "toc_window_display": false
  },
  "varInspector": {
   "cols": {
    "lenName": 16,
    "lenType": 16,
    "lenVar": 40
   },
   "kernels_config": {
    "python": {
     "delete_cmd_postfix": "",
     "delete_cmd_prefix": "del ",
     "library": "var_list.py",
     "varRefreshCmd": "print(var_dic_list())"
    },
    "r": {
     "delete_cmd_postfix": ") ",
     "delete_cmd_prefix": "rm(",
     "library": "var_list.r",
     "varRefreshCmd": "cat(var_dic_list()) "
    }
   },
   "types_to_exclude": [
    "module",
    "function",
    "builtin_function_or_method",
    "instance",
    "_Feature"
   ],
   "window_display": false
  }
 },
 "nbformat": 4,
 "nbformat_minor": 5
}
