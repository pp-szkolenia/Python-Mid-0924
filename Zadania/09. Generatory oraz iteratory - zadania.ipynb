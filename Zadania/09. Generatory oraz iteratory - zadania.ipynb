{
 "cells": [
  {
   "cell_type": "markdown",
   "id": "c0d50c5e-69e1-46af-943d-0273a806f32d",
   "metadata": {},
   "source": [
    "# Generatory oraz iteratory\n",
    "\n",
    "## Generatory"
   ]
  },
  {
   "cell_type": "markdown",
   "id": "f35d7261-7326-44aa-a8b2-19dce77ba4c9",
   "metadata": {},
   "source": [
    "### yield, next"
   ]
  },
  {
   "cell_type": "markdown",
   "id": "a6cb84a1-d5c2-41cd-accc-64fa17a96e95",
   "metadata": {},
   "source": [
    "1. Stwórz generator, ktory bedzie przyjmował jako argument liczbę całkowitą `n`. Niech yielduje elementy o treści \"element o indeksie `<x>`\" (gdzie `<x>` to liczba między 0 `n`).\n",
    "\n",
    "Przed zwróceniem każdego elementu zatrzymaj program na sekundę funkcją `time.sleep()`.\n",
    "\n",
    "---\n",
    "\n",
    "(czas: 6 min.)"
   ]
  },
  {
   "cell_type": "code",
   "execution_count": 1,
   "id": "923a02e5-bd31-4ed8-b3ea-edfc591dfd65",
   "metadata": {},
   "outputs": [
    {
     "name": "stdout",
     "output_type": "stream",
     "text": [
      "element o indeksie 0\n",
      "element o indeksie 1\n",
      "element o indeksie 2\n",
      "element o indeksie 3\n",
      "element o indeksie 4\n"
     ]
    }
   ],
   "source": [
    "import time\n",
    "\n",
    "def index_generator(n):\n",
    "    for i in range(n):\n",
    "        time.sleep(1)\n",
    "        yield f\"element o indeksie {i}\"\n",
    "\n",
    "\n",
    "for element in index_generator(5):\n",
    "    print(element)"
   ]
  },
  {
   "cell_type": "markdown",
   "id": "0e611957-c251-4359-8f06-97829fb167e2",
   "metadata": {},
   "source": [
    "### `__iter__`, `__next__`, generator expression, generator nieskończony"
   ]
  },
  {
   "cell_type": "markdown",
   "id": "74900d8d-1adb-4c6a-91c7-4bd6c32d4240",
   "metadata": {},
   "source": [
    "1. Stwórz generator, który będzie podawał nieskończenie wiele liczb parzystych. Przetestuj go pobierając z niego kolejne wartości i wyświetlając je w konsoli.\n",
    "\n",
    "---\n",
    "(czas: 7 min.)"
   ]
  },
  {
   "cell_type": "code",
   "execution_count": 18,
   "id": "8d505732-fd75-4c16-8995-814f8f615405",
   "metadata": {},
   "outputs": [],
   "source": [
    "import time"
   ]
  },
  {
   "cell_type": "code",
   "execution_count": 19,
   "id": "c15db8e4-0b56-47dc-ac58-85528e2c054c",
   "metadata": {},
   "outputs": [],
   "source": [
    "def even_numbers_generator():\n",
    "    n = 0\n",
    "    while True:\n",
    "        yield n\n",
    "        n += 2\n",
    "        time.sleep(1)\n",
    "\n",
    "\n",
    "even_numbers = even_numbers_generator()"
   ]
  },
  {
   "cell_type": "code",
   "execution_count": 20,
   "id": "bd09b94a-e5ea-458c-ad12-5c954a474e31",
   "metadata": {},
   "outputs": [
    {
     "name": "stdout",
     "output_type": "stream",
     "text": [
      "0\n",
      "2\n",
      "4\n",
      "6\n",
      "8\n",
      "10\n",
      "12\n",
      "14\n",
      "16\n",
      "18\n",
      "20\n",
      "22\n",
      "24\n",
      "26\n",
      "28\n",
      "30\n",
      "32\n",
      "34\n",
      "36\n",
      "38\n",
      "40\n",
      "42\n",
      "44\n"
     ]
    },
    {
     "ename": "KeyboardInterrupt",
     "evalue": "",
     "output_type": "error",
     "traceback": [
      "\u001b[0;31m---------------------------------------------------------------------------\u001b[0m",
      "\u001b[0;31mKeyboardInterrupt\u001b[0m                         Traceback (most recent call last)",
      "Cell \u001b[0;32mIn[20], line 1\u001b[0m\n\u001b[0;32m----> 1\u001b[0m \u001b[38;5;28;01mfor\u001b[39;00m number \u001b[38;5;129;01min\u001b[39;00m even_numbers:\n\u001b[1;32m      2\u001b[0m     \u001b[38;5;28mprint\u001b[39m(number)\n",
      "Cell \u001b[0;32mIn[19], line 6\u001b[0m, in \u001b[0;36meven_numbers_generator\u001b[0;34m()\u001b[0m\n\u001b[1;32m      4\u001b[0m \u001b[38;5;28;01myield\u001b[39;00m n\n\u001b[1;32m      5\u001b[0m n \u001b[38;5;241m+\u001b[39m\u001b[38;5;241m=\u001b[39m \u001b[38;5;241m2\u001b[39m\n\u001b[0;32m----> 6\u001b[0m time\u001b[38;5;241m.\u001b[39msleep(\u001b[38;5;241m1\u001b[39m)\n",
      "\u001b[0;31mKeyboardInterrupt\u001b[0m: "
     ]
    }
   ],
   "source": [
    "for number in even_numbers:\n",
    "    print(number)"
   ]
  },
  {
   "cell_type": "markdown",
   "id": "e27d8e3e-db03-4743-ad33-5c0fbed9eac6",
   "metadata": {},
   "source": [
    "2. Stwórz generator, który będzie zwracał kolejne wartości silni liczb naturalnych. Użyj nieskończonej pętli while.\n",
    "\n",
    "---\n",
    "(czas: 8 min.)"
   ]
  },
  {
   "cell_type": "code",
   "execution_count": 4,
   "id": "514252ea-d8bd-43b0-bb6c-a5ccc3ca5ccb",
   "metadata": {},
   "outputs": [],
   "source": [
    "# ..."
   ]
  },
  {
   "cell_type": "markdown",
   "id": "5a53b70b-0255-4f81-bbe0-5033b3232e55",
   "metadata": {},
   "source": [
    "## Iteratory"
   ]
  },
  {
   "cell_type": "markdown",
   "id": "897f81e8-5292-4822-9c60-194b3e115d11",
   "metadata": {},
   "source": [
    "1. Napisz iterator, który będzie odwzorowywał działanie generatora liczb parzystych z poprzedniego zadania.\n",
    "\n",
    "---\n",
    "\n",
    "(czas: 12 min.)"
   ]
  },
  {
   "cell_type": "code",
   "execution_count": 5,
   "id": "0a6a67f3-4bf8-471e-af2b-32a2f8a25456",
   "metadata": {},
   "outputs": [],
   "source": [
    "# ..."
   ]
  },
  {
   "cell_type": "markdown",
   "id": "84153624-820d-4039-a041-695f2a7e7525",
   "metadata": {},
   "source": [
    "2. Napisz iterator, który będzie odwzorowywał działanie generatora silni z poprzedniego zadania.\n",
    "\n",
    "---\n",
    "\n",
    "(czas: 12 min.)"
   ]
  },
  {
   "cell_type": "code",
   "execution_count": 6,
   "id": "d9e5ba63-2ed8-44f8-9b08-01a58a2e1f6a",
   "metadata": {},
   "outputs": [],
   "source": [
    "# ..."
   ]
  }
 ],
 "metadata": {
  "kernelspec": {
   "display_name": "Python 3 (ipykernel)",
   "language": "python",
   "name": "python3"
  },
  "language_info": {
   "codemirror_mode": {
    "name": "ipython",
    "version": 3
   },
   "file_extension": ".py",
   "mimetype": "text/x-python",
   "name": "python",
   "nbconvert_exporter": "python",
   "pygments_lexer": "ipython3",
   "version": "3.11.5"
  }
 },
 "nbformat": 4,
 "nbformat_minor": 5
}
