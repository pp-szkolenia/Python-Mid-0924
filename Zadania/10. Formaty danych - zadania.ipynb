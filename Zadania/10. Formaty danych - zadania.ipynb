{
 "cells": [
  {
   "cell_type": "markdown",
   "id": "314360cb-820b-42fd-b3f2-ab29e54780b3",
   "metadata": {},
   "source": [
    "# Formaty danych"
   ]
  },
  {
   "cell_type": "markdown",
   "id": "6dea3cfb-513a-4686-845c-dc78a4c48c70",
   "metadata": {},
   "source": [
    "## JSON"
   ]
  },
  {
   "cell_type": "markdown",
   "id": "de84d511-3ea2-4d29-a0ce-696ebee95daa",
   "metadata": {},
   "source": [
    "1. Stwórz strukturę JSON, która będzie miała klucze `\"tasks\"` oraz `\"users\"` a pod nimi znajdą się listy słowników reprezentujących taski oraz userów. Zapisz obiekt do pliku .json.\n",
    "\n",
    "---\n",
    "(czas: 5 min.)"
   ]
  },
  {
   "cell_type": "code",
   "execution_count": null,
   "id": "23d7ef1e-a637-4b1f-86e1-d2c7de482afa",
   "metadata": {},
   "outputs": [],
   "source": [
    "# ..."
   ]
  },
  {
   "cell_type": "markdown",
   "id": "598c6d32-9376-459b-a636-d828d94ae1fe",
   "metadata": {},
   "source": [
    "2. Wczytaj zapisany przed chwilą plik do zmiennej i wyciągnij z niego taski oraz userów do osobnych zmiennych\n",
    "\n",
    "---\n",
    "(czas: 3 min.)"
   ]
  },
  {
   "cell_type": "code",
   "execution_count": null,
   "id": "2bc8566c-5164-47ea-9586-485e9f95b913",
   "metadata": {},
   "outputs": [],
   "source": [
    "# ..."
   ]
  },
  {
   "cell_type": "markdown",
   "id": "1cc8d8e6-3aab-443e-b312-3f1c0eb1ccea",
   "metadata": {},
   "source": [
    "## CSV"
   ]
  },
  {
   "cell_type": "markdown",
   "id": "98ae6e75-162a-4247-9c09-43a09a784bd6",
   "metadata": {},
   "source": [
    "1. Obydwie zmienne z poprzedniego zadania zapisz do plików .csv o odpowiednich nazwach. Pamiętaj o zamieszczeniu nagłówków.\n",
    "\n",
    "---\n",
    "(czas: 9 min.)"
   ]
  },
  {
   "cell_type": "code",
   "execution_count": null,
   "id": "0bbb2dd2-b4a0-401d-8b83-512822ba1d68",
   "metadata": {},
   "outputs": [],
   "source": [
    "# ..."
   ]
  },
  {
   "cell_type": "markdown",
   "id": "d439fbfc-6544-44f0-afba-4627e900113f",
   "metadata": {},
   "source": [
    "2. Wczytaj z powrotem dane z plików .csv i stwórz z nich listy słowników.\n",
    "\n",
    "---\n",
    "(czas: 6 min.)"
   ]
  },
  {
   "cell_type": "code",
   "execution_count": null,
   "id": "3e285aec-4247-4179-9d03-98ef8b8f1c98",
   "metadata": {},
   "outputs": [],
   "source": [
    "# ..."
   ]
  },
  {
   "cell_type": "markdown",
   "id": "0217054b-648d-451a-b2c4-dab8c3e63842",
   "metadata": {},
   "source": [
    "## TOML"
   ]
  },
  {
   "cell_type": "markdown",
   "id": "3efbc958-5efb-4c73-8edf-318e2bce3dc4",
   "metadata": {},
   "source": [
    "1. Strukturę JSON z pierwszego zadania zapisz do pliku .toml.\n",
    "\n",
    "---\n",
    "(czas: 3 min.)"
   ]
  },
  {
   "cell_type": "code",
   "execution_count": null,
   "id": "94275170-be55-489f-b4d7-3e30b58c07eb",
   "metadata": {},
   "outputs": [],
   "source": [
    "# ..."
   ]
  },
  {
   "cell_type": "markdown",
   "id": "fd5d0f99-2925-4ea8-abee-90a7d87b5ac2",
   "metadata": {},
   "source": [
    "2. Wczytaj z powrotem dane z pliku .toml.\n",
    "\n",
    "---\n",
    "(czas: 3 min.)"
   ]
  },
  {
   "cell_type": "code",
   "execution_count": null,
   "id": "7b2c588e-3531-4edf-921d-22253073e83c",
   "metadata": {},
   "outputs": [],
   "source": [
    "# ..."
   ]
  },
  {
   "cell_type": "markdown",
   "id": "f8478625-2175-42a0-94a8-fdb18268d7e1",
   "metadata": {},
   "source": [
    "## pickle"
   ]
  },
  {
   "cell_type": "markdown",
   "id": "8d650bac-77cf-48bc-a36a-c76b66a225d8",
   "metadata": {},
   "source": [
    "1. Strukturę JSON z pierwszego zadania zapisz do pliku .pickle.\n",
    "\n",
    "---\n",
    "(czas: 3 min.)"
   ]
  },
  {
   "cell_type": "code",
   "execution_count": null,
   "id": "af7185d6-be10-4ceb-b02d-741476e02525",
   "metadata": {},
   "outputs": [],
   "source": [
    "# ..."
   ]
  },
  {
   "cell_type": "markdown",
   "id": "835ca580-c807-4cb8-af33-f9aac68a1a6e",
   "metadata": {},
   "source": [
    "2. Wczytaj z powrotem dane z pliku .pickle.\n",
    "\n",
    "---\n",
    "(czas: 3 min.)"
   ]
  },
  {
   "cell_type": "code",
   "execution_count": null,
   "id": "524b9451-0e6a-461d-bec1-d79415ec5616",
   "metadata": {},
   "outputs": [],
   "source": [
    "# ..."
   ]
  },
  {
   "cell_type": "markdown",
   "id": "17e1f3f6-219b-4a9d-b2e2-a4fd735ac437",
   "metadata": {},
   "source": [
    "## Excel"
   ]
  },
  {
   "cell_type": "markdown",
   "id": "9b07c637-3f1f-4e2a-9f96-2df7be217c62",
   "metadata": {},
   "source": [
    "1. Zapisz dane do pliku .xlsx w sposób, który uznasz za sensowny.\n",
    "\n",
    "---\n",
    "(czas: 12 min.)"
   ]
  },
  {
   "cell_type": "code",
   "execution_count": null,
   "id": "92a007d7-e8a0-4b22-b45e-f35c0f4f09eb",
   "metadata": {},
   "outputs": [],
   "source": [
    "# ..."
   ]
  },
  {
   "cell_type": "markdown",
   "id": "b4f1ec46-0441-415d-88bf-5ffc41fdecdd",
   "metadata": {},
   "source": [
    "2. Pobierz dane z pliku .xlsx i zapisz do zmiennej.\n",
    "\n",
    "---\n",
    "(czas: 10 min.)"
   ]
  },
  {
   "cell_type": "code",
   "execution_count": null,
   "id": "c5e77402-d7d2-4289-945e-c5d2eb8c4e42",
   "metadata": {},
   "outputs": [],
   "source": [
    "# ..."
   ]
  }
 ],
 "metadata": {
  "kernelspec": {
   "display_name": "Python 3 (ipykernel)",
   "language": "python",
   "name": "python3"
  },
  "language_info": {
   "codemirror_mode": {
    "name": "ipython",
    "version": 3
   },
   "file_extension": ".py",
   "mimetype": "text/x-python",
   "name": "python",
   "nbconvert_exporter": "python",
   "pygments_lexer": "ipython3",
   "version": "3.11.5"
  }
 },
 "nbformat": 4,
 "nbformat_minor": 5
}
