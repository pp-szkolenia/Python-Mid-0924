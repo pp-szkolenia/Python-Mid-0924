{
 "cells": [
  {
   "cell_type": "markdown",
   "id": "cda04d5c-a1cb-4b73-a0da-816cad6d523f",
   "metadata": {},
   "source": [
    "A - tworzy komórkę powyżej\n",
    "\n",
    "B - tworzy poniżej\n",
    "\n",
    "X - usuwa\n",
    "\n",
    "Z - cofa usuniecie\n",
    "\n",
    "Shift - Enter (ctrl, alt) - uruchamia\n",
    "\n",
    "M - markdown\n",
    "\n",
    "Y - kod\n",
    "\n",
    "Enter - wchodzimy\n",
    "\n",
    "Escape - wychdzimy z komórki\n",
    "\n",
    "Strzałki góra doł - poruszamy się po notebooku"
   ]
  },
  {
   "cell_type": "code",
   "execution_count": null,
   "id": "f74cfecc-830d-45bf-8abf-0d86141ee262",
   "metadata": {},
   "outputs": [],
   "source": []
  },
  {
   "cell_type": "code",
   "execution_count": 12,
   "id": "737e468f-7884-410c-ad03-4adf0662e217",
   "metadata": {},
   "outputs": [
    {
     "data": {
      "text/plain": [
       "2905"
      ]
     },
     "execution_count": 12,
     "metadata": {},
     "output_type": "execute_result"
    }
   ],
   "source": [
    "x = 12*242 + 1\n",
    "x"
   ]
  },
  {
   "cell_type": "code",
   "execution_count": 13,
   "id": "a2049950-b19e-4e11-a9ee-1c7f51db5cc7",
   "metadata": {},
   "outputs": [
    {
     "data": {
      "text/plain": [
       "2"
      ]
     },
     "execution_count": 13,
     "metadata": {},
     "output_type": "execute_result"
    }
   ],
   "source": [
    "y = 2\n",
    "y"
   ]
  },
  {
   "cell_type": "markdown",
   "id": "af2138e2-3b46-4b4b-81af-dfe179b36bc5",
   "metadata": {},
   "source": [
    "# Nagłówek markdown\n",
    "## Kolejny nagłówek"
   ]
  },
  {
   "cell_type": "markdown",
   "id": "024993c5-b460-4e7b-b0d8-719bd9f77e1b",
   "metadata": {},
   "source": [
    "tekst w markdown\n",
    "\n",
    "- wypunktowana\n",
    "- lista"
   ]
  },
  {
   "cell_type": "markdown",
   "id": "32424f3f-24fb-46ac-9761-3fd32fdaf008",
   "metadata": {},
   "source": [
    "tekst"
   ]
  },
  {
   "cell_type": "code",
   "execution_count": null,
   "id": "c319d30f-e77a-4d03-b943-d5a545c89b17",
   "metadata": {},
   "outputs": [],
   "source": []
  }
 ],
 "metadata": {
  "kernelspec": {
   "display_name": "Python 3 (ipykernel)",
   "language": "python",
   "name": "python3"
  },
  "language_info": {
   "codemirror_mode": {
    "name": "ipython",
    "version": 3
   },
   "file_extension": ".py",
   "mimetype": "text/x-python",
   "name": "python",
   "nbconvert_exporter": "python",
   "pygments_lexer": "ipython3",
   "version": "3.11.5"
  }
 },
 "nbformat": 4,
 "nbformat_minor": 5
}
